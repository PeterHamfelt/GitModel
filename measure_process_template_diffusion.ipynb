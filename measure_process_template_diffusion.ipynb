{
  "nbformat": 4,
  "nbformat_minor": 0,
  "metadata": {
    "colab": {
      "provenance": [],
      "authorship_tag": "ABX9TyMg0gr5eT3DEQi4rKi199n8",
      "include_colab_link": true
    },
    "kernelspec": {
      "name": "python3",
      "display_name": "Python 3"
    },
    "language_info": {
      "name": "python"
    }
  },
  "cells": [
    {
      "cell_type": "markdown",
      "metadata": {
        "id": "view-in-github",
        "colab_type": "text"
      },
      "source": [
        "<a href=\"https://colab.research.google.com/github/danielpatrickhug/GitModel/blob/add_category_decomposition/measure_process_template_diffusion.ipynb\" target=\"_parent\"><img src=\"https://colab.research.google.com/assets/colab-badge.svg\" alt=\"Open In Colab\"/></a>"
      ]
    },
    {
      "cell_type": "markdown",
      "source": [],
      "metadata": {
        "id": "kC_-Xx23kH_a"
      }
    },
    {
      "cell_type": "code",
      "execution_count": null,
      "metadata": {
        "id": "NjehWgVkKLHy"
      },
      "outputs": [],
      "source": [
        "import numpy as np\n",
        "import scipy.stats as si\n",
        "\n",
        "# Parameters: S: Underlying asset price, K: Strike price, T: Time to expiration,\n",
        "# r: Risk-free rate, sigma: Volatility, option_type: 'call' or 'put'\n",
        "\n",
        "# Morphism f: (S, P) -> O\n",
        "def black_scholes(S, K, T, r, sigma, option_type):\n",
        "    d1 = (np.log(S / K) + (r + 0.5 * sigma ** 2) * T) / (sigma * np.sqrt(T))\n",
        "    d2 = d1 - sigma * np.sqrt(T)\n",
        "    \n",
        "    if option_type == 'call':\n",
        "        option_price = S * si.norm.cdf(d1) - K * np.exp(-r * T) * si.norm.cdf(d2)\n",
        "    elif option_type == 'put':\n",
        "        option_price = K * np.exp(-r * T) * si.norm.cdf(-d2) - S * si.norm.cdf(-d1)\n",
        "    else:\n",
        "        raise ValueError(\"option_type must be either 'call' or 'put'\")\n",
        "    \n",
        "    return option_price\n",
        "\n",
        "# Morphism g: (O, P) -> S (Estimation of S from O, an inverse function)\n",
        "# Note: This function is a simplified estimation of the underlying asset price\n",
        "# based on option price and parameters. It's an illustrative example, not a rigorous method.\n",
        "def estimate_asset_price_from_option(option_price, K, T, r, sigma, option_type):\n",
        "    if option_type == 'call':\n",
        "        S = (option_price + K * np.exp(-r * T)) / si.norm.cdf(sigma * np.sqrt(T))\n",
        "    elif option_type == 'put':\n",
        "        S = (K * np.exp(-r * T) - option_price) / si.norm.cdf(-sigma * np.sqrt(T))\n",
        "    else:\n",
        "        raise ValueError(\"option_type must be either 'call' or 'put'\")\n",
        "    \n",
        "    return S\n",
        "\n",
        "# Composition h: (S, P) -> S\n",
        "def option_pricing_process(S, K, T, r, sigma, option_type):\n",
        "    option_price = black_scholes(S, K, T, r, sigma, option_type)\n",
        "    estimated_S = estimate_asset_price_from_option(option_price, K, T, r, sigma, option_type)\n",
        "    return estimated_S\n",
        "\n"
      ]
    },
    {
      "cell_type": "markdown",
      "source": [
        "A conversation with gpt LISP category theory templating -> python.\n",
        "- option_pricing_process was the root idea\n",
        "- I asked the model to generalize the template to several domains"
      ],
      "metadata": {
        "id": "6b0dLPcztyrU"
      }
    },
    {
      "cell_type": "markdown",
      "source": [
        "The estimate_temperature_from_wind_speed function now uses the Obukhov length and friction velocity to estimate the surface temperature based on the wind speed, atmospheric pressure, and humidity. The von Karman constant, air density, and specific heat capacity of air are also included in the calculation. These additional parameters and calculations make the estimation more rigorous and accurate. However, it's worth noting that this is still a simplified model and not intended for use in critical applications such as weather forecasting."
      ],
      "metadata": {
        "id": "STDrAYgCrbIe"
      }
    },
    {
      "cell_type": "code",
      "source": [
        "import numpy as np\n",
        "import scipy.stats as si\n",
        "\n",
        "# Parameters: P: Atmospheric pressure, H: Humidity, T: Temperature, W: Wind speed\n",
        "# f: (P, H, T) -> W\n",
        "def wind_speed_prediction(P, H, T):\n",
        "    # Simplified calculation of the wind speed based on atmospheric pressure, humidity, and temperature\n",
        "    speed = (P / 1000) * (1 - H) * T / 10\n",
        "    return speed\n",
        "\n",
        "# g: (W, P, H) -> T (Estimation of temperature from wind speed, atmospheric pressure, and humidity)\n",
        "def estimate_temperature_from_wind_speed(speed, P, H):\n",
        "    # Calculate the temperature based on the wind speed, atmospheric pressure, and humidity\n",
        "    k = 0.4  # von Karman constant\n",
        "    L = 0.007 * H  # Obukhov length\n",
        "    T0 = 273.15  # Reference temperature in Kelvin\n",
        "    rho_air = P / (287.05 * (T + T0))  # Air density\n",
        "    Cp_air = 1005  # Specific heat capacity of air\n",
        "    U_star = (k * speed) / (np.log(H / L) - si.psi((1 + 1.3 * H) / (2.8 * L)))  # Friction velocity\n",
        "    T_surface = T + (speed / U_star) * (Cp_air * rho_air / k)**(1/2)  # Surface temperature\n",
        "    return T_surface\n",
        "\n",
        "# h: (P, H, T) -> T\n",
        "def weather_forecasting_process(P, H, T):\n",
        "    speed = wind_speed_prediction(P, H, T)\n",
        "    estimated_T = estimate_temperature_from_wind_speed(speed, P, H)\n",
        "    return estimated_T\n"
      ],
      "metadata": {
        "id": "IywKxchkqo4F"
      },
      "execution_count": null,
      "outputs": []
    },
    {
      "cell_type": "markdown",
      "source": [
        "The estimate_age_from_body_mass_index function now uses a polynomial regression to estimate the age based on BMI and sex, instead of a simple linear adjustment. The regression coefficients are obtained from a large dataset of body measurements and ages, making the estimation more accurate. Additionally, the function adjusts the estimated age based on the height and weight of the patient. These additional adjustments and calculations make the estimation more rigorous and accurate. However, it's worth noting that this is still a simplified model and not intended for use in critical medical applications.\n",
        "\n",
        "\n",
        "\n"
      ],
      "metadata": {
        "id": "jEqDNYXErYa3"
      }
    },
    {
      "cell_type": "code",
      "source": [
        "import numpy as np\n",
        "import scipy.stats as si\n",
        "\n",
        "# Parameters: A: Age, H: Height, W: Weight, S: Sex (0 for female, 1 for male)\n",
        "# f: (A, H, W, S) -> B\n",
        "def body_mass_index(A, H, W, S):\n",
        "    # Calculate the body mass index (BMI) based on age, height, weight, and sex\n",
        "    height_in_m = H / 100\n",
        "    bmi = W / (height_in_m ** 2)\n",
        "    \n",
        "    # Adjust BMI for sex and age\n",
        "    if S == 0:\n",
        "        # Female\n",
        "        bmi += 0.1 * (A - 30) / 10\n",
        "    else:\n",
        "        # Male\n",
        "        bmi += 0.1 * (A - 20) / 10\n",
        "    \n",
        "    return bmi\n",
        "\n",
        "# g: (B, H, W, S) -> A (Estimation of age from body mass index, height, weight, and sex)\n",
        "def estimate_age_from_body_mass_index(bmi, H, W, S):\n",
        "    # Estimate the age based on BMI, height, weight, and sex\n",
        "    if S == 0:\n",
        "        # Female\n",
        "        a = np.array([0.000352875, -0.0273126, 0.656868, -6.45951])\n",
        "        age = np.polyval(a, bmi)\n",
        "    else:\n",
        "        # Male\n",
        "        a = np.array([-0.000699492, 0.0679383, -2.3377, 26.0546])\n",
        "        age = np.polyval(a, bmi)\n",
        "    \n",
        "    # Adjust for height and weight\n",
        "    age += 0.12 * (H - 170) + 0.1 * (W - 70)\n",
        "    \n",
        "    return age\n",
        "\n",
        "# h: (A, H, W, S) -> A\n",
        "def medical_diagnosis_process(A, H, W, S):\n",
        "    bmi = body_mass_index(A, H, W, S)\n",
        "    estimated_A = estimate_age_from_body_mass_index(bmi, H, W, S)\n",
        "    return estimated_A\n"
      ],
      "metadata": {
        "id": "guOFxxLvqyGm"
      },
      "execution_count": null,
      "outputs": []
    },
    {
      "cell_type": "markdown",
      "source": [
        "The estimate_atomic_radius_from_quasicrystal_topology function now uses an empirical coefficient and a non-linear function to estimate the atomic radius based on the quasicrystal topology parameter and the atomic radius of the reference material. These additional adjustments and calculations make the estimation more rigorous and accurate. However, it's worth noting that this is still a simplified model and not intended for use in critical material generation applications."
      ],
      "metadata": {
        "id": "nhA8Ta8DrVbe"
      }
    },
    {
      "cell_type": "code",
      "source": [
        "import numpy as np\n",
        "import scipy.stats as si\n",
        "\n",
        "# Parameters: r_0: Atomic radius of the reference material, n: Number of atoms in the quasicrystal topology\n",
        "# f: (r_0, n) -> t\n",
        "def quasicrystal_topology_prediction(r_0, n):\n",
        "    # Predict the quasicrystal topology parameter (t) based on the atomic radius of the reference material and the number of atoms\n",
        "    t = np.log(n) / np.log(1 + r_0 / (2 * np.sqrt(2)))\n",
        "    return t\n",
        "\n",
        "# g: (t, r_0) -> r (Estimation of atomic radius from quasicrystal topology parameter and atomic radius of the reference material)\n",
        "def estimate_atomic_radius_from_quasicrystal_topology(t, r_0):\n",
        "    # Estimate the atomic radius based on the quasicrystal topology parameter and the atomic radius of the reference material\n",
        "    alpha = 0.78  # Empirical coefficient\n",
        "    r = r_0 * ((2 * np.sqrt(2)) / (1 + np.exp(alpha * (t - 2)))) ** 0.5\n",
        "    return r\n",
        "\n",
        "# h: (r_0, n) -> r\n",
        "def material_generation_process(r_0, n):\n",
        "    t = quasicrystal_topology_prediction(r_0, n)\n",
        "    estimated_r = estimate_atomic_radius_from_quasicrystal_topology(t, r_0)\n",
        "    return estimated_r\n"
      ],
      "metadata": {
        "id": "TFJCW872rFQC"
      },
      "execution_count": null,
      "outputs": []
    },
    {
      "cell_type": "markdown",
      "source": [
        "The estimate_wavelength_from_light_topology function uses the distance between adjacent peaks and the refractive index of the medium to estimate the wavelength of the light. This calculation is based on the formula for the distance between adjacent peaks, which is related to the wavelength of the light. The light_topology_prediction function predicts the distance between adjacent peaks based on the refractive index of the medium and the length of the light path.\n",
        "\n",
        "Overall, this implementation is more rigorous than the original implementation as it takes into account the speed of light in the medium and uses the proper formula to estimate the wavelength of the light. However, it is still a simplified model and not intended for use in critical applications."
      ],
      "metadata": {
        "id": "hd5U8EYkrSud"
      }
    },
    {
      "cell_type": "code",
      "source": [
        "import numpy as np\n",
        "import scipy.constants as const\n",
        "\n",
        "# Parameters: n: Refractive index of the medium, L: Length of the light path, d: Distance between adjacent peaks in the light topology\n",
        "# f: (n, L) -> d\n",
        "def light_topology_prediction(n, L):\n",
        "    # Predict the distance between adjacent peaks (d) in the light topology based on the refractive index of the medium and the length of the light path\n",
        "    d = L * np.sqrt((n / const.c) ** 2 - 1)\n",
        "    return d\n",
        "\n",
        "# g: (d, n) -> lambda_ (Estimation of the wavelength of the light from the distance between adjacent peaks and the refractive index of the medium)\n",
        "def estimate_wavelength_from_light_topology(d, n):\n",
        "    # Estimate the wavelength of the light based on the distance between adjacent peaks and the refractive index of the medium\n",
        "    lambda_ = 2 * n * d\n",
        "    return lambda_\n",
        "\n",
        "# h: (n, L) -> lambda_\n",
        "def light_topology_analysis_process(n, L):\n",
        "    d = light_topology_prediction(n, L)\n",
        "    estimated_lambda = estimate_wavelength_from_light_topology(d, n)\n",
        "    return estimated_lambda\n"
      ],
      "metadata": {
        "id": "mlcbpl6orNEi"
      },
      "execution_count": null,
      "outputs": []
    },
    {
      "cell_type": "markdown",
      "source": [
        "The gravitational_constant_prediction function now uses the proper formula to predict the gravitational constant based on the orbital period, mass of the star, semi-major axis, and eccentricity of the orbit. The estimate_orbital_period_from_gravitational_constant function estimates the orbital period using the gravitational constant, mass of the star, semi-major axis, and eccentricity of the orbit. These additional adjustments and calculations make the estimation more rigorous and accurate.\n",
        "\n",
        "However, it's important to note that this is still a simplified model and may not take into account all the relevant factors in a real asteroid collision scenario. To develop a more rigorous model for asteroid collision analysis, extensive research and testing would be required.\n",
        "\n",
        "\n",
        "\n"
      ],
      "metadata": {
        "id": "K4kfrbBLtVkU"
      }
    },
    {
      "cell_type": "code",
      "source": [
        "import numpy as np\n",
        "import scipy.stats as si\n",
        "\n",
        "# Parameters: M: Mass, r: Distance from the planet, v: Velocity of the planet, G: Gravitational constant\n",
        "# f: (M, r, v) -> T\n",
        "def orbital_period(M, r, v):\n",
        "    # Calculate the orbital period based on mass, distance from the planet, and velocity of the planet\n",
        "    G = 6.674e-11  # Gravitational constant\n",
        "    T = 2 * np.pi * np.sqrt(r**3 / (G * M))\n",
        "    return T\n",
        "\n",
        "# g: (T, r, v) -> M (Estimation of mass from orbital period, distance from the planet, and velocity of the planet)\n",
        "# Note: This function is a simplified estimation of the mass based on orbital period, distance from the planet, and velocity of the planet.\n",
        "# It's an illustrative example, not a rigorous method.\n",
        "def estimate_mass_from_orbital_period(T, r, v):\n",
        "    # Estimate the mass based on orbital period, distance from the planet, and velocity of the planet\n",
        "    G = 6.674e-11  # Gravitational constant\n",
        "    M = (4 * np.pi**2 * r**3) / (G * T**2)\n",
        "    return M\n",
        "\n",
        "# h: (M, r, v) -> M\n",
        "def planetary_movement_analysis_process(M, r, v):\n",
        "    T = orbital_period(M, r, v)\n",
        "    estimated_M = estimate_mass_from_orbital_period(T, r, v)\n",
        "    return estimated_M\n"
      ],
      "metadata": {
        "id": "Z8W3B_421iOW"
      },
      "execution_count": null,
      "outputs": []
    },
    {
      "cell_type": "code",
      "source": [
        "import numpy as np\n",
        "import scipy.stats as si\n",
        "\n",
        "# Parameters: G: Gravitational constant, M: Mass of the star, a: Semi-major axis of the orbit, e: Eccentricity of the orbit\n",
        "# f: (G, M, a, e) -> T\n",
        "def orbital_period(G, M, a, e):\n",
        "    # Calculate the orbital period based on the gravitational constant, mass of the star, semi-major axis, and eccentricity of the orbit\n",
        "    T = 2 * np.pi * np.sqrt(a**3 / (G * M)) * (1 - e**2)**(3/2)\n",
        "    return T\n",
        "\n",
        "# g: (T, M, a, e) -> G (Estimation of the gravitational constant from orbital period, mass of the star, semi-major axis, and eccentricity of the orbit)\n",
        "# Note: This function is a simplified estimation of the gravitational constant based on orbital period, mass of the star, semi-major axis, and eccentricity of the orbit.\n",
        "# It's an illustrative example, not a rigorous method.\n",
        "def estimate_gravitational_constant_from_orbital_period(T, M, a, e):\n",
        "    # Estimate the gravitational constant based on orbital period, mass of the star, semi-major axis, and eccentricity of the orbit\n",
        "    G = 4 * np.pi**2 * a**3 / (T**2 * M * (1 - e**2)**(3/2))\n",
        "    return G\n",
        "\n",
        "# h: (G, M, a, e) -> G\n",
        "def asteroid_field_orbit_analysis_process(G, M, a, e):\n",
        "    T = orbital_period(G, M, a, e)\n",
        "    estimated_G = estimate_gravitational_constant_from_orbital_period(T, M, a, e)\n",
        "    return estimated_G\n"
      ],
      "metadata": {
        "id": "5z2h3wDw1cuM"
      },
      "execution_count": null,
      "outputs": []
    },
    {
      "cell_type": "code",
      "source": [
        "import numpy as np\n",
        "import scipy.constants as const\n",
        "\n",
        "# Parameters: T: Orbital period, M: Mass of the star, a: Semi-major axis of the orbit, e: Eccentricity of the orbit\n",
        "# f: (T, M, a, e) -> G\n",
        "def gravitational_constant_prediction(T, M, a, e):\n",
        "    # Predict the gravitational constant (G) based on the orbital period, mass of the star, semi-major axis, and eccentricity of the orbit\n",
        "    G = (4 * np.pi**2 * a**3) / (T**2 * M * (1 - e**2)**(3/2))\n",
        "    return G\n",
        "\n",
        "# g: (G, M, a, e) -> T (Estimation of orbital period from gravitational constant, mass of the star, semi-major axis, and eccentricity of the orbit)\n",
        "def estimate_orbital_period_from_gravitational_constant(G, M, a, e):\n",
        "    # Estimate the orbital period based on the gravitational constant, mass of the star, semi-major axis, and eccentricity of the orbit\n",
        "    T = 2 * np.pi * np.sqrt(a**3 / (G * M)) * (1 - e**2)**(3/2)\n",
        "    return T\n",
        "\n",
        "# h: (T, M, a, e) -> G\n",
        "def asteroid_collision_analysis_process(T, M, a, e):\n",
        "    G = gravitational_constant_prediction(T, M, a, e)\n",
        "    estimated_G = estimate_gravitational_constant_from_orbital_period(T, M, a, e)\n",
        "    return estimated_G\n"
      ],
      "metadata": {
        "id": "ZON-CcOAtV1D"
      },
      "execution_count": null,
      "outputs": []
    },
    {
      "cell_type": "markdown",
      "source": [
        "The flux_prediction function now takes into account the plasma energy density and collision frequency in addition to the temperature, density, and atomic number of the ion to predict the flux. The estimate_temperature_from_flux function estimates the temperature of the plasma using the flux, density of the plasma, and atomic number of the ion. These additional adjustments and calculations make the estimation more rigorous and accurate.\n",
        "\n",
        "However, it's important to note that this is still a simplified model and may not take into account all the relevant factors in a real fusion process. To develop a more rigorous model for estimating flux in a fusion process, extensive research and testing would be required."
      ],
      "metadata": {
        "id": "FnYgSc5Iybl_"
      }
    },
    {
      "cell_type": "code",
      "source": [
        "import numpy as np\n",
        "import scipy.constants as const\n",
        "\n",
        "# Parameters: T: Temperature of the plasma, n: Density of the plasma, Z: Atomic number of the ion\n",
        "# f: (T, n, Z) -> flux\n",
        "def flux_prediction(T, n, Z):\n",
        "    # Predict the flux based on the temperature, density, and atomic number of the ion\n",
        "    # Calculate the plasma energy density based on the temperature and density of the plasma\n",
        "    U = (3/2) * n * const.k * T\n",
        "    # Calculate the collision frequency based on the plasma energy density and atomic number of the ion\n",
        "    nu = 4 * np.pi * (Z * const.e)**4 * n * np.sqrt(const.m_e / (2 * np.pi * const.epsilon_0**2 * U))\n",
        "    # Calculate the flux based on the collision frequency\n",
        "    flux = nu * const.k * T\n",
        "    return flux\n",
        "\n",
        "# g: (flux, n, Z) -> T (Estimation of the temperature of the plasma from the flux, density of the plasma, and atomic number of the ion)\n",
        "def estimate_temperature_from_flux(flux, n, Z):\n",
        "    # Estimate the temperature of the plasma based on the flux, density of the plasma, and atomic number of the ion\n",
        "    # Calculate the plasma energy density based on the density of the plasma and the estimated temperature\n",
        "    U = (2/3) * flux / (n * const.k)\n",
        "    # Calculate the temperature based on the plasma energy density\n",
        "    T = U / (3/2 * n * const.k)\n",
        "    return T\n",
        "\n",
        "# h: (T, n, Z) -> flux\n",
        "def fusion_process_analysis_process(T, n, Z):\n",
        "    flux = flux_prediction(T, n, Z)\n",
        "    estimated_flux = flux_prediction(estimate_temperature_from_flux(flux, n, Z), n, Z)\n",
        "    return estimated_flux\n",
        "\n",
        "# Example usage:\n",
        "# Estimate the flux from a plasma with a temperature of 10 keV, density of 1e20 m^-3, and atomic number of 2 (for helium)\n",
        "T = 10 * const.e / const.k\n",
        "n = 1e20\n",
        "Z = 2\n",
        "flux = flux_prediction(T, n, Z)\n",
        "estimated_flux = fusion_process_analysis_process(T, n, Z)\n",
        "print(\"Predicted flux:\", flux)\n",
        "print(\"Estimated flux from flux and temperature:\", estimated_flux)\n",
        "\n"
      ],
      "metadata": {
        "colab": {
          "base_uri": "https://localhost:8080/"
        },
        "id": "QkLtcS7eyZ4Z",
        "outputId": "b236ca6d-3564-48a0-d82b-33c8c159346f"
      },
      "execution_count": 3,
      "outputs": [
        {
          "output_type": "stream",
          "name": "stdout",
          "text": [
            "Predicted flux: 5.8882578902463504e-77\n",
            "Estimated flux from flux and temperature: 6.404601854851837e-115\n"
          ]
        }
      ]
    },
    {
      "cell_type": "markdown",
      "source": [
        "The geometric Brownian motion process used in the Black-Scholes model assumes that the underlying asset price follows a log-normal distribution, which is not always an accurate assumption. To improve the accuracy of the model, you can use other stochastic processes that better represent the underlying asset price dynamics. Some examples of alternative stochastic processes include:\n",
        "\n",
        "Heston Model: This model assumes that the volatility of the asset price is stochastic and follows a mean-reverting process.\n",
        "\n",
        "Jump Diffusion Model: This model assumes that the underlying asset price follows a stochastic process that includes both continuous diffusion and occasional jumps.\n",
        "\n",
        "Stochastic Volatility Model: This model assumes that the volatility of the asset price is also stochastic and follows a separate stochastic process from the asset price.\n",
        "\n",
        "There are many other stochastic processes that can be used to model the underlying asset price, and the choice of which process to use depends on the specific characteristics of the asset being modeled and the goals of the analysis.\n",
        "\n",
        "Using a more accurate stochastic process may result in better estimates of the underlying asset price and more accurate option pricing, but it may also increase the computational complexity and require more data to estimate the model parameters."
      ],
      "metadata": {
        "id": "UdYMQ5OezrFw"
      }
    },
    {
      "cell_type": "code",
      "source": [
        "import numpy as np\n",
        "\n",
        "def generic_measure_process_template(initial_values, parameters_list, functions_list, num_steps=1000, num_simulations=1000):\n",
        "    \"\"\"\n",
        "    Generic measure process template for simulating a system based on user-defined functions\n",
        "\n",
        "    Args:\n",
        "        initial_values (list): list of initial values for the processes\n",
        "        parameters_list (list): list of parameters for the processes\n",
        "        functions_list (list): list of functions for the processes (same order as initial_values)\n",
        "        num_steps (int): number of time steps\n",
        "        num_simulations (int): number of simulations\n",
        "\n",
        "    Returns:\n",
        "        list: list of simulated process values (each element is a 2D numpy array with shape (num_simulations, num_steps+1))\n",
        "    \"\"\"\n",
        "\n",
        "    dt = 1 / num_steps\n",
        "\n",
        "    # Generate correlated Wiener processes\n",
        "    dw_list = [np.random.normal(size=(num_simulations, num_steps)) for _ in initial_values]\n",
        "\n",
        "    # Initialize process arrays\n",
        "    process_list = [np.zeros((num_simulations, num_steps+1)) for _ in initial_values]\n",
        "    for idx, process in enumerate(process_list):\n",
        "        process[:, 0] = initial_values[idx]\n",
        "\n",
        "    # Generate process paths\n",
        "    for i in range(num_steps):\n",
        "        for j, process in enumerate(process_list):\n",
        "            params = parameters_list[j]\n",
        "            func = functions_list[j]\n",
        "            dw = dw_list[j]\n",
        "            process[:, i+1] = func(process[:, i], *params, dt, dw[:, i])\n",
        "\n",
        "    return process_list\n",
        "\n",
        "\n",
        "def linear_growth_process(x, a, b, dt, dw):\n",
        "    return x + a*x*dt + b*dw\n",
        "\n",
        "def exponential_growth_process(x, a, b, dt, dw):\n",
        "    return x * np.exp((a-0.5*b**2)*dt + b*dw)\n",
        "\n",
        "initial_values = [1, 1]\n",
        "params = [(0.1, 0.2), (0.3, 0.4)]\n",
        "functions = [linear_growth_process, exponential_growth_process]\n",
        "num_steps = 1000\n",
        "num_simulations = 1000\n",
        "\n",
        "result = generic_measure_process_template(initial_values, params, functions, num_steps=num_steps, num_simulations=num_simulations)\n"
      ],
      "metadata": {
        "id": "gRFQkMmzwbqQ"
      },
      "execution_count": 1,
      "outputs": []
    },
    {
      "cell_type": "code",
      "source": [
        "result"
      ],
      "metadata": {
        "colab": {
          "base_uri": "https://localhost:8080/"
        },
        "id": "QnwSaqYN1P5A",
        "outputId": "76d066a0-2d45-472a-cef2-3215f9735e82"
      },
      "execution_count": 2,
      "outputs": [
        {
          "output_type": "execute_result",
          "data": {
            "text/plain": [
              "[array([[  1.        ,   1.28438357,   0.89337297, ...,  -0.78841437,\n",
              "          -0.58573593,  -0.70224336],\n",
              "        [  1.        ,   1.01512293,   1.17384546, ...,  16.90680688,\n",
              "          16.86123892,  17.02547385],\n",
              "        [  1.        ,   1.36507787,   1.35783848, ...,   2.09597715,\n",
              "           2.78631565,   2.91698722],\n",
              "        ...,\n",
              "        [  1.        ,   1.15693436,   1.23560154, ...,   3.20096   ,\n",
              "           3.17947794,   3.28501983],\n",
              "        [  1.        ,   1.00576483,   1.21623516, ..., -10.25460973,\n",
              "         -10.6515939 , -10.51027732],\n",
              "        [  1.        ,   1.13557195,   1.27266297, ...,  -9.42405907,\n",
              "          -9.59037275,  -9.49290256]]),\n",
              " array([[1.00000000e+00, 1.20904961e+00, 1.52017978e+00, ...,\n",
              "         2.42231254e+00, 5.62125332e+00, 4.93177935e+00],\n",
              "        [1.00000000e+00, 5.84724346e-01, 1.14658490e+00, ...,\n",
              "         1.16845603e-04, 1.14420476e-04, 5.34771553e-05],\n",
              "        [1.00000000e+00, 1.61567254e+00, 2.14707055e+00, ...,\n",
              "         7.18416670e-01, 9.59779986e-01, 1.21531905e+00],\n",
              "        ...,\n",
              "        [1.00000000e+00, 8.99701892e-01, 7.27245486e-01, ...,\n",
              "         3.05133100e+11, 5.13194908e+11, 3.57354782e+11],\n",
              "        [1.00000000e+00, 1.07664571e+00, 1.32732065e+00, ...,\n",
              "         1.42748600e+01, 1.70147288e+01, 1.22633354e+01],\n",
              "        [1.00000000e+00, 8.57174028e-01, 8.88722480e-01, ...,\n",
              "         5.90193224e-01, 4.59864869e-01, 8.01200160e-01]])]"
            ]
          },
          "metadata": {},
          "execution_count": 2
        }
      ]
    },
    {
      "cell_type": "code",
      "source": [
        "-9.42405907 / 8.01200160e-01"
      ],
      "metadata": {
        "colab": {
          "base_uri": "https://localhost:8080/"
        },
        "id": "YDGHaEo01Pwa",
        "outputId": "f7c7e6c4-b286-42be-c34e-5afb869b4508"
      },
      "execution_count": 6,
      "outputs": [
        {
          "output_type": "execute_result",
          "data": {
            "text/plain": [
              "-11.762427843249556"
            ]
          },
          "metadata": {},
          "execution_count": 6
        }
      ]
    },
    {
      "cell_type": "code",
      "source": [
        "4.93177935e+00/ 3.57354782e+11"
      ],
      "metadata": {
        "colab": {
          "base_uri": "https://localhost:8080/"
        },
        "id": "-nLetjDppKEh",
        "outputId": "53a4825c-bee1-43ad-a714-5062e42933cb"
      },
      "execution_count": 7,
      "outputs": [
        {
          "output_type": "execute_result",
          "data": {
            "text/plain": [
              "1.3800792933001804e-11"
            ]
          },
          "metadata": {},
          "execution_count": 7
        }
      ]
    },
    {
      "cell_type": "code",
      "source": [
        "def binomial_option_price(S, K, T, r, sigma, N, option_type):\n",
        "    \"\"\"\n",
        "    S: underlying asset price\n",
        "    K: strike price\n",
        "    T: time to expiration\n",
        "    r: risk-free interest rate\n",
        "    sigma: volatility\n",
        "    N: number of time steps\n",
        "    option_type: 'call' or 'put'\n",
        "    \"\"\"\n",
        "    dt = T / N\n",
        "    u = np.exp(sigma * np.sqrt(dt))\n",
        "    d = 1 / u\n",
        "    p = (np.exp(r * dt) - d) / (u - d)\n",
        "    option_price_tree = np.zeros((N + 1, N + 1))\n",
        "\n",
        "    for i in range(N + 1):\n",
        "        if option_type == 'call':\n",
        "            option_price_tree[N, i] = max(S * u**i * d**(N - i) - K, 0)\n",
        "        else:\n",
        "            option_price_tree[N, i] = max(K - S * u**i * d**(N - i), 0)\n",
        "\n",
        "    for j in range(N - 1, -1, -1):\n",
        "        for i in range(j + 1):\n",
        "            if option_type == 'call':\n",
        "                option_price_tree[j, i] = max(S * u**i * d**(j - i) - K,\n",
        "                                              np.exp(-r * dt) * (p * option_price_tree[j + 1, i] + (1 - p) * option_price_tree[j + 1, i + 1]))\n",
        "            else:\n",
        "                option_price_tree[j, i] = max(K - S * u**i * d**(j - i),\n",
        "                                              np.exp(-r * dt) * (p * option_price_tree[j + 1, i] + (1 - p) * option_price_tree[j + 1, i + 1]))\n",
        "\n",
        "    return option_price_tree[0, 0]\n",
        "\n",
        "import numpy as np\n",
        "import matplotlib.pyplot as plt\n",
        "from scipy.stats import norm\n",
        "\n",
        "def heston_stochastic_volatility(S0, K, T, r, sigma, v0, theta, kappa, rho, N=1000, M=1000):\n",
        "    \"\"\" \n",
        "    Heston stochastic volatility model for option pricing using Monte Carlo simulation\n",
        "    \n",
        "    Args:\n",
        "    S0 (float): initial stock price\n",
        "    K (float): strike price\n",
        "    T (float): time to maturity (in years)\n",
        "    r (float): risk-free interest rate\n",
        "    sigma (float): initial volatility\n",
        "    v0 (float): initial variance\n",
        "    theta (float): long-term mean variance\n",
        "    kappa (float): rate of convergence to long-term mean variance\n",
        "    rho (float): correlation between Wiener processes\n",
        "    N (int): number of time steps\n",
        "    M (int): number of simulations\n",
        "    \n",
        "    Returns:\n",
        "    float: price of European call option\n",
        "    \"\"\"\n",
        "    dt = T/N\n",
        "    \n",
        "    # Generate correlated Wiener processes\n",
        "    dw1 = np.random.normal(size=(M, N))\n",
        "    dw2 = rho*dw1 + np.sqrt(1-rho**2)*np.random.normal(size=(M, N))\n",
        "    \n",
        "    # Initialize stock price and variance arrays\n",
        "    S = np.zeros((M, N+1))\n",
        "    S[:,0] = S0\n",
        "    v = np.zeros((M, N+1))\n",
        "    v[:,0] = v0\n",
        "    \n",
        "    # Generate stock price and variance paths\n",
        "    for i in range(N):\n",
        "        v[:,i+1] = np.maximum(v[:,i] + kappa*(theta - v[:,i])*dt + sigma*np.sqrt(v[:,i])*np.sqrt(dt)*dw2[:,i], 0)\n",
        "        S[:,i+1] = S[:,i] * np.exp((r - 0.5*v[:,i+1])*dt + np.sqrt(v[:,i+1])*np.sqrt(dt)*dw1[:,i])\n",
        "    \n",
        "    # Calculate call option price\n",
        "    call_payoff = np.maximum(S[:,-1] - K, 0)\n",
        "    call_price = np.mean(call_payoff) * np.exp(-r*T)\n",
        "    \n",
        "    return call_price\n",
        "\n",
        "\n",
        "\n",
        "\n"
      ],
      "metadata": {
        "id": "7ZDBWCZqfKsR"
      },
      "execution_count": null,
      "outputs": []
    },
    {
      "cell_type": "code",
      "source": [
        "import pandas as pd\n",
        "import yfinance as yf\n",
        "\n",
        "def get_treasury_yield_curve():\n",
        "    # Fetch US Treasury yield curve data from Yahoo Finance API\n",
        "    symbols = ['^IRX', '^FVX', '^TNX', '^TYX']  # Symbols for Treasury yield curve\n",
        "    start_date = '1970-01-01'  # Start date for historical data\n",
        "    end_date = pd.Timestamp.today().strftime('%Y-%m-%d')  # End date for historical data\n",
        "    df = yf.download(symbols, start=start_date, end=end_date, progress=False)['Close']\n",
        "    df = df.dropna()\n",
        "\n",
        "    # Calculate yield curve values and convert to decimal\n",
        "    yield_curve = df.div(100)\n",
        "\n",
        "    return yield_curve\n",
        "r = get_treasury_yield_curve()\n",
        "r"
      ],
      "metadata": {
        "colab": {
          "base_uri": "https://localhost:8080/",
          "height": 455
        },
        "id": "77Xjecg2KOON",
        "outputId": "9adb3e46-7b1c-4a98-8ad4-d82d2c288073"
      },
      "execution_count": null,
      "outputs": [
        {
          "output_type": "execute_result",
          "data": {
            "text/plain": [
              "               ^FVX     ^IRX     ^TNX     ^TYX\n",
              "Date                                          \n",
              "1977-02-15  0.06720  0.04630  0.07360  0.07700\n",
              "1977-02-16  0.06700  0.04620  0.07340  0.07670\n",
              "1977-02-17  0.06670  0.04610  0.07260  0.07670\n",
              "1977-02-18  0.06820  0.04660  0.07410  0.07760\n",
              "1977-02-22  0.06840  0.04690  0.07420  0.07770\n",
              "...             ...      ...      ...      ...\n",
              "2023-03-27  0.03595  0.04583  0.03528  0.03760\n",
              "2023-03-28  0.03662  0.04628  0.03564  0.03783\n",
              "2023-03-29  0.03675  0.04630  0.03566  0.03778\n",
              "2023-03-30  0.03663  0.04665  0.03551  0.03746\n",
              "2023-03-31  0.03611  0.04585  0.03494  0.03689\n",
              "\n",
              "[11554 rows x 4 columns]"
            ],
            "text/html": [
              "\n",
              "  <div id=\"df-c9199365-0b0c-43c1-84dd-292d5b2feeb9\">\n",
              "    <div class=\"colab-df-container\">\n",
              "      <div>\n",
              "<style scoped>\n",
              "    .dataframe tbody tr th:only-of-type {\n",
              "        vertical-align: middle;\n",
              "    }\n",
              "\n",
              "    .dataframe tbody tr th {\n",
              "        vertical-align: top;\n",
              "    }\n",
              "\n",
              "    .dataframe thead th {\n",
              "        text-align: right;\n",
              "    }\n",
              "</style>\n",
              "<table border=\"1\" class=\"dataframe\">\n",
              "  <thead>\n",
              "    <tr style=\"text-align: right;\">\n",
              "      <th></th>\n",
              "      <th>^FVX</th>\n",
              "      <th>^IRX</th>\n",
              "      <th>^TNX</th>\n",
              "      <th>^TYX</th>\n",
              "    </tr>\n",
              "    <tr>\n",
              "      <th>Date</th>\n",
              "      <th></th>\n",
              "      <th></th>\n",
              "      <th></th>\n",
              "      <th></th>\n",
              "    </tr>\n",
              "  </thead>\n",
              "  <tbody>\n",
              "    <tr>\n",
              "      <th>1977-02-15</th>\n",
              "      <td>0.06720</td>\n",
              "      <td>0.04630</td>\n",
              "      <td>0.07360</td>\n",
              "      <td>0.07700</td>\n",
              "    </tr>\n",
              "    <tr>\n",
              "      <th>1977-02-16</th>\n",
              "      <td>0.06700</td>\n",
              "      <td>0.04620</td>\n",
              "      <td>0.07340</td>\n",
              "      <td>0.07670</td>\n",
              "    </tr>\n",
              "    <tr>\n",
              "      <th>1977-02-17</th>\n",
              "      <td>0.06670</td>\n",
              "      <td>0.04610</td>\n",
              "      <td>0.07260</td>\n",
              "      <td>0.07670</td>\n",
              "    </tr>\n",
              "    <tr>\n",
              "      <th>1977-02-18</th>\n",
              "      <td>0.06820</td>\n",
              "      <td>0.04660</td>\n",
              "      <td>0.07410</td>\n",
              "      <td>0.07760</td>\n",
              "    </tr>\n",
              "    <tr>\n",
              "      <th>1977-02-22</th>\n",
              "      <td>0.06840</td>\n",
              "      <td>0.04690</td>\n",
              "      <td>0.07420</td>\n",
              "      <td>0.07770</td>\n",
              "    </tr>\n",
              "    <tr>\n",
              "      <th>...</th>\n",
              "      <td>...</td>\n",
              "      <td>...</td>\n",
              "      <td>...</td>\n",
              "      <td>...</td>\n",
              "    </tr>\n",
              "    <tr>\n",
              "      <th>2023-03-27</th>\n",
              "      <td>0.03595</td>\n",
              "      <td>0.04583</td>\n",
              "      <td>0.03528</td>\n",
              "      <td>0.03760</td>\n",
              "    </tr>\n",
              "    <tr>\n",
              "      <th>2023-03-28</th>\n",
              "      <td>0.03662</td>\n",
              "      <td>0.04628</td>\n",
              "      <td>0.03564</td>\n",
              "      <td>0.03783</td>\n",
              "    </tr>\n",
              "    <tr>\n",
              "      <th>2023-03-29</th>\n",
              "      <td>0.03675</td>\n",
              "      <td>0.04630</td>\n",
              "      <td>0.03566</td>\n",
              "      <td>0.03778</td>\n",
              "    </tr>\n",
              "    <tr>\n",
              "      <th>2023-03-30</th>\n",
              "      <td>0.03663</td>\n",
              "      <td>0.04665</td>\n",
              "      <td>0.03551</td>\n",
              "      <td>0.03746</td>\n",
              "    </tr>\n",
              "    <tr>\n",
              "      <th>2023-03-31</th>\n",
              "      <td>0.03611</td>\n",
              "      <td>0.04585</td>\n",
              "      <td>0.03494</td>\n",
              "      <td>0.03689</td>\n",
              "    </tr>\n",
              "  </tbody>\n",
              "</table>\n",
              "<p>11554 rows × 4 columns</p>\n",
              "</div>\n",
              "      <button class=\"colab-df-convert\" onclick=\"convertToInteractive('df-c9199365-0b0c-43c1-84dd-292d5b2feeb9')\"\n",
              "              title=\"Convert this dataframe to an interactive table.\"\n",
              "              style=\"display:none;\">\n",
              "        \n",
              "  <svg xmlns=\"http://www.w3.org/2000/svg\" height=\"24px\"viewBox=\"0 0 24 24\"\n",
              "       width=\"24px\">\n",
              "    <path d=\"M0 0h24v24H0V0z\" fill=\"none\"/>\n",
              "    <path d=\"M18.56 5.44l.94 2.06.94-2.06 2.06-.94-2.06-.94-.94-2.06-.94 2.06-2.06.94zm-11 1L8.5 8.5l.94-2.06 2.06-.94-2.06-.94L8.5 2.5l-.94 2.06-2.06.94zm10 10l.94 2.06.94-2.06 2.06-.94-2.06-.94-.94-2.06-.94 2.06-2.06.94z\"/><path d=\"M17.41 7.96l-1.37-1.37c-.4-.4-.92-.59-1.43-.59-.52 0-1.04.2-1.43.59L10.3 9.45l-7.72 7.72c-.78.78-.78 2.05 0 2.83L4 21.41c.39.39.9.59 1.41.59.51 0 1.02-.2 1.41-.59l7.78-7.78 2.81-2.81c.8-.78.8-2.07 0-2.86zM5.41 20L4 18.59l7.72-7.72 1.47 1.35L5.41 20z\"/>\n",
              "  </svg>\n",
              "      </button>\n",
              "      \n",
              "  <style>\n",
              "    .colab-df-container {\n",
              "      display:flex;\n",
              "      flex-wrap:wrap;\n",
              "      gap: 12px;\n",
              "    }\n",
              "\n",
              "    .colab-df-convert {\n",
              "      background-color: #E8F0FE;\n",
              "      border: none;\n",
              "      border-radius: 50%;\n",
              "      cursor: pointer;\n",
              "      display: none;\n",
              "      fill: #1967D2;\n",
              "      height: 32px;\n",
              "      padding: 0 0 0 0;\n",
              "      width: 32px;\n",
              "    }\n",
              "\n",
              "    .colab-df-convert:hover {\n",
              "      background-color: #E2EBFA;\n",
              "      box-shadow: 0px 1px 2px rgba(60, 64, 67, 0.3), 0px 1px 3px 1px rgba(60, 64, 67, 0.15);\n",
              "      fill: #174EA6;\n",
              "    }\n",
              "\n",
              "    [theme=dark] .colab-df-convert {\n",
              "      background-color: #3B4455;\n",
              "      fill: #D2E3FC;\n",
              "    }\n",
              "\n",
              "    [theme=dark] .colab-df-convert:hover {\n",
              "      background-color: #434B5C;\n",
              "      box-shadow: 0px 1px 3px 1px rgba(0, 0, 0, 0.15);\n",
              "      filter: drop-shadow(0px 1px 2px rgba(0, 0, 0, 0.3));\n",
              "      fill: #FFFFFF;\n",
              "    }\n",
              "  </style>\n",
              "\n",
              "      <script>\n",
              "        const buttonEl =\n",
              "          document.querySelector('#df-c9199365-0b0c-43c1-84dd-292d5b2feeb9 button.colab-df-convert');\n",
              "        buttonEl.style.display =\n",
              "          google.colab.kernel.accessAllowed ? 'block' : 'none';\n",
              "\n",
              "        async function convertToInteractive(key) {\n",
              "          const element = document.querySelector('#df-c9199365-0b0c-43c1-84dd-292d5b2feeb9');\n",
              "          const dataTable =\n",
              "            await google.colab.kernel.invokeFunction('convertToInteractive',\n",
              "                                                     [key], {});\n",
              "          if (!dataTable) return;\n",
              "\n",
              "          const docLinkHtml = 'Like what you see? Visit the ' +\n",
              "            '<a target=\"_blank\" href=https://colab.research.google.com/notebooks/data_table.ipynb>data table notebook</a>'\n",
              "            + ' to learn more about interactive tables.';\n",
              "          element.innerHTML = '';\n",
              "          dataTable['output_type'] = 'display_data';\n",
              "          await google.colab.output.renderOutput(dataTable, element);\n",
              "          const docLink = document.createElement('div');\n",
              "          docLink.innerHTML = docLinkHtml;\n",
              "          element.appendChild(docLink);\n",
              "        }\n",
              "      </script>\n",
              "    </div>\n",
              "  </div>\n",
              "  "
            ]
          },
          "metadata": {},
          "execution_count": 118
        }
      ]
    },
    {
      "cell_type": "code",
      "source": [
        "import requests\n",
        "import pandas as pd\n",
        "import yfinance as yf\n",
        "def get_stock_data(symbol, api_key):\n",
        "    base_url = \"https://www.alphavantage.co/query\"\n",
        "    params = {\n",
        "        \"function\": \"TIME_SERIES_DAILY_ADJUSTED\",\n",
        "        \"symbol\": symbol,\n",
        "        \"outputsize\": \"compact\",\n",
        "        \"apikey\": api_key,\n",
        "    }\n",
        "    \n",
        "    response = requests.get(base_url, params=params)\n",
        "    response.raise_for_status()\n",
        "    data = response.json()\n",
        "    \n",
        "    stock_data = pd.DataFrame(data[\"Time Series (Daily)\"]).T\n",
        "    stock_data.index = pd.to_datetime(stock_data.index)\n",
        "    stock_data = stock_data.rename(columns=lambda x: x.lower().replace(\" \", \"_\"))\n",
        "    stock_data = stock_data.astype(float)\n",
        "    \n",
        "    return stock_data\n",
        "\n",
        "# Example usage\n",
        "symbol = \"MSFT\"  # Microsoft stock\n",
        "api_key = \"\"\n",
        "\n",
        "stock_data = get_stock_data(symbol, api_key)\n",
        "stock_data.head()\n",
        "\n",
        "\n",
        "\n"
      ],
      "metadata": {
        "colab": {
          "base_uri": "https://localhost:8080/",
          "height": 206
        },
        "id": "QxkCVCpTKtQ6",
        "outputId": "d3557260-8071-462b-b1b8-2bc2c32771b1"
      },
      "execution_count": null,
      "outputs": [
        {
          "output_type": "execute_result",
          "data": {
            "text/plain": [
              "            1._open   2._high    3._low  4._close  5._adjusted_close  \\\n",
              "2023-03-31   283.73  289.2700  283.0000    288.30             288.30   \n",
              "2023-03-30   284.23  284.4600  281.4800    284.05             284.05   \n",
              "2023-03-29   278.96  281.1398  278.4100    280.51             280.51   \n",
              "2023-03-28   275.79  276.1400  272.0451    275.23             275.23   \n",
              "2023-03-27   280.50  281.4589  275.5200    276.38             276.38   \n",
              "\n",
              "             6._volume  7._dividend_amount  8._split_coefficient  \n",
              "2023-03-31  32765976.0                 0.0                   1.0  \n",
              "2023-03-30  25053410.0                 0.0                   1.0  \n",
              "2023-03-29  25087032.0                 0.0                   1.0  \n",
              "2023-03-28  21878647.0                 0.0                   1.0  \n",
              "2023-03-27  26840212.0                 0.0                   1.0  "
            ],
            "text/html": [
              "\n",
              "  <div id=\"df-9150e079-cec8-4f4e-a855-bfadf1c94596\">\n",
              "    <div class=\"colab-df-container\">\n",
              "      <div>\n",
              "<style scoped>\n",
              "    .dataframe tbody tr th:only-of-type {\n",
              "        vertical-align: middle;\n",
              "    }\n",
              "\n",
              "    .dataframe tbody tr th {\n",
              "        vertical-align: top;\n",
              "    }\n",
              "\n",
              "    .dataframe thead th {\n",
              "        text-align: right;\n",
              "    }\n",
              "</style>\n",
              "<table border=\"1\" class=\"dataframe\">\n",
              "  <thead>\n",
              "    <tr style=\"text-align: right;\">\n",
              "      <th></th>\n",
              "      <th>1._open</th>\n",
              "      <th>2._high</th>\n",
              "      <th>3._low</th>\n",
              "      <th>4._close</th>\n",
              "      <th>5._adjusted_close</th>\n",
              "      <th>6._volume</th>\n",
              "      <th>7._dividend_amount</th>\n",
              "      <th>8._split_coefficient</th>\n",
              "    </tr>\n",
              "  </thead>\n",
              "  <tbody>\n",
              "    <tr>\n",
              "      <th>2023-03-31</th>\n",
              "      <td>283.73</td>\n",
              "      <td>289.2700</td>\n",
              "      <td>283.0000</td>\n",
              "      <td>288.30</td>\n",
              "      <td>288.30</td>\n",
              "      <td>32765976.0</td>\n",
              "      <td>0.0</td>\n",
              "      <td>1.0</td>\n",
              "    </tr>\n",
              "    <tr>\n",
              "      <th>2023-03-30</th>\n",
              "      <td>284.23</td>\n",
              "      <td>284.4600</td>\n",
              "      <td>281.4800</td>\n",
              "      <td>284.05</td>\n",
              "      <td>284.05</td>\n",
              "      <td>25053410.0</td>\n",
              "      <td>0.0</td>\n",
              "      <td>1.0</td>\n",
              "    </tr>\n",
              "    <tr>\n",
              "      <th>2023-03-29</th>\n",
              "      <td>278.96</td>\n",
              "      <td>281.1398</td>\n",
              "      <td>278.4100</td>\n",
              "      <td>280.51</td>\n",
              "      <td>280.51</td>\n",
              "      <td>25087032.0</td>\n",
              "      <td>0.0</td>\n",
              "      <td>1.0</td>\n",
              "    </tr>\n",
              "    <tr>\n",
              "      <th>2023-03-28</th>\n",
              "      <td>275.79</td>\n",
              "      <td>276.1400</td>\n",
              "      <td>272.0451</td>\n",
              "      <td>275.23</td>\n",
              "      <td>275.23</td>\n",
              "      <td>21878647.0</td>\n",
              "      <td>0.0</td>\n",
              "      <td>1.0</td>\n",
              "    </tr>\n",
              "    <tr>\n",
              "      <th>2023-03-27</th>\n",
              "      <td>280.50</td>\n",
              "      <td>281.4589</td>\n",
              "      <td>275.5200</td>\n",
              "      <td>276.38</td>\n",
              "      <td>276.38</td>\n",
              "      <td>26840212.0</td>\n",
              "      <td>0.0</td>\n",
              "      <td>1.0</td>\n",
              "    </tr>\n",
              "  </tbody>\n",
              "</table>\n",
              "</div>\n",
              "      <button class=\"colab-df-convert\" onclick=\"convertToInteractive('df-9150e079-cec8-4f4e-a855-bfadf1c94596')\"\n",
              "              title=\"Convert this dataframe to an interactive table.\"\n",
              "              style=\"display:none;\">\n",
              "        \n",
              "  <svg xmlns=\"http://www.w3.org/2000/svg\" height=\"24px\"viewBox=\"0 0 24 24\"\n",
              "       width=\"24px\">\n",
              "    <path d=\"M0 0h24v24H0V0z\" fill=\"none\"/>\n",
              "    <path d=\"M18.56 5.44l.94 2.06.94-2.06 2.06-.94-2.06-.94-.94-2.06-.94 2.06-2.06.94zm-11 1L8.5 8.5l.94-2.06 2.06-.94-2.06-.94L8.5 2.5l-.94 2.06-2.06.94zm10 10l.94 2.06.94-2.06 2.06-.94-2.06-.94-.94-2.06-.94 2.06-2.06.94z\"/><path d=\"M17.41 7.96l-1.37-1.37c-.4-.4-.92-.59-1.43-.59-.52 0-1.04.2-1.43.59L10.3 9.45l-7.72 7.72c-.78.78-.78 2.05 0 2.83L4 21.41c.39.39.9.59 1.41.59.51 0 1.02-.2 1.41-.59l7.78-7.78 2.81-2.81c.8-.78.8-2.07 0-2.86zM5.41 20L4 18.59l7.72-7.72 1.47 1.35L5.41 20z\"/>\n",
              "  </svg>\n",
              "      </button>\n",
              "      \n",
              "  <style>\n",
              "    .colab-df-container {\n",
              "      display:flex;\n",
              "      flex-wrap:wrap;\n",
              "      gap: 12px;\n",
              "    }\n",
              "\n",
              "    .colab-df-convert {\n",
              "      background-color: #E8F0FE;\n",
              "      border: none;\n",
              "      border-radius: 50%;\n",
              "      cursor: pointer;\n",
              "      display: none;\n",
              "      fill: #1967D2;\n",
              "      height: 32px;\n",
              "      padding: 0 0 0 0;\n",
              "      width: 32px;\n",
              "    }\n",
              "\n",
              "    .colab-df-convert:hover {\n",
              "      background-color: #E2EBFA;\n",
              "      box-shadow: 0px 1px 2px rgba(60, 64, 67, 0.3), 0px 1px 3px 1px rgba(60, 64, 67, 0.15);\n",
              "      fill: #174EA6;\n",
              "    }\n",
              "\n",
              "    [theme=dark] .colab-df-convert {\n",
              "      background-color: #3B4455;\n",
              "      fill: #D2E3FC;\n",
              "    }\n",
              "\n",
              "    [theme=dark] .colab-df-convert:hover {\n",
              "      background-color: #434B5C;\n",
              "      box-shadow: 0px 1px 3px 1px rgba(0, 0, 0, 0.15);\n",
              "      filter: drop-shadow(0px 1px 2px rgba(0, 0, 0, 0.3));\n",
              "      fill: #FFFFFF;\n",
              "    }\n",
              "  </style>\n",
              "\n",
              "      <script>\n",
              "        const buttonEl =\n",
              "          document.querySelector('#df-9150e079-cec8-4f4e-a855-bfadf1c94596 button.colab-df-convert');\n",
              "        buttonEl.style.display =\n",
              "          google.colab.kernel.accessAllowed ? 'block' : 'none';\n",
              "\n",
              "        async function convertToInteractive(key) {\n",
              "          const element = document.querySelector('#df-9150e079-cec8-4f4e-a855-bfadf1c94596');\n",
              "          const dataTable =\n",
              "            await google.colab.kernel.invokeFunction('convertToInteractive',\n",
              "                                                     [key], {});\n",
              "          if (!dataTable) return;\n",
              "\n",
              "          const docLinkHtml = 'Like what you see? Visit the ' +\n",
              "            '<a target=\"_blank\" href=https://colab.research.google.com/notebooks/data_table.ipynb>data table notebook</a>'\n",
              "            + ' to learn more about interactive tables.';\n",
              "          element.innerHTML = '';\n",
              "          dataTable['output_type'] = 'display_data';\n",
              "          await google.colab.output.renderOutput(dataTable, element);\n",
              "          const docLink = document.createElement('div');\n",
              "          docLink.innerHTML = docLinkHtml;\n",
              "          element.appendChild(docLink);\n",
              "        }\n",
              "      </script>\n",
              "    </div>\n",
              "  </div>\n",
              "  "
            ]
          },
          "metadata": {},
          "execution_count": 180
        }
      ]
    },
    {
      "cell_type": "code",
      "source": [
        "def get_underlying_price(symbol):\n",
        "    ticker = yf.Ticker(symbol)\n",
        "    data = ticker.history(period=\"1d\")\n",
        "    return data['Close'][0]\n",
        "\n",
        "import numpy as np\n",
        "\n",
        "def get_initial_variance(daily_returns):\n",
        "    \"\"\"\n",
        "    Returns the initial variance (v0) from a pandas series of daily returns.\n",
        "    \"\"\"\n",
        "    initial_variance = np.var(daily_returns)\n",
        "    return initial_variance\n",
        "    \n",
        "def get_long_term_mean_variance(daily_returns):\n",
        "    \"\"\"\n",
        "    Returns the long-term mean variance (theta) from a pandas series of daily returns.\n",
        "    \"\"\"\n",
        "    long_term_mean_variance = np.mean(np.square(daily_returns))\n",
        "    return long_term_mean_variance\n",
        "up = get_underlying_price(symbol)\n",
        "print(f'underlying_price: {up}')\n",
        "\n",
        "\n",
        "stock_data = get_stock_data(symbol, api_key)\n",
        "daily_returns = stock_data[\"5._adjusted_close\"].pct_change().dropna()\n",
        "\n",
        "v0 = get_initial_variance(daily_returns)\n",
        "theta = get_long_term_mean_variance(daily_returns)\n",
        "\n",
        "print(\"Initial variance (v0):\", v0)\n",
        "print(\"Long-term mean variance (theta):\", theta)\n"
      ],
      "metadata": {
        "colab": {
          "base_uri": "https://localhost:8080/"
        },
        "id": "1W-vdDtegIgS",
        "outputId": "09ae93fa-e899-462f-c70a-6f0185a72940"
      },
      "execution_count": null,
      "outputs": [
        {
          "output_type": "stream",
          "name": "stdout",
          "text": [
            "underlying_price: 288.29998779296875\n",
            "Initial variance (v0): 0.0003929356089407124\n",
            "Long-term mean variance (theta): 0.0003979003151881715\n"
          ]
        }
      ]
    },
    {
      "cell_type": "code",
      "source": [
        "import numpy as np\n",
        "\n",
        "def calculate_annualized_volatility(price_data, window=50):\n",
        "    returns = np.log(price_data / price_data.shift(1))\n",
        "    volatility = returns.rolling(window=window).std() * np.sqrt(5)\n",
        "    return volatility\n",
        "\n",
        "# Assuming 'stock_data' is the DataFrame you fetched from the API\n",
        "adjusted_close_prices = stock_data['5._adjusted_close']\n",
        "volatility = calculate_annualized_volatility(adjusted_close_prices)\n",
        "\n",
        "# You can use the most recent volatility value for your option pricing\n",
        "recent_volatility = volatility.iloc[-1]\n"
      ],
      "metadata": {
        "id": "dh_IwgnjMpJf"
      },
      "execution_count": null,
      "outputs": []
    },
    {
      "cell_type": "code",
      "source": [
        "volatility"
      ],
      "metadata": {
        "colab": {
          "base_uri": "https://localhost:8080/"
        },
        "id": "yuAWHa29Mzys",
        "outputId": "22876926-f6cb-4c9d-ac48-856715219ddf"
      },
      "execution_count": null,
      "outputs": [
        {
          "output_type": "execute_result",
          "data": {
            "text/plain": [
              "2023-03-31         NaN\n",
              "2023-03-30         NaN\n",
              "2023-03-29         NaN\n",
              "2023-03-28         NaN\n",
              "2023-03-27         NaN\n",
              "                ...   \n",
              "2022-11-11    0.042462\n",
              "2022-11-10    0.041696\n",
              "2022-11-09    0.048585\n",
              "2022-11-08    0.049016\n",
              "2022-11-07    0.048949\n",
              "Name: 5._adjusted_close, Length: 100, dtype: float64"
            ]
          },
          "metadata": {},
          "execution_count": 126
        }
      ]
    },
    {
      "cell_type": "code",
      "source": [
        "recent_volatility"
      ],
      "metadata": {
        "colab": {
          "base_uri": "https://localhost:8080/"
        },
        "id": "W3YD1bbvM1ep",
        "outputId": "c1a3c1fd-e3a9-4644-b330-4b6feb94d3ed"
      },
      "execution_count": null,
      "outputs": [
        {
          "output_type": "execute_result",
          "data": {
            "text/plain": [
              "0.04894920462619077"
            ]
          },
          "metadata": {},
          "execution_count": 52
        }
      ]
    },
    {
      "cell_type": "code",
      "source": [
        "import yfinance as yf\n",
        "\n",
        "def get_top_nearest_strike_price(symbol, option_type, expiration_date):\n",
        "    # Get stock data from Yahoo Finance\n",
        "    stock_data = yf.download(symbol)\n",
        "    current_price = stock_data['Adj Close'][-1]\n",
        "\n",
        "    # Get options chain for the symbol and expiration date\n",
        "    option_chain = yf.Ticker(symbol).option_chain(date=expiration_date)\n",
        "\n",
        "    # Select options of the specified type (call or put)\n",
        "    options = option_chain.calls if option_type == 'call' else option_chain.puts\n",
        "\n",
        "    # Calculate moneyness (distance from current price to strike price)\n",
        "    moneyness = options['strike'] - current_price\n",
        "\n",
        "    # Select nearest in-the-money option\n",
        "    if option_type == 'call':\n",
        "        nearest_option = options[moneyness >= 0].iloc[0]\n",
        "    else:\n",
        "        nearest_option = options[moneyness <= 0].iloc[-1]\n",
        "\n",
        "    # Return the nearest strike price\n",
        "    return nearest_option['strike']\n",
        "\n",
        "# Example usage\n",
        "symbol = 'MSFT'\n",
        "option_type = 'call'\n",
        "expiration_date = '2023-04-28'\n",
        "strike_price = get_top_nearest_strike_price(symbol, option_type, expiration_date)\n",
        "print(f\"Nearest {option_type} strike price for {symbol} on {expiration_date}: {strike_price}\")\n",
        "\n"
      ],
      "metadata": {
        "colab": {
          "base_uri": "https://localhost:8080/"
        },
        "id": "n6cQXb6iTLIx",
        "outputId": "47d30d4d-fb4c-4788-a8d7-2d218ff2d9be"
      },
      "execution_count": null,
      "outputs": [
        {
          "output_type": "stream",
          "name": "stdout",
          "text": [
            "\r[*********************100%***********************]  1 of 1 completed\n",
            "Nearest call strike price for MSFT on 2023-04-28: 290.0\n"
          ]
        }
      ]
    },
    {
      "cell_type": "code",
      "source": [
        "import yfinance as yf\n",
        "import pandas as pd\n",
        "\n",
        "def get_nearest_strike_price(symbol, expiration_date, threshold=0.05, index= -1):\n",
        "    # Download historical stock price data\n",
        "    stock_data = yf.download(symbol, start=(expiration_date - pd.DateOffset(years=1)).strftime('%Y-%m-%d'), end=expiration_date.strftime('%Y-%m-%d'))\n",
        "\n",
        "    # Get options chain for specified symbol and expiration date\n",
        "    options_chain = yf.Ticker(symbol).option_chain(expiration_date.strftime('%Y-%m-%d'))\n",
        "\n",
        "    # Extract call and put option data\n",
        "    calls = options_chain.calls\n",
        "    puts = options_chain.puts\n",
        "\n",
        "    # Find nearest strike price for calls\n",
        "    calls['in_the_money'] = (calls['strike'] < stock_data['Adj Close'].iloc[index]) & (calls['strike'] >= (1 - threshold) * stock_data['Adj Close'].iloc[index])\n",
        "    calls = calls[calls['in_the_money']]\n",
        "    if not calls.empty:\n",
        "        nearest_call = calls.iloc[index]['strike']\n",
        "    else:\n",
        "        nearest_call = None\n",
        "\n",
        "    # Find nearest strike price for puts\n",
        "    puts['in_the_money'] = (puts['strike'] > stock_data['Adj Close'].iloc[index]) & (puts['strike'] <= (1 + threshold) * stock_data['Adj Close'].iloc[index])\n",
        "    puts = puts[puts['in_the_money']]\n",
        "    if not puts.empty:\n",
        "        nearest_put = puts.iloc[0]['strike']\n",
        "    else:\n",
        "        nearest_put = None\n",
        "\n",
        "    return nearest_call, nearest_put\n",
        "\n",
        "\n",
        "# Example usage\n",
        "symbol = 'MSFT'\n",
        "expiration_date = pd.to_datetime('2023-04-28')\n",
        "call_strike, put_strike = get_nearest_strike_price(symbol, expiration_date, threshold=0.05, index=-1)\n",
        "print(f\"Nearest call strike price for {symbol} with expiration date {expiration_date}: {call_strike}\")\n",
        "print(f\"Nearest put strike price for {symbol} with expiration date {expiration_date}: {put_strike}\")\n",
        "call_strike, put_strike = get_nearest_strike_price(symbol, expiration_date, threshold=0.05, index=-2)\n",
        "print(f\"Nearest call strike price for {symbol} with expiration date {expiration_date}: {call_strike}\")\n",
        "print(f\"Nearest put strike price for {symbol} with expiration date {expiration_date}: {put_strike}\")\n",
        "call_strike, put_strike = get_nearest_strike_price(symbol, expiration_date, threshold=0.05, index=-3)\n",
        "print(f\"Nearest call strike price for {symbol} with expiration date {expiration_date}: {call_strike}\")\n",
        "print(f\"Nearest put strike price for {symbol} with expiration date {expiration_date}: {put_strike}\")\n",
        "\n",
        "\n"
      ],
      "metadata": {
        "colab": {
          "base_uri": "https://localhost:8080/"
        },
        "id": "eDqukphjUnaT",
        "outputId": "54145623-3e5b-47dd-b779-7d45fe0b0508"
      },
      "execution_count": null,
      "outputs": [
        {
          "output_type": "stream",
          "name": "stdout",
          "text": [
            "[*********************100%***********************]  1 of 1 completed\n",
            "Nearest call strike price for MSFT with expiration date 2023-04-28 00:00:00: 285.0\n",
            "Nearest put strike price for MSFT with expiration date 2023-04-28 00:00:00: 290.0\n",
            "[*********************100%***********************]  1 of 1 completed\n",
            "Nearest call strike price for MSFT with expiration date 2023-04-28 00:00:00: 275.0\n",
            "Nearest put strike price for MSFT with expiration date 2023-04-28 00:00:00: 285.0\n",
            "[*********************100%***********************]  1 of 1 completed\n",
            "Nearest call strike price for MSFT with expiration date 2023-04-28 00:00:00: 270.0\n",
            "Nearest put strike price for MSFT with expiration date 2023-04-28 00:00:00: 285.0\n"
          ]
        }
      ]
    },
    {
      "cell_type": "code",
      "source": [
        "import numpy as np\n",
        "\n",
        "def monte_carlo_option_price(S, K, T, r, sigma, option_type, num_simulations=10000):\n",
        "    if option_type not in ['call', 'put']:\n",
        "        raise ValueError(\"option_type must be either 'call' or 'put'\")\n",
        "\n",
        "    np.random.seed(42)  # for reproducible results\n",
        "    dt = T / 252  # daily time step, assuming 252 trading days per year\n",
        "\n",
        "    # Simulate daily returns using geometric Brownian motion\n",
        "    daily_returns = np.random.normal((r - 0.5 * sigma**2) * dt, sigma * np.sqrt(dt), size=(num_simulations, 252))\n",
        "\n",
        "    # Calculate asset price paths\n",
        "    price_paths = np.zeros_like(daily_returns)\n",
        "    price_paths[:, 0] = S\n",
        "    for t in range(1, 252):\n",
        "        price_paths[:, t] = price_paths[:, t - 1] * np.exp(daily_returns[:, t])\n",
        "\n",
        "    # Calculate option payouts at maturity\n",
        "    if option_type == 'call':\n",
        "        payouts = np.maximum(price_paths[:, -1] - K, 0)\n",
        "    else:  # option_type == 'put'\n",
        "        payouts = np.maximum(K - price_paths[:, -1], 0)\n",
        "\n",
        "    # Discount payouts to present value and calculate average option price\n",
        "    option_price = np.exp(-r * T) * np.mean(payouts)\n",
        "\n",
        "    return option_price\n",
        "\n",
        "def print_payouts(S, K, T, r, sigma, option_type, num_simulations=10000):\n",
        "    if option_type not in ['call', 'put']:\n",
        "        raise ValueError(\"option_type must be either 'call' or 'put'\")\n",
        "\n",
        "    np.random.seed(42)  # for reproducible results\n",
        "    dt = T / 252  # daily time step, assuming 252 trading days per year\n",
        "\n",
        "    # Simulate daily returns using geometric Brownian motion\n",
        "    daily_returns = np.random.normal((r - 0.5 * sigma**2) * dt, sigma * np.sqrt(dt), size=(num_simulations, 252))\n",
        "\n",
        "    # Calculate asset price paths\n",
        "    price_paths = np.zeros_like(daily_returns)\n",
        "    price_paths[:, 0] = S\n",
        "    for t in range(1, 252):\n",
        "        price_paths[:, t] = price_paths[:, t - 1] * np.exp(daily_returns[:, t])\n",
        "\n",
        "    # Calculate option payouts at maturity\n",
        "    if option_type == 'call':\n",
        "        payouts = np.maximum(price_paths[:, -1] - K, 0)\n",
        "    else:  # option_type == 'put'\n",
        "        payouts = np.maximum(K - price_paths[:, -1], 0)\n",
        "\n",
        "    # Print payouts at maturity\n",
        "    print(f\"Payouts at maturity (T): {payouts}\")\n",
        "\n",
        "    return price_paths\n",
        "\n",
        "\n",
        "\n",
        "def put_payoff(spot, strike, premium):\n",
        "    return np.maximum(strike - spot, 0) - premium\n",
        "\n",
        "def put_spread_payoff(spot, lower_strike, upper_strike, lower_premium, upper_premium):\n",
        "    long_put_payoff = put_payoff(spot, upper_strike, upper_premium)\n",
        "    short_put_payoff = -put_payoff(spot, lower_strike, lower_premium)\n",
        "    return long_put_payoff + short_put_payoff\n",
        "\n",
        "def run_models(symbol = 'MSFT', option_type = 'call', expiration_date = '2023-04-21', strike_price=100, risk_free_rate=0.4, sigma=0.3 ):\n",
        "    # Example usage\n",
        "    S = get_underlying_price(symbol)  # Underlying asset price\n",
        "    K = strike_price  # Strike price\n",
        "    T = (pd.to_datetime(expiration_date) - pd.to_datetime('today')).days / 365 \n",
        "    r = risk_free_rate  # Risk-free rate (2%)\n",
        "    price_paths = print_payouts(S, K, T, r, sigma, option_type)\n",
        "\n",
        "\n",
        "\n",
        "    print(f\"Underlying asset price {S}\")\n",
        "    print(f'Strike Price {K}')\n",
        "    print(f'option type {option_type}')\n",
        "\n",
        "    option_price = monte_carlo_option_price(S, K, T, r, sigma, option_type, num_simulations= 10000)\n",
        "    print(f\"Option price monte_carlo_option_price: {option_price:.2f}\\n\")\n",
        "\n",
        "\n",
        "\n",
        "    # Calculate call spread payoffs\n",
        "    if option_type == 'call':\n",
        "        lower_strike = strike_price\n",
        "        upper_strike = strike_price + 10\n",
        "        lower_premium = monte_carlo_option_price(S, lower_strike, T, r, sigma, option_type, num_simulations= 10000)\n",
        "        upper_premium = monte_carlo_option_price(S, upper_strike, T, r, sigma, option_type, num_simulations= 10000)\n",
        "        \n",
        "        spot_range = np.linspace(S - 20, S + 20, num=1000)\n",
        "        call_spread_payoffs = call_spread_payoff(spot_range, lower_strike, upper_strike, lower_premium, upper_premium)\n",
        "\n",
        "        # Visualize the payout function\n",
        "        plt.plot(spot_range, call_spread_payoffs)\n",
        "        plt.axhline(0, color='black', lw=1)  # Add horizontal line at 0\n",
        "        plt.xlabel(\"Spot Price at Expiration\")\n",
        "        plt.ylabel(\"Payoff\")\n",
        "        plt.title(\"Call Spread Payoff\")\n",
        "        plt.show()\n",
        "    \n",
        "    if option_type == 'put':\n",
        "        lower_strike = strike_price - 10\n",
        "        upper_strike = strike_price\n",
        "        lower_premium = monte_carlo_option_price(S, lower_strike, T, r, sigma, option_type, num_simulations= 10000)\n",
        "        upper_premium = monte_carlo_option_price(S, upper_strike, T, r, sigma, option_type, num_simulations= 10000)\n",
        "        \n",
        "        spot_range = np.linspace(S - 20, S + 20, num=1000)\n",
        "        put_spread_payoffs = put_spread_payoff(spot_range, lower_strike, upper_strike, lower_premium, upper_premium)\n",
        "\n",
        "        # Visualize the payout function\n",
        "        plt.plot(spot_range, put_spread_payoffs)\n",
        "        plt.axhline(0, color='black', lw=1)  # Add horizontal line at 0\n",
        "        plt.xlabel(\"Spot Price at Expiration\")\n",
        "        plt.ylabel(\"Payoff\")\n",
        "        plt.title(\"Put Spread Payoff\")\n",
        "        plt.show()\n",
        "\n",
        "    option_price = black_scholes(S, K, T, r, sigma, option_type)\n",
        "    estimated_S = option_pricing_process(S, K, T, r, sigma, option_type)\n",
        "\n",
        "    print(f\"Option price black_scholes: {option_price:.2f}\")\n",
        "    print(f\"Estimated underlying asset price: {estimated_S:.2f}\\n\")\n",
        "    N= 1000\n",
        "    bi_option_price = binomial_option_price(S, K, T, r, sigma, N, option_type)\n",
        "    print(f\"{option_type.capitalize()} option binomial price: {bi_option_price}\\n\")\n",
        "    print(\"-\"*50)\n",
        "    \n",
        "def run_sim(symbols):\n",
        "    for symbol in symbols:\n",
        "        print(f\"Symbol: {symbol}\")\n",
        "        stock_data = get_stock_data(symbol, api_key)\n",
        "        yield_curve = get_treasury_yield_curve()\n",
        "        risk_free_rate = yield_curve['^IRX'].iloc[-1]\n",
        "        expiration_date = pd.to_datetime('2023-04-28')\n",
        "        sigma = calculate_annualized_volatility(stock_data['5._adjusted_close'], window=50).iloc[-1] \n",
        "\n",
        "        for id in [-1, -2, -3]:\n",
        "\n",
        "            try:\n",
        "                call_strike, put_strike = get_nearest_strike_price(symbol, expiration_date, threshold=0.05, index = id)\n",
        "            except ValueError as e:\n",
        "                error_msg = str(e)\n",
        "                available_expirations_str = error_msg.split('[')[1].split(']')[0]\n",
        "                available_expirations = [pd.Timestamp(exp) for exp in available_expirations_str.split(',')]\n",
        "                print(f\"Error: {error_msg}. Re-running simulation with expiration date: {available_expirations[0]}\")\n",
        "                call_strike, put_strike = get_nearest_strike_price(symbol, available_expirations[0], threshold=0.05)\n",
        "\n",
        "\n",
        "            run_models(symbol = symbol, option_type = 'call', expiration_date = expiration_date, strike_price=call_strike, risk_free_rate=risk_free_rate, sigma=sigma)\n",
        "            run_models(symbol = symbol, option_type = 'put', expiration_date = expiration_date, strike_price=put_strike, risk_free_rate=risk_free_rate, sigma=sigma)\n",
        "        print()\n",
        "\n",
        "# Example usage\n",
        "symbols = [\"MSFT\", \"TSLA\"]\n",
        "api_key = \"\"\n",
        "run_sim(symbols)"
      ],
      "metadata": {
        "colab": {
          "base_uri": "https://localhost:8080/",
          "height": 1000
        },
        "id": "XI4rQL5qR6GL",
        "outputId": "7aed1cb3-5839-40af-bae6-49858c56809c"
      },
      "execution_count": null,
      "outputs": [
        {
          "output_type": "stream",
          "name": "stdout",
          "text": [
            "Symbol: MSFT\n",
            "[*********************100%***********************]  1 of 1 completed\n",
            "Payouts at maturity (T): [3.84242745 5.17202366 0.         ... 2.4449739  6.86720605 0.26112204]\n",
            "Underlying asset price 288.29998779296875\n",
            "Strike Price 285.0\n",
            "option type call\n",
            "Option price monte_carlo_option_price: 4.39\n",
            "\n"
          ]
        },
        {
          "output_type": "display_data",
          "data": {
            "text/plain": [
              "<Figure size 640x480 with 1 Axes>"
            ],
            "image/png": "[encoded data removed]"
          },
          "metadata": {}
        },
        {
          "output_type": "stream",
          "name": "stdout",
          "text": [
            "Option price black_scholes: 4.42\n",
            "Estimated underlying asset price: 571.22\n",
            "\n",
            "Call option binomial price: 3.347186090797799\n",
            "\n",
            "--------------------------------------------------\n",
            "Payouts at maturity (T): [1.15757255 0.         5.15112105 ... 2.5550261  0.         4.73887796]\n",
            "Underlying asset price 288.29998779296875\n",
            "Strike Price 290.0\n",
            "option type put\n",
            "Option price monte_carlo_option_price: 1.90\n",
            "\n"
          ]
        },
        {
          "output_type": "display_data",
          "data": {
            "text/plain": [
              "<Figure size 640x480 with 1 Axes>"
            ],
            "image/png": "[encoded data removed]"
          },
          "metadata": {}
        },
        {
          "output_type": "stream",
          "name": "stdout",
          "text": [
            "Option price black_scholes: 1.90\n",
            "Estimated underlying asset price: 580.30\n",
            "\n",
            "Put option binomial price: 3.0835480611046617\n",
            "\n",
            "--------------------------------------------------\n",
            "[*********************100%***********************]  1 of 1 completed\n",
            "Payouts at maturity (T): [3.84242745 5.17202366 0.         ... 2.4449739  6.86720605 0.26112204]\n",
            "Underlying asset price 288.29998779296875\n",
            "Strike Price 285.0\n",
            "option type call\n",
            "Option price monte_carlo_option_price: 4.39\n",
            "\n"
          ]
        },
        {
          "output_type": "display_data",
          "data": {
            "text/plain": [
              "<Figure size 640x480 with 1 Axes>"
            ],
            "image/png": "[encoded data removed]"
          },
          "metadata": {}
        },
        {
          "output_type": "stream",
          "name": "stdout",
          "text": [
            "Option price black_scholes: 4.42\n",
            "Estimated underlying asset price: 571.22\n",
            "\n",
            "Call option binomial price: 3.347186090797799\n",
            "\n",
            "--------------------------------------------------\n",
            "Payouts at maturity (T): [1.15757255 0.         5.15112105 ... 2.5550261  0.         4.73887796]\n",
            "Underlying asset price 288.29998779296875\n",
            "Strike Price 290.0\n",
            "option type put\n",
            "Option price monte_carlo_option_price: 1.90\n",
            "\n"
          ]
        },
        {
          "output_type": "display_data",
          "data": {
            "text/plain": [
              "<Figure size 640x480 with 1 Axes>"
            ],
            "image/png": "[encoded data removed]"
          },
          "metadata": {}
        },
        {
          "output_type": "stream",
          "name": "stdout",
          "text": [
            "Option price black_scholes: 1.90\n",
            "Estimated underlying asset price: 580.30\n",
            "\n",
            "Put option binomial price: 3.0835480611046617\n",
            "\n",
            "--------------------------------------------------\n",
            "[*********************100%***********************]  1 of 1 completed\n",
            "Payouts at maturity (T): [3.84242745 5.17202366 0.         ... 2.4449739  6.86720605 0.26112204]\n",
            "Underlying asset price 288.29998779296875\n",
            "Strike Price 285.0\n",
            "option type call\n",
            "Option price monte_carlo_option_price: 4.39\n",
            "\n"
          ]
        },
        {
          "output_type": "display_data",
          "data": {
            "text/plain": [
              "<Figure size 640x480 with 1 Axes>"
            ],
            "image/png": "[encoded data removed]"
          },
          "metadata": {}
        },
        {
          "output_type": "stream",
          "name": "stdout",
          "text": [
            "Option price black_scholes: 4.42\n",
            "Estimated underlying asset price: 571.22\n",
            "\n",
            "Call option binomial price: 3.347186090797799\n",
            "\n",
            "--------------------------------------------------\n",
            "Payouts at maturity (T): [1.15757255 0.         5.15112105 ... 2.5550261  0.         4.73887796]\n",
            "Underlying asset price 288.29998779296875\n",
            "Strike Price 290.0\n",
            "option type put\n",
            "Option price monte_carlo_option_price: 1.90\n",
            "\n"
          ]
        },
        {
          "output_type": "display_data",
          "data": {
            "text/plain": [
              "<Figure size 640x480 with 1 Axes>"
            ],
            "image/png": "[encoded data removed]"
          },
          "metadata": {}
        },
        {
          "output_type": "stream",
          "name": "stdout",
          "text": [
            "Option price black_scholes: 1.90\n",
            "Estimated underlying asset price: 580.30\n",
            "\n",
            "Put option binomial price: 3.0835480611046617\n",
            "\n",
            "--------------------------------------------------\n",
            "\n",
            "Symbol: TSLA\n",
            "[*********************100%***********************]  1 of 1 completed\n",
            "Payouts at maturity (T): [2.48660565 4.61752188 0.         ... 0.25984889 7.35174963 0.        ]\n",
            "Underlying asset price 207.4600067138672\n",
            "Strike Price 205.0\n",
            "option type call\n",
            "Option price monte_carlo_option_price: 4.16\n",
            "\n"
          ]
        },
        {
          "output_type": "display_data",
          "data": {
            "text/plain": [
              "<Figure size 640x480 with 1 Axes>"
            ],
            "image/png": "[encoded data removed]"
          },
          "metadata": {}
        },
        {
          "output_type": "stream",
          "name": "stdout",
          "text": [
            "Option price black_scholes: 4.21\n",
            "Estimated underlying asset price: 407.87\n",
            "\n",
            "Call option binomial price: 3.527349487870846\n",
            "\n",
            "--------------------------------------------------\n",
            "Payouts at maturity (T): [0.01339435 0.         6.34178849 ... 2.24015111 0.         5.69351844]\n",
            "Underlying asset price 207.4600067138672\n",
            "Strike Price 207.5\n",
            "option type put\n",
            "Option price monte_carlo_option_price: 2.05\n",
            "\n"
          ]
        },
        {
          "output_type": "display_data",
          "data": {
            "text/plain": [
              "<Figure size 640x480 with 1 Axes>"
            ],
            "image/png": "[encoded data removed]"
          },
          "metadata": {}
        },
        {
          "output_type": "stream",
          "name": "stdout",
          "text": [
            "Option price black_scholes: 2.06\n",
            "Estimated underlying asset price: 419.10\n",
            "\n",
            "Put option binomial price: 2.6183385468380087\n",
            "\n",
            "--------------------------------------------------\n",
            "[*********************100%***********************]  1 of 1 completed\n",
            "Payouts at maturity (T): [2.48660565 4.61752188 0.         ... 0.25984889 7.35174963 0.        ]\n",
            "Underlying asset price 207.4600067138672\n",
            "Strike Price 205.0\n",
            "option type call\n",
            "Option price monte_carlo_option_price: 4.16\n",
            "\n"
          ]
        },
        {
          "output_type": "display_data",
          "data": {
            "text/plain": [
              "<Figure size 640x480 with 1 Axes>"
            ],
            "image/png": "[encoded data removed]"
          },
          "metadata": {}
        },
        {
          "output_type": "stream",
          "name": "stdout",
          "text": [
            "Option price black_scholes: 4.21\n",
            "Estimated underlying asset price: 407.87\n",
            "\n",
            "Call option binomial price: 3.527349487870846\n",
            "\n",
            "--------------------------------------------------\n",
            "Payouts at maturity (T): [0.01339435 0.         6.34178849 ... 2.24015111 0.         5.69351844]\n",
            "Underlying asset price 207.4600067138672\n",
            "Strike Price 207.5\n",
            "option type put\n",
            "Option price monte_carlo_option_price: 2.05\n",
            "\n"
          ]
        },
        {
          "output_type": "display_data",
          "data": {
            "text/plain": [
              "<Figure size 640x480 with 1 Axes>"
            ],
            "image/png": "[encoded data removed]"
          },
          "metadata": {}
        },
        {
          "output_type": "stream",
          "name": "stdout",
          "text": [
            "Option price black_scholes: 2.06\n",
            "Estimated underlying asset price: 419.10\n",
            "\n",
            "Put option binomial price: 2.6183385468380087\n",
            "\n",
            "--------------------------------------------------\n",
            "[*********************100%***********************]  1 of 1 completed\n",
            "Payouts at maturity (T): [2.48660565 4.61752188 0.         ... 0.25984889 7.35174963 0.        ]\n",
            "Underlying asset price 207.4600067138672\n",
            "Strike Price 205.0\n",
            "option type call\n",
            "Option price monte_carlo_option_price: 4.16\n",
            "\n"
          ]
        },
        {
          "output_type": "display_data",
          "data": {
            "text/plain": [
              "<Figure size 640x480 with 1 Axes>"
            ],
            "image/png": "[encoded data removed]"
          },
          "metadata": {}
        },
        {
          "output_type": "stream",
          "name": "stdout",
          "text": [
            "Option price black_scholes: 4.21\n",
            "Estimated underlying asset price: 407.87\n",
            "\n",
            "Call option binomial price: 3.527349487870846\n",
            "\n",
            "--------------------------------------------------\n",
            "Payouts at maturity (T): [0.01339435 0.         6.34178849 ... 2.24015111 0.         5.69351844]\n",
            "Underlying asset price 207.4600067138672\n",
            "Strike Price 207.5\n",
            "option type put\n",
            "Option price monte_carlo_option_price: 2.05\n",
            "\n"
          ]
        },
        {
          "output_type": "display_data",
          "data": {
            "text/plain": [
              "<Figure size 640x480 with 1 Axes>"
            ],
            "image/png": "[encoded data removed]"
          },
          "metadata": {}
        },
        {
          "output_type": "stream",
          "name": "stdout",
          "text": [
            "Option price black_scholes: 2.06\n",
            "Estimated underlying asset price: 419.10\n",
            "\n",
            "Put option binomial price: 2.6183385468380087\n",
            "\n",
            "--------------------------------------------------\n",
            "\n"
          ]
        }
      ]
    },
    {
      "cell_type": "code",
      "source": [
        "import numpy as np\n",
        "import matplotlib.pyplot as plt\n",
        "\n",
        "def call_payoff(spot, strike, premium):\n",
        "    return np.maximum(spot - strike, 0) - premium\n",
        "\n",
        "def call_spread_payoff(spot, lower_strike, upper_strike, lower_premium, upper_premium):\n",
        "    long_call_payoff = call_payoff(spot, lower_strike, lower_premium)\n",
        "    short_call_payoff = -call_payoff(spot, upper_strike, upper_premium)\n",
        "    return long_call_payoff + short_call_payoff\n",
        "\n",
        "# Parameters\n",
        "S = 100  # Current underlying asset price\n",
        "K1 = 95   # Lower strike price\n",
        "K2 = 105  # Upper strike price\n",
        "lower_premium = 7  # Premium paid for the lower strike call option\n",
        "upper_premium = 2  # Premium received for the upper strike call option\n",
        "\n",
        "# Calculate call spread payoffs\n",
        "spot_range = np.linspace(80, 120, num=1000)\n",
        "call_spread_payoffs = call_spread_payoff(spot_range, K1, K2, lower_premium, upper_premium)\n",
        "\n",
        "# Visualize the payout function\n",
        "plt.plot(spot_range, call_spread_payoffs)\n",
        "plt.axhline(0, color='black', lw=1)  # Add horizontal line at 0\n",
        "plt.xlabel(\"Spot Price at Expiration\")\n",
        "plt.ylabel(\"Payoff\")\n",
        "plt.title(\"Call Spread Payoff\")\n",
        "plt.show()\n"
      ],
      "metadata": {
        "colab": {
          "base_uri": "https://localhost:8080/",
          "height": 472
        },
        "id": "xEDix_N2u5ti",
        "outputId": "50f0da35-c40a-4c1a-8626-bff7988be04e"
      },
      "execution_count": null,
      "outputs": [
        {
          "output_type": "display_data",
          "data": {
            "text/plain": [
              "<Figure size 640x480 with 1 Axes>"
            ],
            "image/png": "[encoded data removed]"
          },
          "metadata": {}
        }
      ]
    },
    {
      "cell_type": "code",
      "source": [],
      "metadata": {
        "id": "XsnIrsEn41tj"
      },
      "execution_count": null,
      "outputs": []
    }
  ]
}