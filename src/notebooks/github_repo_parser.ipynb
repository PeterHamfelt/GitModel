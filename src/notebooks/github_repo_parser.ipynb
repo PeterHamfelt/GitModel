{
 "cells": [
  {
   "attachments": {},
   "cell_type": "markdown",
   "metadata": {
    "id": "pyDPPnH5yc88"
   },
   "source": [
    "## Install requirements and updating python version to 3.10\n",
    "- or atleast up to the python version of the repo your decomposing"
   ]
  },
  {
   "cell_type": "code",
   "execution_count": null,
   "metadata": {},
   "outputs": [],
   "source": [
    "!python --version"
   ]
  },
  {
   "cell_type": "markdown",
   "metadata": {
    "id": "tKQGmkGB5e4z"
   },
   "source": [
    "## Imports"
   ]
  },
  {
   "cell_type": "code",
   "execution_count": 4,
   "metadata": {
    "id": "pYUvw4APoSFL"
   },
   "outputs": [],
   "source": [
    "import openai\n",
    "import os\n",
    "import inspect\n",
    "import json\n",
    "import scipy\n",
    "import scipy.stats\n",
    "import numpy as np\n",
    "from bertopic import BERTopic"
   ]
  },
  {
   "cell_type": "markdown",
   "metadata": {
    "id": "L8Wa1YL-5gfw"
   },
   "source": [
    "## OpenAI key"
   ]
  },
  {
   "cell_type": "code",
   "execution_count": 13,
   "metadata": {
    "colab": {
     "base_uri": "https://localhost:8080/"
    },
    "id": "gUWDfkEmo3Ig",
    "outputId": "6851cdca-6fee-43e8-e716-2fdae9305b58"
   },
   "outputs": [
    {
     "name": "stdout",
     "output_type": "stream",
     "text": [
      "Enter the secret value: ··········\n"
     ]
    }
   ],
   "source": [
    "from getpass import getpass\n",
    "\n",
    "openai_secret = getpass(\"Enter the secret value: \")\n",
    "# Set up OpenAI API credentials\n",
    "openai.api_key = openai_secret"
   ]
  },
  {
   "cell_type": "markdown",
   "metadata": {
    "id": "iSeKDGzK5j7l"
   },
   "source": [
    "## Download Repo of interest"
   ]
  },
  {
   "cell_type": "code",
   "execution_count": null,
   "metadata": {
    "id": "iqn84DMuwfmL"
   },
   "outputs": [],
   "source": [
    "%%capture\n",
    "%%bash\n",
    "git clone https://github.com/danijar/dreamerv3"
   ]
  },
  {
   "cell_type": "code",
   "execution_count": 6,
   "metadata": {
    "id": "u8wVn3nVWjbF"
   },
   "outputs": [],
   "source": [
    "%%capture\n",
    "%%bash\n",
    "git clone https://github.com/danielpatrickhug/GitModel.git"
   ]
  },
  {
   "cell_type": "code",
   "execution_count": null,
   "metadata": {
    "id": "-c_YbZM3hT3r"
   },
   "outputs": [],
   "source": [
    "%%capture\n",
    "%%bash\n",
    "git clone https://github.com/SPOCKnots/pyknotid"
   ]
  },
  {
   "cell_type": "code",
   "execution_count": null,
   "metadata": {
    "id": "szqoEhL9GsVe"
   },
   "outputs": [],
   "source": [
    "%%capture\n",
    "%%bash\n",
    "git clone https://github.com/lab-v2/pyreason.git"
   ]
  },
  {
   "cell_type": "code",
   "execution_count": null,
   "metadata": {
    "id": "iZ62990GpUgr"
   },
   "outputs": [],
   "source": [
    "%%capture\n",
    "%%bash\n",
    "git clone https://github.com/deepmind/clrs.git"
   ]
  },
  {
   "cell_type": "code",
   "execution_count": null,
   "metadata": {
    "id": "akgR7VlfD25O"
   },
   "outputs": [],
   "source": [
    "%%capture\n",
    "%%bash\n",
    "git clone https://github.com/HazyResearch/safari"
   ]
  },
  {
   "cell_type": "markdown",
   "metadata": {
    "id": "D76BYM2T5pQV"
   },
   "source": [
    "## Parse Repo Dir and extract Imports, Globals, Classes(methods), Functions"
   ]
  },
  {
   "cell_type": "code",
   "execution_count": 5,
   "metadata": {
    "id": "7fJzcn1h0-gy"
   },
   "outputs": [
    {
     "ename": "ModuleNotFoundError",
     "evalue": "No module named 'ast_parsers'",
     "output_type": "error",
     "traceback": [
      "\u001b[0;31m---------------------------------------------------------------------------\u001b[0m",
      "\u001b[0;31mModuleNotFoundError\u001b[0m                       Traceback (most recent call last)",
      "Cell \u001b[0;32mIn[5], line 3\u001b[0m\n\u001b[1;32m      1\u001b[0m \u001b[39mimport\u001b[39;00m \u001b[39mos\u001b[39;00m\n\u001b[1;32m      2\u001b[0m \u001b[39mimport\u001b[39;00m \u001b[39mast\u001b[39;00m\n\u001b[0;32m----> 3\u001b[0m \u001b[39mfrom\u001b[39;00m \u001b[39mast_parsers\u001b[39;00m\u001b[39m.\u001b[39;00m\u001b[39mpython_ast_parser\u001b[39;00m \u001b[39mimport\u001b[39;00m parse_python_file, get_methods, parse_github_repo\n\u001b[1;32m      4\u001b[0m \u001b[39mfrom\u001b[39;00m \u001b[39msystem_prompts\u001b[39;00m\u001b[39m.\u001b[39;00m\u001b[39mformat_system_prompts\u001b[39;00m \u001b[39mimport\u001b[39;00m format_system_prompts, format_system_prompts_with_tree\n",
      "\u001b[0;31mModuleNotFoundError\u001b[0m: No module named 'ast_parsers'"
     ]
    }
   ],
   "source": [
    "import os\n",
    "import ast\n",
    "from ast_parsers.python_ast_parser import parse_python_file, get_methods, parse_github_repo\n",
    "from system_prompts.format_system_prompts import format_system_prompts, format_system_prompts_with_tree\n",
    "from models.transformers.chatgpt_api_inference import process_transcript"
   ]
  },
  {
   "cell_type": "markdown",
   "metadata": {
    "id": "-X3Uu9C4LO_H"
   },
   "source": [
    "## Assistant Tasks"
   ]
  },
  {
   "cell_type": "markdown",
   "metadata": {
    "id": "nK5a3vi3LUXJ"
   },
   "source": [
    "## Inference"
   ]
  },
  {
   "cell_type": "code",
   "execution_count": 2,
   "metadata": {
    "id": "J6C8FqZpoe7B"
   },
   "outputs": [
    {
     "ename": "ModuleNotFoundError",
     "evalue": "No module named 'models'",
     "output_type": "error",
     "traceback": [
      "\u001b[0;31m---------------------------------------------------------------------------\u001b[0m",
      "\u001b[0;31mModuleNotFoundError\u001b[0m                       Traceback (most recent call last)",
      "Cell \u001b[0;32mIn[2], line 1\u001b[0m\n\u001b[0;32m----> 1\u001b[0m \u001b[39mfrom\u001b[39;00m \u001b[39mmodels\u001b[39;00m\u001b[39m.\u001b[39;00m\u001b[39mtransformers\u001b[39;00m\u001b[39m.\u001b[39;00m\u001b[39mchatgpt_api_inference\u001b[39;00m \u001b[39mimport\u001b[39;00m process_transcript\n",
      "\u001b[0;31mModuleNotFoundError\u001b[0m: No module named 'models'"
     ]
    }
   ],
   "source": []
  },
  {
   "cell_type": "code",
   "execution_count": 42,
   "metadata": {
    "id": "3VFKme-QwJR8"
   },
   "outputs": [],
   "source": [
    "topic_tree = \"\"\"\n",
    ".\n",
    "├─Enum-like classes to define problem classes and data types in a neural network____\n",
    "│    ├─■──Understanding `Stage` and `OutputClass` classes in Python for problem stages and output class differ ── Topic: 13\n",
    "│    └─■──Enum-like classes in Python: Location and Type.____ ── Topic: 12\n",
    "└─NetChunked message passing for time-chunked data____\n",
    "     ├─Documented code for a model with selectable message passing algorithm using time-chunked data____\n",
    "     │    ├─Understanding the CLRSDataset in TensorFlow Datasets (TFDS)____\n",
    "     │    │    ├─■──CLRS dataset downloading and GCP URL retrieval____ ── Topic: 21\n",
    "     │    │    └─\"TFDS CLRSDataset with chunked data and preprocessing\"____\n",
    "     │    │         ├─■──TensorFlow Datasets (TFDS) CLRS30_v Dataset and Chunking____ ── Topic: 4\n",
    "     │    │         └─■──Understanding _build_default_builder_configs function for building default configurations for the CL ── Topic: 10\n",
    "     │    └─Python functions and classes for machine learning models and data processing.____\n",
    "     │         ├─Message Passing Algorithm for Time-Chunked Sequential Data Training.____\n",
    "     │         │    ├─Python coding for neural networks and message passing graph algorithms____\n",
    "     │         │    │    ├─Function to evaluate hint predictions using input data and output scores____\n",
    "     │         │    │    │    ├─■──Mask evaluation with F1 score and class imbalance protection.____ ── Topic: 16\n",
    "     │         │    │    │    └─■──Python function for evaluating hint predictions using input data and returning dictionary of evaluat ── Topic: 8\n",
    "     │         │    │    └─Postprocessing, Model Implementation, and Hint Loss Calculation for Machine Learning Models____\n",
    "     │         │    │         ├─Machine learning models and loss functions____\n",
    "     │         │    │         │    ├─■──Hint Trajectory Batching____ ── Topic: 15\n",
    "     │         │    │         │    └─Graph-based model implementation with time-chunked data processing____\n",
    "     │         │    │         │         ├─Neural networks for time-chunked data with hint loss computation.____\n",
    "     │         │    │         │         │    ├─■──Understanding the _copy_hint function and assertions in a data preprocessing algorithm.____ ── Topic: 11\n",
    "     │         │    │         │         │    └─Neural net models with message passing algorithm and chunked data processing____\n",
    "     │         │    │         │         │         ├─■──Sinkhorn operator in log space for permutation pointer postprocessing.____ ── Topic: 1\n",
    "     │         │    │         │         │         └─■──Neural network models for graph-based data processing.____ ── Topic: 0\n",
    "     │         │    │         │         └─■──Understanding and Implementing Hash Table Probing with Strings Pair, Strings Pi, and Strings Positio ── Topic: 3\n",
    "     │         │    │         └─Postprocessing with Sinkhorn Operator____\n",
    "     │         │    │              ├─Postprocessing with Sinkhorn Operator____\n",
    "     │         │    │              │    ├─■──Understanding the _is_not_done_broadcast function for tensor manipulation in JAX.____ ── Topic: 5\n",
    "     │         │    │              │    └─■──Postprocessing with Sinkhorn operator____ ── Topic: 6\n",
    "     │         │    │              └─■──Encoders initialization and construction with XAVIER_ON_SCALARS method.____ ── Topic: 18\n",
    "     │         │    └─Gradient filtering in JAX with pmap and optimizer updates____\n",
    "     │         │         ├─■──JAX pmap computation and reshaping of Pytrees for multiple devices.____ ── Topic: 2\n",
    "     │         │         └─■──Gradient Filtering and Optimization Updates in Neural Networks____ ── Topic: 14\n",
    "     │         └─Processor Factory Implementation____\n",
    "     │              ├─Function for creating a processor factory with various options (e.g. attention, GAT, embeddings) inc\n",
    "     │              │    ├─■──Functions for creating processing factories with various configurations for machine learning models. ── Topic: 7\n",
    "     │              │    └─■──Graph Sampling and Shortest Paths for DAGs____ ── Topic: 17\n",
    "     │              └─■──Strongly Connected Components using Kosaraju's Algorithm in Python____ ── Topic: 20\n",
    "     └─Parsing DataPoint objects from ProbesDict by stage____\n",
    "          ├─■──Document analysis of a Python function for splitting contents of a dictionary into lists of DataPoin ── Topic: 9\n",
    "          └─■──Understanding the push and finalize functions in probing.py for managing ProbesDict.____ ── Topic: 19\n",
    "\n",
    "\"\"\""
   ]
  },
  {
   "cell_type": "code",
   "execution_count": null,
   "metadata": {
    "id": "1h_Q5pMNXfFC"
   },
   "outputs": [],
   "source": []
  },
  {
   "cell_type": "code",
   "execution_count": 65,
   "metadata": {
    "colab": {
     "base_uri": "https://localhost:8080/"
    },
    "id": "lnkmH42IUClb",
    "outputId": "488b588b-9202-41b2-de59-db36071e6de6"
   },
   "outputs": [
    {
     "name": "stdout",
     "output_type": "stream",
     "text": [
      "9\n",
      "/content/GitModel/src/memory_tree_generation.py\n",
      "/content/GitModel/src/repo_graph_generation.py\n",
      "/content/GitModel/src/ast_parsers/python_ast_parser.py\n"
     ]
    }
   ],
   "source": [
    "git_repo_path = \"/content/GitModel\"\n",
    "out_path = \"/content/gitmodel_sum\"\n",
    "name_id = \"gitmodel\"\n",
    "contents = parse_github_repo(git_repo_path)\n",
    "print(len(contents))\n",
    "pruned_contents = []\n",
    "for cont in contents:\n",
    "    fp = cont[\"file_name\"]\n",
    "    fn = fp.split(\"/\")[-1]\n",
    "    fn_ = fn.split(\".\")[0]\n",
    "    if fn_ in [\"__init__\"] or fn_.split(\"_\")[-1] in [\"test\"]:\n",
    "        continue\n",
    "    else:\n",
    "        print(cont[\"file_name\"])\n",
    "        pruned_contents.append(cont)"
   ]
  },
  {
   "cell_type": "code",
   "execution_count": 66,
   "metadata": {
    "colab": {
     "base_uri": "https://localhost:8080/",
     "height": 974
    },
    "id": "IKRpatkJpg9g",
    "outputId": "017c2a87-2210-412c-8459-28871a80f80d"
   },
   "outputs": [
    {
     "name": "stdout",
     "output_type": "stream",
     "text": [
      "file_name: /content/GitModel/src/memory_tree_generation.py\n",
      "Imports: ['from bertopic import BERTopic', 'from bertopic.representation import OpenAI', 'from bertopic.vectorizers import ClassTfidfTransformer', 'from sentence_transformers import SentenceTransformer', 'from sklearn.feature_extraction.text import CountVectorizer']\n",
      "functions: ['def load_topic_model(diversity=0.1, min_topic_size=10, nr_topics=\"auto\", model_name=\"all-MiniLM-L6-v2\"):\\n    vectorizer_model = CountVectorizer(stop_words=\"english\")\\n    ctfidf_model = ClassTfidfTransformer(reduce_frequent_words=True)\\n    representation_model = OpenAI(model=\"gpt-3.5-turbo\", delay_in_seconds=1, chat=True)\\n    model = SentenceTransformer(model_name)\\n    topic_model = BERTopic(\\n        nr_topics=nr_topics,\\n        min_topic_size=min_topic_size,\\n        representation_model=representation_model,\\n        vectorizer_model=vectorizer_model,\\n        ctfidf_model=ctfidf_model,\\n        embedding_model=model,\\n    )\\n    return topic_model', 'def fit_topic_model(topic_model, data, embeddings, key=\"query\"):\\n    topics, probs = topic_model.fit_transform(data[key].to_list(), embeddings)\\n    return topics, probs', 'def get_topic_info(topic_model):\\n    return topic_model.get_topic_info()', 'def reduce_topics(topic_model, data, nr_topics, key=\"query\"):\\n    topic_model.reduce_topics(data[key].to_list(), nr_topics)\\n    return topic_model', 'def get_representative_docs(topic_model):\\n    return topic_model.get_representative_docs()', 'def reduce_outliers(topic_model, data, topics, probs, key=\"query\", strategy=\"c-tf-idf\"):\\n    vectorizer_model = CountVectorizer(stop_words=\"english\")\\n    ctfidf_model = ClassTfidfTransformer(reduce_frequent_words=True)\\n    representation_model = OpenAI(model=\"gpt-3.5-turbo\", delay_in_seconds=1, chat=True)\\n    # representation_model = MaximalMarginalRelevance(diversity=diversity)\\n    if strategy == \"c-tf-idf\":\\n        new_topics = topic_model.reduce_outliers(data[key].to_list(), topics, strategy, threshold=0.1)\\n    elif strategy == \"embeddings\":\\n        new_topics = topic_model.reduce_outliers(data[key].to_list(), topics, strategy)\\n    elif strategy == \"distributions\":\\n        new_topics = topic_model.reduce_outliers(data[key].to_list(), topics, probabilities=probs, strategy=strategy)\\n    else:\\n        raise ValueError(\"Invalid strategy\")\\n    topic_model.update_topics(\\n        data[key].to_list(),\\n        topics=new_topics,\\n        representation_model=representation_model,\\n        vectorizer_model=vectorizer_model,\\n        ctfidf_model=ctfidf_model,\\n    )\\n    return topic_model, new_topics', 'def compute_hierarchical_topic_tree(topic_model, data, key=\"query\"):\\n    hierarchical_topics = topic_model.hierarchical_topics(data[key].to_list())\\n    tree = topic_model.get_topic_tree(hierarchical_topics)\\n    return hierarchical_topics, tree']\n",
      "Classes: []\n",
      "7 0\n",
      "\n",
      "\n",
      "\n",
      "file_name: /content/GitModel/src/memory_tree_generation.py\n",
      "Imports: ['from bertopic import BERTopic', 'from bertopic.representation import OpenAI', 'from bertopic.vectorizers import ClassTfidfTransformer', 'from sentence_transformers import SentenceTransformer', 'from sklearn.feature_extraction.text import CountVectorizer']\n",
      "functions: ['def load_topic_model(diversity=0.1, min_topic_size=10, nr_topics=\"auto\", model_name=\"all-MiniLM-L6-v2\"):\\n    vectorizer_model = CountVectorizer(stop_words=\"english\")\\n    ctfidf_model = ClassTfidfTransformer(reduce_frequent_words=True)\\n    representation_model = OpenAI(model=\"gpt-3.5-turbo\", delay_in_seconds=1, chat=True)\\n    model = SentenceTransformer(model_name)\\n    topic_model = BERTopic(\\n        nr_topics=nr_topics,\\n        min_topic_size=min_topic_size,\\n        representation_model=representation_model,\\n        vectorizer_model=vectorizer_model,\\n        ctfidf_model=ctfidf_model,\\n        embedding_model=model,\\n    )\\n    return topic_model', 'def fit_topic_model(topic_model, data, embeddings, key=\"query\"):\\n    topics, probs = topic_model.fit_transform(data[key].to_list(), embeddings)\\n    return topics, probs', 'def get_topic_info(topic_model):\\n    return topic_model.get_topic_info()', 'def reduce_topics(topic_model, data, nr_topics, key=\"query\"):\\n    topic_model.reduce_topics(data[key].to_list(), nr_topics)\\n    return topic_model', 'def get_representative_docs(topic_model):\\n    return topic_model.get_representative_docs()', 'def reduce_outliers(topic_model, data, topics, probs, key=\"query\", strategy=\"c-tf-idf\"):\\n    vectorizer_model = CountVectorizer(stop_words=\"english\")\\n    ctfidf_model = ClassTfidfTransformer(reduce_frequent_words=True)\\n    representation_model = OpenAI(model=\"gpt-3.5-turbo\", delay_in_seconds=1, chat=True)\\n    # representation_model = MaximalMarginalRelevance(diversity=diversity)\\n    if strategy == \"c-tf-idf\":\\n        new_topics = topic_model.reduce_outliers(data[key].to_list(), topics, strategy, threshold=0.1)\\n    elif strategy == \"embeddings\":\\n        new_topics = topic_model.reduce_outliers(data[key].to_list(), topics, strategy)\\n    elif strategy == \"distributions\":\\n        new_topics = topic_model.reduce_outliers(data[key].to_list(), topics, probabilities=probs, strategy=strategy)\\n    else:\\n        raise ValueError(\"Invalid strategy\")\\n    topic_model.update_topics(\\n        data[key].to_list(),\\n        topics=new_topics,\\n        representation_model=representation_model,\\n        vectorizer_model=vectorizer_model,\\n        ctfidf_model=ctfidf_model,\\n    )\\n    return topic_model, new_topics', 'def compute_hierarchical_topic_tree(topic_model, data, key=\"query\"):\\n    hierarchical_topics = topic_model.hierarchical_topics(data[key].to_list())\\n    tree = topic_model.get_topic_tree(hierarchical_topics)\\n    return hierarchical_topics, tree']\n",
      "Classes: []\n",
      "7 0\n",
      "\n",
      "\n",
      "\n",
      "file_name: /content/GitModel/src/repo_graph_generation.py\n",
      "Imports: ['import json', 'import math', 'import numpy as np', 'import openai', 'import scipy', 'import scipy.sparse as sp', 'import torch', 'from sentence_transformers import SentenceTransformer', 'from torch import Tensor', 'from tqdm import tqdm', 'from ast_parsers.python_ast_parser import get_methods, parse_github_repo', 'from system_prompts.format_system_prompts import format_system_prompts, format_system_prompts_with_tree']\n",
      "functions: ['def embed_data(data, key=\"query\", model_name=\"all-MiniLM-L6-v2\", cores=1, gpu=False, batch_size=128):\\n    \"\"\"\\n    Embed the sentences/text using the MiniLM language model (which uses mean pooling)\\n    \"\"\"\\n    print(\"Embedding data\")\\n    model = SentenceTransformer(model_name)\\n    print(\"Model loaded\")\\n\\n    sentences = data[key].tolist()\\n    unique_sentences = data[key].unique()\\n    print(\"Unique sentences\", len(unique_sentences))\\n\\n    if cores == 1:\\n        embeddings = model.encode(unique_sentences, show_progress_bar=True, batch_size=batch_size)\\n    else:\\n        devices = [\"cpu\"] * cores\\n        if gpu:\\n            devices = None  # use all CUDA devices\\n\\n        # Start the multi-process pool on multiple devices\\n        print(\"Multi-process pool starting\")\\n        pool = model.start_multi_process_pool(devices)\\n        print(\"Multi-process pool started\")\\n\\n        chunk_size = math.ceil(len(unique_sentences) / cores)\\n\\n        # Compute the embeddings using the multi-process pool\\n        embeddings = model.encode_multi_process(unique_sentences, pool, batch_size=batch_size, chunk_size=chunk_size)\\n        model.stop_multi_process_pool(pool)\\n\\n    print(\"Embeddings computed\")\\n\\n    mapping = {sentence: embedding for sentence, embedding in zip(unique_sentences, embeddings)}\\n    embeddings = np.array([mapping[sentence] for sentence in sentences])\\n\\n    return embeddings', 'def gaussian_kernel_torch(embs_a, embs_b, sigma=1.0):\\n    \"\"\"\\n    Computes the Gaussian kernel matrix between two sets of embeddings using PyTorch.\\n    :param embs_a: Tensor of shape (batch_size_a, embedding_dim) containing the first set of embeddings.\\n    :param embs_b: Tensor of shape (batch_size_b, embedding_dim) containing the second set of embeddings.\\n    :param sigma: Width of the Gaussian kernel.\\n    :return: Tensor of shape (batch_size_a, batch_size_b) containing the Gaussian kernel matrix.\\n    \"\"\"\\n    if not isinstance(embs_a, torch.Tensor):\\n        embs_a = torch.tensor(embs_a)\\n\\n    if not isinstance(embs_b, torch.Tensor):\\n        embs_b = torch.tensor(embs_b)\\n\\n    # Compute the pairwise distances between the embeddings\\n    dist_matrix = torch.cdist(embs_a, embs_b)\\n\\n    # Compute the Gaussian kernel matrix\\n    kernel_matrix = torch.exp(-(dist_matrix**2) / (2 * sigma**2))\\n\\n    return kernel_matrix', 'def cos_sim(a: Tensor, b: Tensor):\\n    \"\"\"\\n    Computes the cosine similarity cos_sim(a[i], b[j]) for all i and j.\\n    :return: Matrix with res[i][j]  = cos_sim(a[i], b[j])\\n    \"\"\"\\n    if not isinstance(a, torch.Tensor):\\n        a = torch.tensor(np.array(a))\\n\\n    if not isinstance(b, torch.Tensor):\\n        b = torch.tensor(np.array(b))\\n\\n    if len(a.shape) == 1:\\n        a = a.unsqueeze(0)\\n\\n    if len(b.shape) == 1:\\n        b = b.unsqueeze(0)\\n\\n    a_norm = torch.nn.functional.normalize(a, p=2, dim=1)\\n    b_norm = torch.nn.functional.normalize(b, p=2, dim=1)\\n    return torch.mm(a_norm, b_norm.transpose(0, 1))', 'def prune_ref_docs(qa_embs, ref_embs, ref_docs, threshold=0.1):\\n    \"\"\"\\n    Drops unnecessary documents from the reference embeddings and updates the list of reference documents,\\n    and then recomputes the adjacency matrix.\\n\\n    Parameters:\\n    qa_embs (numpy array): The embedding matrix of QA pairs.\\n    ref_embs (numpy array): The embedding matrix of reference sentences.\\n    ref_docs (list): The list of reference documents.\\n    threshold (float): The threshold below which documents are considered unnecessary.\\n\\n    Returns:\\n    pruned_ref_embs (numpy array): The pruned embedding matrix of reference sentences.\\n    pruned_ref_docs (list): The pruned list of reference documents.\\n    pruned_A (numpy array): The pruned adjacency matrix.\\n    \"\"\"\\n\\n    # Compute the initial adjacency matrix with full reference embeddings\\n    A = gaussian_kernel_torch(qa_embs, ref_embs, sigma=0.5)\\n    print(f\"Before: {A.shape}\")\\n    # Compute the row-wise sum of the adjacency matrix\\n    row_sum = torch.sum(A, dim=0)\\n\\n    # Identify the indexes of the relevant documents\\n    relevant_idx = torch.where(row_sum > threshold * row_sum.max())[0]\\n\\n    # Drop unnecessary rows from the reference embeddings\\n    pruned_ref_embs = ref_embs[relevant_idx]\\n\\n    # Update the list of reference documents\\n    pruned_ref_docs = [ref_docs[i] for i in relevant_idx]\\n\\n    # Recompute the adjacency matrix with pruned reference embeddings\\n    pruned_A = gaussian_kernel_torch(qa_embs, pruned_ref_embs, sigma=0.5)\\n    print(f\"After: {pruned_A.shape}\")\\n    return pruned_ref_embs, pruned_ref_docs, pruned_A', 'def compute_cos_sim_kernel(embs, threshold=0.65, kernel_type=\"cosine\", sigma=1.0):\\n    # match case to kernel type\\n    if kernel_type == \"gaussian\":\\n        A = gaussian_kernel_torch(embs, embs, sigma)\\n    if kernel_type == \"cosine\":\\n        A = cos_sim(embs, embs)\\n    adj_matrix = torch.zeros_like(A)\\n    adj_matrix[A > threshold] = 1\\n    adj_matrix[A <= threshold] = 0\\n    adj_matrix = adj_matrix.numpy().astype(np.float32)\\n    return adj_matrix', 'def k_hop_message_passing_sparse(A, node_features, k):\\n    \"\"\"\\n    Compute the k-hop adjacency matrix and aggregated features using message passing.\\n\\n    Parameters:\\n    A (numpy array or scipy sparse matrix): The adjacency matrix of the graph.\\n    node_features (numpy array or scipy sparse matrix): The feature matrix of the nodes.\\n    k (int): The number of hops for message passing.\\n\\n    Returns:\\n    A_k (numpy array): The k-hop adjacency matrix.\\n    agg_features (numpy array): The aggregated feature matrix for each node in the k-hop neighborhood.\\n    \"\"\"\\n\\n    # Convert input matrices to sparse matrices if they are not already\\n    if not sp.issparse(A):\\n        A = sp.csr_matrix(A)\\n    if not sp.issparse(node_features):\\n        node_features = sp.csr_matrix(node_features)\\n\\n    # Compute the k-hop adjacency matrix and the aggregated features\\n    A_k = A.copy()\\n    agg_features = node_features.copy()\\n\\n    for i in tqdm(range(k)):\\n        # Compute the message passing for the k-hop neighborhood\\n        message = A_k.dot(node_features)\\n        # Apply a GCN layer to aggregate the messages\\n        agg_features = A_k.dot(agg_features) + message\\n        # Update the k-hop adjacency matrix by adding new edges\\n        A_k += A_k.dot(A)\\n\\n    return A_k.toarray(), agg_features.toarray()', 'def compute_kernel(embs):\\n    # match case to kernel type\\n    A = cos_sim(embs, embs)\\n    adj_matrix = A.numpy().astype(np.float32)\\n    return adj_matrix', 'def degree_matrix(A):\\n    \"\"\"\\n    compute degree matrix using adjacency distance matrix from pairwise distances\\n    :A: nxn size matrix embedding minmaxed using mu sigma and pairwise distances\\n    :return: degree matrix\\n    \"\"\"\\n    n = A.shape[0]\\n    D = np.zeros((n, n))\\n    for i in range(n):\\n        D[i, i] = np.sum(A[i, :])\\n    return D', 'def graph_laplacian(A):\\n    \"\"\"\\n    compute graph laplacian using degree and adjacency matrix from pairwise distances\\n    :A: nxn size matrix embedding minmaxed using mu sigma and pairwise distances\\n    :return: graph laplacian, and degree matrix\\n    \"\"\"\\n    D = degree_matrix(A)\\n    L = D - A\\n    return L, D', 'def estimate_pdf(scores: list):\\n    \"\"\"\\n    estimate scores probability density function\\n    :scores: list of distance scores from topic features to topic centroid\\n    :return: distribution\\n    \"\"\"\\n    return scipy.stats.gaussian_kde(scores)', 'def chat_gpt_inference(messages: list):\\n    response = openai.ChatCompletion.create(model=\"gpt-3.5-turbo\", messages=messages, max_tokens=400, temperature=0.4)\\n    return response', 'def create_prompt_message_template(text, role=\"user\"):\\n    if role not in [\"user\", \"assistant\"]:\\n        raise ValueError(\"Not a valid role. Please use \\'user\\' or \\'assistant\\'.\")\\n    return {\"role\": role, \"content\": text}', 'def compose_inference(text_block, messages):\\n    user_template = create_prompt_message_template(text_block, role=\"user\")\\n    messages.append(user_template)\\n    chat_resp = chat_gpt_inference(messages)\\n    reply_text = chat_resp[\"choices\"][0][\"message\"][\"content\"]\\n    assistant_template = create_prompt_message_template(reply_text, role=\"assistant\")\\n    messages.append(assistant_template)\\n    return messages, reply_text', 'def process_transcript(segments, file_name, git_repo_path, output_file_path, system_prompt, task, code_type):\\n    messages = [{\"role\": \"system\", \"content\": system_prompt}]\\n\\n    with open(output_file_path, \"a\") as f:\\n        for i, sent in enumerate(segments):\\n            text_block = f\"\"\"```{sent}```\"\"\"\\n            try:\\n                messages, reply_text = compose_inference(text_block[:2000], messages)\\n\\n            except Exception:\\n                messages, reply_text = compose_inference(\\n                    text_block[:2000], [{\"role\": \"system\", \"content\": system_prompt}]\\n                )\\n            row = {\\n                \"git_repo_path\": git_repo_path,\\n                \"file_name\": file_name,\\n                \"code_type\": code_type,\\n                \"system_task\": task,\\n                \"system_prompt\": system_prompt,\\n                \"conversation_history\": messages,\\n                \"assistant_reply\": reply_text,\\n            }\\n            json.dump(row, f)\\n            f.write(\"\\\\n\")\\n\\n    return messages', 'def get_repo_contents(git_repo_path):\\n    contents = parse_github_repo(git_repo_path)\\n    print(len(contents))\\n    pruned_contents = []\\n    for cont in contents:\\n        fp = cont[\"file_name\"]\\n        fn = fp.split(\"/\")[-1]\\n        fn_ = fn.split(\".\")[0]\\n        if fn_ in [\"__init__\"] or fn_.split(\"_\")[-1] in [\"test\"]:\\n            continue\\n        else:\\n            print(cont[\"file_name\"])\\n            pruned_contents.append(cont)\\n    return pruned_contents', 'def decompose_repo(contents, git_repo_path, name_id, topic_tree, out_path, with_tree=False):\\n    # This is bad\\n    for cont in contents:\\n        if with_tree:\\n            system_prompts = format_system_prompts(git_repo_path, cont[\"file_name\"])\\n        else:\\n            system_prompts = format_system_prompts_with_tree(git_repo_path, cont[\"file_name\"], topic_tree)\\n        for k, v in zip(system_prompts.keys(), system_prompts.values()):\\n            func_task = k\\n            out_file_name = f\"{name_id}_{func_task}\"\\n            print(f\"file_name: {cont[\\'file_name\\']}\")\\n            num_funcs = len(cont[\"functions\"])\\n            num_classes = len(cont[\"classes\"])\\n            print(f\"Imports: {cont[\\'imports\\']}\")\\n            try:\\n                if num_funcs > 0 or num_classes > 0:\\n                    print(f\"functions: {cont[\\'functions\\']}\")\\n                    _ = process_transcript(\\n                        cont[\"functions\"],\\n                        cont[\"file_name\"],\\n                        git_repo_path,\\n                        f\"{out_path}/{out_file_name}.jsonl\",\\n                        system_prompts[func_task],\\n                        func_task,\\n                        \"functions\",\\n                    )\\n                    print(f\"Classes: {cont[\\'classes\\']}\")\\n                    _ = process_transcript(\\n                        cont[\"classes\"],\\n                        cont[\"file_name\"],\\n                        git_repo_path,\\n                        f\"{out_path}/{out_file_name}.jsonl\",\\n                        system_prompts[func_task],\\n                        func_task,\\n                        \"classes\",\\n                    )\\n                    for cls in cont[\"classes\"]:\\n                        cls_funcs = get_methods(cls)\\n\\n                        print(f\"len of class: {len(cls)}\")\\n                        for method in cls_funcs:\\n                            print(f\"len of method: {len(method)}\")\\n                        _ = process_transcript(\\n                            cls_funcs,\\n                            cont[\"file_name\"],\\n                            git_repo_path,\\n                            f\"{out_path}/{out_file_name}.jsonl\",\\n                            system_prompts[func_task],\\n                            func_task,\\n                            \"methods\",\\n                        )\\n            except Exception as e:\\n                print(e)\\n                continue']\n",
      "Classes: []\n",
      "16 0\n",
      "\n",
      "\n",
      "\n",
      "file_name: /content/GitModel/src/repo_graph_generation.py\n",
      "Imports: ['import json', 'import math', 'import numpy as np', 'import openai', 'import scipy', 'import scipy.sparse as sp', 'import torch', 'from sentence_transformers import SentenceTransformer', 'from torch import Tensor', 'from tqdm import tqdm', 'from ast_parsers.python_ast_parser import get_methods, parse_github_repo', 'from system_prompts.format_system_prompts import format_system_prompts, format_system_prompts_with_tree']\n",
      "functions: ['def embed_data(data, key=\"query\", model_name=\"all-MiniLM-L6-v2\", cores=1, gpu=False, batch_size=128):\\n    \"\"\"\\n    Embed the sentences/text using the MiniLM language model (which uses mean pooling)\\n    \"\"\"\\n    print(\"Embedding data\")\\n    model = SentenceTransformer(model_name)\\n    print(\"Model loaded\")\\n\\n    sentences = data[key].tolist()\\n    unique_sentences = data[key].unique()\\n    print(\"Unique sentences\", len(unique_sentences))\\n\\n    if cores == 1:\\n        embeddings = model.encode(unique_sentences, show_progress_bar=True, batch_size=batch_size)\\n    else:\\n        devices = [\"cpu\"] * cores\\n        if gpu:\\n            devices = None  # use all CUDA devices\\n\\n        # Start the multi-process pool on multiple devices\\n        print(\"Multi-process pool starting\")\\n        pool = model.start_multi_process_pool(devices)\\n        print(\"Multi-process pool started\")\\n\\n        chunk_size = math.ceil(len(unique_sentences) / cores)\\n\\n        # Compute the embeddings using the multi-process pool\\n        embeddings = model.encode_multi_process(unique_sentences, pool, batch_size=batch_size, chunk_size=chunk_size)\\n        model.stop_multi_process_pool(pool)\\n\\n    print(\"Embeddings computed\")\\n\\n    mapping = {sentence: embedding for sentence, embedding in zip(unique_sentences, embeddings)}\\n    embeddings = np.array([mapping[sentence] for sentence in sentences])\\n\\n    return embeddings', 'def gaussian_kernel_torch(embs_a, embs_b, sigma=1.0):\\n    \"\"\"\\n    Computes the Gaussian kernel matrix between two sets of embeddings using PyTorch.\\n    :param embs_a: Tensor of shape (batch_size_a, embedding_dim) containing the first set of embeddings.\\n    :param embs_b: Tensor of shape (batch_size_b, embedding_dim) containing the second set of embeddings.\\n    :param sigma: Width of the Gaussian kernel.\\n    :return: Tensor of shape (batch_size_a, batch_size_b) containing the Gaussian kernel matrix.\\n    \"\"\"\\n    if not isinstance(embs_a, torch.Tensor):\\n        embs_a = torch.tensor(embs_a)\\n\\n    if not isinstance(embs_b, torch.Tensor):\\n        embs_b = torch.tensor(embs_b)\\n\\n    # Compute the pairwise distances between the embeddings\\n    dist_matrix = torch.cdist(embs_a, embs_b)\\n\\n    # Compute the Gaussian kernel matrix\\n    kernel_matrix = torch.exp(-(dist_matrix**2) / (2 * sigma**2))\\n\\n    return kernel_matrix', 'def cos_sim(a: Tensor, b: Tensor):\\n    \"\"\"\\n    Computes the cosine similarity cos_sim(a[i], b[j]) for all i and j.\\n    :return: Matrix with res[i][j]  = cos_sim(a[i], b[j])\\n    \"\"\"\\n    if not isinstance(a, torch.Tensor):\\n        a = torch.tensor(np.array(a))\\n\\n    if not isinstance(b, torch.Tensor):\\n        b = torch.tensor(np.array(b))\\n\\n    if len(a.shape) == 1:\\n        a = a.unsqueeze(0)\\n\\n    if len(b.shape) == 1:\\n        b = b.unsqueeze(0)\\n\\n    a_norm = torch.nn.functional.normalize(a, p=2, dim=1)\\n    b_norm = torch.nn.functional.normalize(b, p=2, dim=1)\\n    return torch.mm(a_norm, b_norm.transpose(0, 1))', 'def prune_ref_docs(qa_embs, ref_embs, ref_docs, threshold=0.1):\\n    \"\"\"\\n    Drops unnecessary documents from the reference embeddings and updates the list of reference documents,\\n    and then recomputes the adjacency matrix.\\n\\n    Parameters:\\n    qa_embs (numpy array): The embedding matrix of QA pairs.\\n    ref_embs (numpy array): The embedding matrix of reference sentences.\\n    ref_docs (list): The list of reference documents.\\n    threshold (float): The threshold below which documents are considered unnecessary.\\n\\n    Returns:\\n    pruned_ref_embs (numpy array): The pruned embedding matrix of reference sentences.\\n    pruned_ref_docs (list): The pruned list of reference documents.\\n    pruned_A (numpy array): The pruned adjacency matrix.\\n    \"\"\"\\n\\n    # Compute the initial adjacency matrix with full reference embeddings\\n    A = gaussian_kernel_torch(qa_embs, ref_embs, sigma=0.5)\\n    print(f\"Before: {A.shape}\")\\n    # Compute the row-wise sum of the adjacency matrix\\n    row_sum = torch.sum(A, dim=0)\\n\\n    # Identify the indexes of the relevant documents\\n    relevant_idx = torch.where(row_sum > threshold * row_sum.max())[0]\\n\\n    # Drop unnecessary rows from the reference embeddings\\n    pruned_ref_embs = ref_embs[relevant_idx]\\n\\n    # Update the list of reference documents\\n    pruned_ref_docs = [ref_docs[i] for i in relevant_idx]\\n\\n    # Recompute the adjacency matrix with pruned reference embeddings\\n    pruned_A = gaussian_kernel_torch(qa_embs, pruned_ref_embs, sigma=0.5)\\n    print(f\"After: {pruned_A.shape}\")\\n    return pruned_ref_embs, pruned_ref_docs, pruned_A', 'def compute_cos_sim_kernel(embs, threshold=0.65, kernel_type=\"cosine\", sigma=1.0):\\n    # match case to kernel type\\n    if kernel_type == \"gaussian\":\\n        A = gaussian_kernel_torch(embs, embs, sigma)\\n    if kernel_type == \"cosine\":\\n        A = cos_sim(embs, embs)\\n    adj_matrix = torch.zeros_like(A)\\n    adj_matrix[A > threshold] = 1\\n    adj_matrix[A <= threshold] = 0\\n    adj_matrix = adj_matrix.numpy().astype(np.float32)\\n    return adj_matrix', 'def k_hop_message_passing_sparse(A, node_features, k):\\n    \"\"\"\\n    Compute the k-hop adjacency matrix and aggregated features using message passing.\\n\\n    Parameters:\\n    A (numpy array or scipy sparse matrix): The adjacency matrix of the graph.\\n    node_features (numpy array or scipy sparse matrix): The feature matrix of the nodes.\\n    k (int): The number of hops for message passing.\\n\\n    Returns:\\n    A_k (numpy array): The k-hop adjacency matrix.\\n    agg_features (numpy array): The aggregated feature matrix for each node in the k-hop neighborhood.\\n    \"\"\"\\n\\n    # Convert input matrices to sparse matrices if they are not already\\n    if not sp.issparse(A):\\n        A = sp.csr_matrix(A)\\n    if not sp.issparse(node_features):\\n        node_features = sp.csr_matrix(node_features)\\n\\n    # Compute the k-hop adjacency matrix and the aggregated features\\n    A_k = A.copy()\\n    agg_features = node_features.copy()\\n\\n    for i in tqdm(range(k)):\\n        # Compute the message passing for the k-hop neighborhood\\n        message = A_k.dot(node_features)\\n        # Apply a GCN layer to aggregate the messages\\n        agg_features = A_k.dot(agg_features) + message\\n        # Update the k-hop adjacency matrix by adding new edges\\n        A_k += A_k.dot(A)\\n\\n    return A_k.toarray(), agg_features.toarray()', 'def compute_kernel(embs):\\n    # match case to kernel type\\n    A = cos_sim(embs, embs)\\n    adj_matrix = A.numpy().astype(np.float32)\\n    return adj_matrix', 'def degree_matrix(A):\\n    \"\"\"\\n    compute degree matrix using adjacency distance matrix from pairwise distances\\n    :A: nxn size matrix embedding minmaxed using mu sigma and pairwise distances\\n    :return: degree matrix\\n    \"\"\"\\n    n = A.shape[0]\\n    D = np.zeros((n, n))\\n    for i in range(n):\\n        D[i, i] = np.sum(A[i, :])\\n    return D', 'def graph_laplacian(A):\\n    \"\"\"\\n    compute graph laplacian using degree and adjacency matrix from pairwise distances\\n    :A: nxn size matrix embedding minmaxed using mu sigma and pairwise distances\\n    :return: graph laplacian, and degree matrix\\n    \"\"\"\\n    D = degree_matrix(A)\\n    L = D - A\\n    return L, D', 'def estimate_pdf(scores: list):\\n    \"\"\"\\n    estimate scores probability density function\\n    :scores: list of distance scores from topic features to topic centroid\\n    :return: distribution\\n    \"\"\"\\n    return scipy.stats.gaussian_kde(scores)', 'def chat_gpt_inference(messages: list):\\n    response = openai.ChatCompletion.create(model=\"gpt-3.5-turbo\", messages=messages, max_tokens=400, temperature=0.4)\\n    return response', 'def create_prompt_message_template(text, role=\"user\"):\\n    if role not in [\"user\", \"assistant\"]:\\n        raise ValueError(\"Not a valid role. Please use \\'user\\' or \\'assistant\\'.\")\\n    return {\"role\": role, \"content\": text}', 'def compose_inference(text_block, messages):\\n    user_template = create_prompt_message_template(text_block, role=\"user\")\\n    messages.append(user_template)\\n    chat_resp = chat_gpt_inference(messages)\\n    reply_text = chat_resp[\"choices\"][0][\"message\"][\"content\"]\\n    assistant_template = create_prompt_message_template(reply_text, role=\"assistant\")\\n    messages.append(assistant_template)\\n    return messages, reply_text', 'def process_transcript(segments, file_name, git_repo_path, output_file_path, system_prompt, task, code_type):\\n    messages = [{\"role\": \"system\", \"content\": system_prompt}]\\n\\n    with open(output_file_path, \"a\") as f:\\n        for i, sent in enumerate(segments):\\n            text_block = f\"\"\"```{sent}```\"\"\"\\n            try:\\n                messages, reply_text = compose_inference(text_block[:2000], messages)\\n\\n            except Exception:\\n                messages, reply_text = compose_inference(\\n                    text_block[:2000], [{\"role\": \"system\", \"content\": system_prompt}]\\n                )\\n            row = {\\n                \"git_repo_path\": git_repo_path,\\n                \"file_name\": file_name,\\n                \"code_type\": code_type,\\n                \"system_task\": task,\\n                \"system_prompt\": system_prompt,\\n                \"conversation_history\": messages,\\n                \"assistant_reply\": reply_text,\\n            }\\n            json.dump(row, f)\\n            f.write(\"\\\\n\")\\n\\n    return messages', 'def get_repo_contents(git_repo_path):\\n    contents = parse_github_repo(git_repo_path)\\n    print(len(contents))\\n    pruned_contents = []\\n    for cont in contents:\\n        fp = cont[\"file_name\"]\\n        fn = fp.split(\"/\")[-1]\\n        fn_ = fn.split(\".\")[0]\\n        if fn_ in [\"__init__\"] or fn_.split(\"_\")[-1] in [\"test\"]:\\n            continue\\n        else:\\n            print(cont[\"file_name\"])\\n            pruned_contents.append(cont)\\n    return pruned_contents', 'def decompose_repo(contents, git_repo_path, name_id, topic_tree, out_path, with_tree=False):\\n    # This is bad\\n    for cont in contents:\\n        if with_tree:\\n            system_prompts = format_system_prompts(git_repo_path, cont[\"file_name\"])\\n        else:\\n            system_prompts = format_system_prompts_with_tree(git_repo_path, cont[\"file_name\"], topic_tree)\\n        for k, v in zip(system_prompts.keys(), system_prompts.values()):\\n            func_task = k\\n            out_file_name = f\"{name_id}_{func_task}\"\\n            print(f\"file_name: {cont[\\'file_name\\']}\")\\n            num_funcs = len(cont[\"functions\"])\\n            num_classes = len(cont[\"classes\"])\\n            print(f\"Imports: {cont[\\'imports\\']}\")\\n            try:\\n                if num_funcs > 0 or num_classes > 0:\\n                    print(f\"functions: {cont[\\'functions\\']}\")\\n                    _ = process_transcript(\\n                        cont[\"functions\"],\\n                        cont[\"file_name\"],\\n                        git_repo_path,\\n                        f\"{out_path}/{out_file_name}.jsonl\",\\n                        system_prompts[func_task],\\n                        func_task,\\n                        \"functions\",\\n                    )\\n                    print(f\"Classes: {cont[\\'classes\\']}\")\\n                    _ = process_transcript(\\n                        cont[\"classes\"],\\n                        cont[\"file_name\"],\\n                        git_repo_path,\\n                        f\"{out_path}/{out_file_name}.jsonl\",\\n                        system_prompts[func_task],\\n                        func_task,\\n                        \"classes\",\\n                    )\\n                    for cls in cont[\"classes\"]:\\n                        cls_funcs = get_methods(cls)\\n\\n                        print(f\"len of class: {len(cls)}\")\\n                        for method in cls_funcs:\\n                            print(f\"len of method: {len(method)}\")\\n                        _ = process_transcript(\\n                            cls_funcs,\\n                            cont[\"file_name\"],\\n                            git_repo_path,\\n                            f\"{out_path}/{out_file_name}.jsonl\",\\n                            system_prompts[func_task],\\n                            func_task,\\n                            \"methods\",\\n                        )\\n            except Exception as e:\\n                print(e)\\n                continue']\n",
      "Classes: []\n",
      "16 0\n",
      "\n",
      "\n",
      "\n",
      "file_name: /content/GitModel/src/ast_parsers/python_ast_parser.py\n",
      "Imports: ['import ast', 'import os', 'import astor']\n",
      "functions: ['def parse_python_file(file_path):\\n    parsed_contents = {\\n        \"imports\": [],\\n        \"globals\": [],\\n        \"classes\": [],\\n        \"functions\": [],\\n    }\\n\\n    with open(file_path, \"r\") as file:\\n        file_contents = file.read()\\n        parsed_tree = ast.parse(file_contents)\\n\\n    for node in ast.iter_child_nodes(parsed_tree):\\n        if isinstance(node, ast.Import) or isinstance(node, ast.ImportFrom):\\n            parsed_contents[\"imports\"].append(astor.to_source(node).strip())\\n        elif isinstance(node, ast.Assign) and len(node.targets) == 1 and isinstance(node.targets[0], ast.Name):\\n            parsed_contents[\"globals\"].append(astor.to_source(node).strip())\\n        elif isinstance(node, ast.FunctionDef):\\n            if node.name == \"main\":\\n                parsed_contents[\"functions\"].append(ast.get_source_segment(file_contents, node))\\n            else:\\n                parsed_contents[\"functions\"].append(ast.get_source_segment(file_contents, node))\\n        elif isinstance(node, ast.ClassDef):\\n            parsed_contents[\"classes\"].append(ast.get_source_segment(file_contents, node))\\n\\n    return parsed_contents', 'def get_methods(class_or_str):\\n    if isinstance(class_or_str, str):\\n        class_or_str = ast.parse(class_or_str)\\n\\n    method_nodes = [node for node in ast.iter_child_nodes(class_or_str) if isinstance(node, ast.FunctionDef)]\\n    method_sources = []\\n    for node in method_nodes:\\n        source_lines, _ = ast.get_source_segment(class_or_str, node)\\n        method_sources.append(\"\".join(source_lines).strip())\\n    return method_sources', 'def parse_github_repo(local_dir):\\n    parsed_files = []\\n    content_labels = {0: \"imports\", 1: \"globals\", 2: \"classes\", 3: \"functions\", 4: \"main\", 5: \"file_name\"}\\n\\n    for root, dirs, files in os.walk(local_dir):\\n        for file_name in files:\\n            if file_name.endswith(\".py\"):\\n                file_path = os.path.join(root, file_name)\\n                try:\\n                    parsed_contents = parse_python_file(file_path)\\n                    content = {content_labels[i]: v for i, v in enumerate(parsed_contents.values())}\\n                    content[content_labels[5]] = file_path\\n                    parsed_files.append(content)\\n                except Exception as e:\\n                    print(e)\\n                    continue\\n\\n    return parsed_files']\n"
     ]
    },
    {
     "ename": "KeyboardInterrupt",
     "evalue": "ignored",
     "output_type": "error",
     "traceback": [
      "\u001b[0;31m---------------------------------------------------------------------------\u001b[0m",
      "\u001b[0;31mKeyboardInterrupt\u001b[0m                         Traceback (most recent call last)",
      "\u001b[0;32m<ipython-input-66-be649dc3fa9c>\u001b[0m in \u001b[0;36m<module>\u001b[0;34m\u001b[0m\n\u001b[1;32m     29\u001b[0m                 \u001b[0mmessages\u001b[0m \u001b[0;34m=\u001b[0m \u001b[0;34m[\u001b[0m\u001b[0;34m]\u001b[0m\u001b[0;34m\u001b[0m\u001b[0;34m\u001b[0m\u001b[0m\n\u001b[1;32m     30\u001b[0m \u001b[0;34m\u001b[0m\u001b[0m\n\u001b[0;32m---> 31\u001b[0;31m \u001b[0mdecompose_repo\u001b[0m\u001b[0;34m(\u001b[0m\u001b[0;34m)\u001b[0m\u001b[0;34m\u001b[0m\u001b[0;34m\u001b[0m\u001b[0m\n\u001b[0m",
      "\u001b[0;32m<ipython-input-66-be649dc3fa9c>\u001b[0m in \u001b[0;36mdecompose_repo\u001b[0;34m()\u001b[0m\n\u001b[1;32m     13\u001b[0m                 \u001b[0;32mif\u001b[0m \u001b[0mnum_funcs\u001b[0m \u001b[0;34m>\u001b[0m \u001b[0;36m0\u001b[0m \u001b[0;32mor\u001b[0m \u001b[0mnum_classes\u001b[0m \u001b[0;34m>\u001b[0m \u001b[0;36m0\u001b[0m\u001b[0;34m:\u001b[0m\u001b[0;34m\u001b[0m\u001b[0;34m\u001b[0m\u001b[0m\n\u001b[1;32m     14\u001b[0m                     \u001b[0mprint\u001b[0m\u001b[0;34m(\u001b[0m\u001b[0;34mf\"functions: {cont['functions']}\"\u001b[0m\u001b[0;34m)\u001b[0m\u001b[0;34m\u001b[0m\u001b[0;34m\u001b[0m\u001b[0m\n\u001b[0;32m---> 15\u001b[0;31m                     \u001b[0mmessages\u001b[0m \u001b[0;34m=\u001b[0m \u001b[0mprocess_transcript\u001b[0m\u001b[0;34m(\u001b[0m\u001b[0mcont\u001b[0m\u001b[0;34m[\u001b[0m\u001b[0;34m'functions'\u001b[0m\u001b[0;34m]\u001b[0m\u001b[0;34m,\u001b[0m \u001b[0mcont\u001b[0m\u001b[0;34m[\u001b[0m\u001b[0;34m'file_name'\u001b[0m\u001b[0;34m]\u001b[0m\u001b[0;34m,\u001b[0m \u001b[0mgit_repo_path\u001b[0m\u001b[0;34m,\u001b[0m \u001b[0;34mf\"{out_path}/{out_file_name}.jsonl\"\u001b[0m\u001b[0;34m,\u001b[0m \u001b[0msystem_prompts\u001b[0m\u001b[0;34m[\u001b[0m\u001b[0mfunc_task\u001b[0m\u001b[0;34m]\u001b[0m\u001b[0;34m,\u001b[0m \u001b[0mfunc_task\u001b[0m\u001b[0;34m,\u001b[0m \u001b[0;34m\"functions\"\u001b[0m\u001b[0;34m)\u001b[0m\u001b[0;34m\u001b[0m\u001b[0;34m\u001b[0m\u001b[0m\n\u001b[0m\u001b[1;32m     16\u001b[0m                     \u001b[0mprint\u001b[0m\u001b[0;34m(\u001b[0m\u001b[0;34mf\"Classes: {cont['classes']}\"\u001b[0m\u001b[0;34m)\u001b[0m\u001b[0;34m\u001b[0m\u001b[0;34m\u001b[0m\u001b[0m\n\u001b[1;32m     17\u001b[0m                     \u001b[0mmessages\u001b[0m \u001b[0;34m=\u001b[0m \u001b[0mprocess_transcript\u001b[0m\u001b[0;34m(\u001b[0m\u001b[0mcont\u001b[0m\u001b[0;34m[\u001b[0m\u001b[0;34m'classes'\u001b[0m\u001b[0;34m]\u001b[0m\u001b[0;34m,\u001b[0m \u001b[0mcont\u001b[0m\u001b[0;34m[\u001b[0m\u001b[0;34m'file_name'\u001b[0m\u001b[0;34m]\u001b[0m\u001b[0;34m,\u001b[0m \u001b[0mgit_repo_path\u001b[0m\u001b[0;34m,\u001b[0m \u001b[0;34mf\"{out_path}/{out_file_name}.jsonl\"\u001b[0m\u001b[0;34m,\u001b[0m \u001b[0msystem_prompts\u001b[0m\u001b[0;34m[\u001b[0m\u001b[0mfunc_task\u001b[0m\u001b[0;34m]\u001b[0m\u001b[0;34m,\u001b[0m \u001b[0mfunc_task\u001b[0m\u001b[0;34m,\u001b[0m \u001b[0;34m\"classes\"\u001b[0m\u001b[0;34m)\u001b[0m\u001b[0;34m\u001b[0m\u001b[0;34m\u001b[0m\u001b[0m\n",
      "\u001b[0;32m<ipython-input-9-504d5a02954b>\u001b[0m in \u001b[0;36mprocess_transcript\u001b[0;34m(segments, file_name, git_repo_path, output_file_path, system_prompt, task, code_type)\u001b[0m\n\u001b[1;32m     37\u001b[0m                 \u001b[0mf\u001b[0m\u001b[0;34m.\u001b[0m\u001b[0mwrite\u001b[0m\u001b[0;34m(\u001b[0m\u001b[0;34m\"\\n\"\u001b[0m\u001b[0;34m)\u001b[0m\u001b[0;34m\u001b[0m\u001b[0;34m\u001b[0m\u001b[0m\n\u001b[1;32m     38\u001b[0m             \u001b[0;32mexcept\u001b[0m\u001b[0;34m:\u001b[0m\u001b[0;34m\u001b[0m\u001b[0;34m\u001b[0m\u001b[0m\n\u001b[0;32m---> 39\u001b[0;31m                 \u001b[0mmessages\u001b[0m\u001b[0;34m,\u001b[0m \u001b[0mreply_text\u001b[0m \u001b[0;34m=\u001b[0m \u001b[0mcompose_inference\u001b[0m\u001b[0;34m(\u001b[0m\u001b[0mtext_block\u001b[0m\u001b[0;34m[\u001b[0m\u001b[0;34m:\u001b[0m\u001b[0;36m2000\u001b[0m\u001b[0;34m]\u001b[0m\u001b[0;34m,\u001b[0m \u001b[0;34m[\u001b[0m\u001b[0;34m{\u001b[0m\u001b[0;34m\"role\"\u001b[0m\u001b[0;34m:\u001b[0m \u001b[0;34m\"system\"\u001b[0m\u001b[0;34m,\u001b[0m \u001b[0;34m\"content\"\u001b[0m\u001b[0;34m:\u001b[0m \u001b[0msystem_prompt\u001b[0m\u001b[0;34m}\u001b[0m\u001b[0;34m]\u001b[0m\u001b[0;34m)\u001b[0m\u001b[0;34m\u001b[0m\u001b[0;34m\u001b[0m\u001b[0m\n\u001b[0m\u001b[1;32m     40\u001b[0m                 \u001b[0;31m#print(reply_text)\u001b[0m\u001b[0;34m\u001b[0m\u001b[0;34m\u001b[0m\u001b[0m\n\u001b[1;32m     41\u001b[0m                 \u001b[0mrow\u001b[0m \u001b[0;34m=\u001b[0m \u001b[0;34m{\u001b[0m\u001b[0;34m\"git_repo_path\"\u001b[0m\u001b[0;34m:\u001b[0m \u001b[0mgit_repo_path\u001b[0m\u001b[0;34m,\u001b[0m \u001b[0;34m\"file_name\"\u001b[0m\u001b[0;34m:\u001b[0m \u001b[0mfile_name\u001b[0m\u001b[0;34m,\u001b[0m \u001b[0;34m\"code_type\"\u001b[0m\u001b[0;34m:\u001b[0m \u001b[0mcode_type\u001b[0m\u001b[0;34m,\u001b[0m \u001b[0;34m\"system_task\"\u001b[0m\u001b[0;34m:\u001b[0m \u001b[0mtask\u001b[0m\u001b[0;34m,\u001b[0m \u001b[0;34m\"system_prompt\"\u001b[0m\u001b[0;34m:\u001b[0m \u001b[0msystem_prompt\u001b[0m\u001b[0;34m,\u001b[0m \u001b[0;34m\"conversation_history\"\u001b[0m\u001b[0;34m:\u001b[0m \u001b[0mmessages\u001b[0m\u001b[0;34m,\u001b[0m \u001b[0;34m\"assistant_reply\"\u001b[0m\u001b[0;34m:\u001b[0m \u001b[0mreply_text\u001b[0m\u001b[0;34m}\u001b[0m\u001b[0;34m\u001b[0m\u001b[0;34m\u001b[0m\u001b[0m\n",
      "\u001b[0;32m<ipython-input-9-504d5a02954b>\u001b[0m in \u001b[0;36mcompose_inference\u001b[0;34m(text_block, messages)\u001b[0m\n\u001b[1;32m     16\u001b[0m     \u001b[0muser_template\u001b[0m \u001b[0;34m=\u001b[0m \u001b[0mcreate_prompt_message_template\u001b[0m\u001b[0;34m(\u001b[0m\u001b[0mtext_block\u001b[0m\u001b[0;34m,\u001b[0m \u001b[0mrole\u001b[0m\u001b[0;34m=\u001b[0m\u001b[0;34m\"user\"\u001b[0m\u001b[0;34m)\u001b[0m\u001b[0;34m\u001b[0m\u001b[0;34m\u001b[0m\u001b[0m\n\u001b[1;32m     17\u001b[0m     \u001b[0mmessages\u001b[0m\u001b[0;34m.\u001b[0m\u001b[0mappend\u001b[0m\u001b[0;34m(\u001b[0m\u001b[0muser_template\u001b[0m\u001b[0;34m)\u001b[0m\u001b[0;34m\u001b[0m\u001b[0;34m\u001b[0m\u001b[0m\n\u001b[0;32m---> 18\u001b[0;31m     \u001b[0mchat_resp\u001b[0m \u001b[0;34m=\u001b[0m \u001b[0mchat_gpt_inference\u001b[0m\u001b[0;34m(\u001b[0m\u001b[0mmessages\u001b[0m\u001b[0;34m)\u001b[0m\u001b[0;34m\u001b[0m\u001b[0;34m\u001b[0m\u001b[0m\n\u001b[0m\u001b[1;32m     19\u001b[0m     \u001b[0mreply_text\u001b[0m \u001b[0;34m=\u001b[0m \u001b[0mchat_resp\u001b[0m\u001b[0;34m[\u001b[0m\u001b[0;34m'choices'\u001b[0m\u001b[0;34m]\u001b[0m\u001b[0;34m[\u001b[0m\u001b[0;36m0\u001b[0m\u001b[0;34m]\u001b[0m\u001b[0;34m[\u001b[0m\u001b[0;34m'message'\u001b[0m\u001b[0;34m]\u001b[0m\u001b[0;34m[\u001b[0m\u001b[0;34m'content'\u001b[0m\u001b[0;34m]\u001b[0m\u001b[0;34m\u001b[0m\u001b[0;34m\u001b[0m\u001b[0m\n\u001b[1;32m     20\u001b[0m     \u001b[0massistant_template\u001b[0m \u001b[0;34m=\u001b[0m \u001b[0mcreate_prompt_message_template\u001b[0m\u001b[0;34m(\u001b[0m\u001b[0mreply_text\u001b[0m\u001b[0;34m,\u001b[0m \u001b[0mrole\u001b[0m\u001b[0;34m=\u001b[0m\u001b[0;34m\"assistant\"\u001b[0m\u001b[0;34m)\u001b[0m\u001b[0;34m\u001b[0m\u001b[0;34m\u001b[0m\u001b[0m\n",
      "\u001b[0;32m<ipython-input-9-504d5a02954b>\u001b[0m in \u001b[0;36mchat_gpt_inference\u001b[0;34m(messages)\u001b[0m\n\u001b[1;32m      1\u001b[0m \u001b[0;32mdef\u001b[0m \u001b[0mchat_gpt_inference\u001b[0m\u001b[0;34m(\u001b[0m\u001b[0mmessages\u001b[0m\u001b[0;34m:\u001b[0m \u001b[0mlist\u001b[0m\u001b[0;34m)\u001b[0m\u001b[0;34m:\u001b[0m\u001b[0;34m\u001b[0m\u001b[0;34m\u001b[0m\u001b[0m\n\u001b[0;32m----> 2\u001b[0;31m     response = openai.ChatCompletion.create(\n\u001b[0m\u001b[1;32m      3\u001b[0m         \u001b[0mmodel\u001b[0m\u001b[0;34m=\u001b[0m\u001b[0;34m\"gpt-3.5-turbo\"\u001b[0m\u001b[0;34m,\u001b[0m\u001b[0;34m\u001b[0m\u001b[0;34m\u001b[0m\u001b[0m\n\u001b[1;32m      4\u001b[0m         \u001b[0mmessages\u001b[0m\u001b[0;34m=\u001b[0m\u001b[0mmessages\u001b[0m\u001b[0;34m,\u001b[0m\u001b[0;34m\u001b[0m\u001b[0;34m\u001b[0m\u001b[0m\n\u001b[1;32m      5\u001b[0m         \u001b[0mmax_tokens\u001b[0m\u001b[0;34m=\u001b[0m\u001b[0;36m400\u001b[0m\u001b[0;34m,\u001b[0m\u001b[0;34m\u001b[0m\u001b[0;34m\u001b[0m\u001b[0m\n",
      "\u001b[0;32m/usr/local/lib/python3.9/dist-packages/openai/api_resources/chat_completion.py\u001b[0m in \u001b[0;36mcreate\u001b[0;34m(cls, *args, **kwargs)\u001b[0m\n\u001b[1;32m     23\u001b[0m         \u001b[0;32mwhile\u001b[0m \u001b[0;32mTrue\u001b[0m\u001b[0;34m:\u001b[0m\u001b[0;34m\u001b[0m\u001b[0;34m\u001b[0m\u001b[0m\n\u001b[1;32m     24\u001b[0m             \u001b[0;32mtry\u001b[0m\u001b[0;34m:\u001b[0m\u001b[0;34m\u001b[0m\u001b[0;34m\u001b[0m\u001b[0m\n\u001b[0;32m---> 25\u001b[0;31m                 \u001b[0;32mreturn\u001b[0m \u001b[0msuper\u001b[0m\u001b[0;34m(\u001b[0m\u001b[0;34m)\u001b[0m\u001b[0;34m.\u001b[0m\u001b[0mcreate\u001b[0m\u001b[0;34m(\u001b[0m\u001b[0;34m*\u001b[0m\u001b[0margs\u001b[0m\u001b[0;34m,\u001b[0m \u001b[0;34m**\u001b[0m\u001b[0mkwargs\u001b[0m\u001b[0;34m)\u001b[0m\u001b[0;34m\u001b[0m\u001b[0;34m\u001b[0m\u001b[0m\n\u001b[0m\u001b[1;32m     26\u001b[0m             \u001b[0;32mexcept\u001b[0m \u001b[0mTryAgain\u001b[0m \u001b[0;32mas\u001b[0m \u001b[0me\u001b[0m\u001b[0;34m:\u001b[0m\u001b[0;34m\u001b[0m\u001b[0;34m\u001b[0m\u001b[0m\n\u001b[1;32m     27\u001b[0m                 \u001b[0;32mif\u001b[0m \u001b[0mtimeout\u001b[0m \u001b[0;32mis\u001b[0m \u001b[0;32mnot\u001b[0m \u001b[0;32mNone\u001b[0m \u001b[0;32mand\u001b[0m \u001b[0mtime\u001b[0m\u001b[0;34m.\u001b[0m\u001b[0mtime\u001b[0m\u001b[0;34m(\u001b[0m\u001b[0;34m)\u001b[0m \u001b[0;34m>\u001b[0m \u001b[0mstart\u001b[0m \u001b[0;34m+\u001b[0m \u001b[0mtimeout\u001b[0m\u001b[0;34m:\u001b[0m\u001b[0;34m\u001b[0m\u001b[0;34m\u001b[0m\u001b[0m\n",
      "\u001b[0;32m/usr/local/lib/python3.9/dist-packages/openai/api_resources/abstract/engine_api_resource.py\u001b[0m in \u001b[0;36mcreate\u001b[0;34m(cls, api_key, api_base, api_type, request_id, api_version, organization, **params)\u001b[0m\n\u001b[1;32m    151\u001b[0m         )\n\u001b[1;32m    152\u001b[0m \u001b[0;34m\u001b[0m\u001b[0m\n\u001b[0;32m--> 153\u001b[0;31m         response, _, api_key = requestor.request(\n\u001b[0m\u001b[1;32m    154\u001b[0m             \u001b[0;34m\"post\"\u001b[0m\u001b[0;34m,\u001b[0m\u001b[0;34m\u001b[0m\u001b[0;34m\u001b[0m\u001b[0m\n\u001b[1;32m    155\u001b[0m             \u001b[0murl\u001b[0m\u001b[0;34m,\u001b[0m\u001b[0;34m\u001b[0m\u001b[0;34m\u001b[0m\u001b[0m\n",
      "\u001b[0;32m/usr/local/lib/python3.9/dist-packages/openai/api_requestor.py\u001b[0m in \u001b[0;36mrequest\u001b[0;34m(self, method, url, params, headers, files, stream, request_id, request_timeout)\u001b[0m\n\u001b[1;32m    214\u001b[0m         \u001b[0mrequest_timeout\u001b[0m\u001b[0;34m:\u001b[0m \u001b[0mOptional\u001b[0m\u001b[0;34m[\u001b[0m\u001b[0mUnion\u001b[0m\u001b[0;34m[\u001b[0m\u001b[0mfloat\u001b[0m\u001b[0;34m,\u001b[0m \u001b[0mTuple\u001b[0m\u001b[0;34m[\u001b[0m\u001b[0mfloat\u001b[0m\u001b[0;34m,\u001b[0m \u001b[0mfloat\u001b[0m\u001b[0;34m]\u001b[0m\u001b[0;34m]\u001b[0m\u001b[0;34m]\u001b[0m \u001b[0;34m=\u001b[0m \u001b[0;32mNone\u001b[0m\u001b[0;34m,\u001b[0m\u001b[0;34m\u001b[0m\u001b[0;34m\u001b[0m\u001b[0m\n\u001b[1;32m    215\u001b[0m     ) -> Tuple[Union[OpenAIResponse, Iterator[OpenAIResponse]], bool, str]:\n\u001b[0;32m--> 216\u001b[0;31m         result = self.request_raw(\n\u001b[0m\u001b[1;32m    217\u001b[0m             \u001b[0mmethod\u001b[0m\u001b[0;34m.\u001b[0m\u001b[0mlower\u001b[0m\u001b[0;34m(\u001b[0m\u001b[0;34m)\u001b[0m\u001b[0;34m,\u001b[0m\u001b[0;34m\u001b[0m\u001b[0;34m\u001b[0m\u001b[0m\n\u001b[1;32m    218\u001b[0m             \u001b[0murl\u001b[0m\u001b[0;34m,\u001b[0m\u001b[0;34m\u001b[0m\u001b[0;34m\u001b[0m\u001b[0m\n",
      "\u001b[0;32m/usr/local/lib/python3.9/dist-packages/openai/api_requestor.py\u001b[0m in \u001b[0;36mrequest_raw\u001b[0;34m(self, method, url, params, supplied_headers, files, stream, request_id, request_timeout)\u001b[0m\n\u001b[1;32m    514\u001b[0m             \u001b[0m_thread_context\u001b[0m\u001b[0;34m.\u001b[0m\u001b[0msession\u001b[0m \u001b[0;34m=\u001b[0m \u001b[0m_make_session\u001b[0m\u001b[0;34m(\u001b[0m\u001b[0;34m)\u001b[0m\u001b[0;34m\u001b[0m\u001b[0;34m\u001b[0m\u001b[0m\n\u001b[1;32m    515\u001b[0m         \u001b[0;32mtry\u001b[0m\u001b[0;34m:\u001b[0m\u001b[0;34m\u001b[0m\u001b[0;34m\u001b[0m\u001b[0m\n\u001b[0;32m--> 516\u001b[0;31m             result = _thread_context.session.request(\n\u001b[0m\u001b[1;32m    517\u001b[0m                 \u001b[0mmethod\u001b[0m\u001b[0;34m,\u001b[0m\u001b[0;34m\u001b[0m\u001b[0;34m\u001b[0m\u001b[0m\n\u001b[1;32m    518\u001b[0m                 \u001b[0mabs_url\u001b[0m\u001b[0;34m,\u001b[0m\u001b[0;34m\u001b[0m\u001b[0;34m\u001b[0m\u001b[0m\n",
      "\u001b[0;32m/usr/local/lib/python3.9/dist-packages/requests/sessions.py\u001b[0m in \u001b[0;36mrequest\u001b[0;34m(self, method, url, params, data, headers, cookies, files, auth, timeout, allow_redirects, proxies, hooks, stream, verify, cert, json)\u001b[0m\n\u001b[1;32m    540\u001b[0m         }\n\u001b[1;32m    541\u001b[0m         \u001b[0msend_kwargs\u001b[0m\u001b[0;34m.\u001b[0m\u001b[0mupdate\u001b[0m\u001b[0;34m(\u001b[0m\u001b[0msettings\u001b[0m\u001b[0;34m)\u001b[0m\u001b[0;34m\u001b[0m\u001b[0;34m\u001b[0m\u001b[0m\n\u001b[0;32m--> 542\u001b[0;31m         \u001b[0mresp\u001b[0m \u001b[0;34m=\u001b[0m \u001b[0mself\u001b[0m\u001b[0;34m.\u001b[0m\u001b[0msend\u001b[0m\u001b[0;34m(\u001b[0m\u001b[0mprep\u001b[0m\u001b[0;34m,\u001b[0m \u001b[0;34m**\u001b[0m\u001b[0msend_kwargs\u001b[0m\u001b[0;34m)\u001b[0m\u001b[0;34m\u001b[0m\u001b[0;34m\u001b[0m\u001b[0m\n\u001b[0m\u001b[1;32m    543\u001b[0m \u001b[0;34m\u001b[0m\u001b[0m\n\u001b[1;32m    544\u001b[0m         \u001b[0;32mreturn\u001b[0m \u001b[0mresp\u001b[0m\u001b[0;34m\u001b[0m\u001b[0;34m\u001b[0m\u001b[0m\n",
      "\u001b[0;32m/usr/local/lib/python3.9/dist-packages/requests/sessions.py\u001b[0m in \u001b[0;36msend\u001b[0;34m(self, request, **kwargs)\u001b[0m\n\u001b[1;32m    653\u001b[0m \u001b[0;34m\u001b[0m\u001b[0m\n\u001b[1;32m    654\u001b[0m         \u001b[0;31m# Send the request\u001b[0m\u001b[0;34m\u001b[0m\u001b[0;34m\u001b[0m\u001b[0m\n\u001b[0;32m--> 655\u001b[0;31m         \u001b[0mr\u001b[0m \u001b[0;34m=\u001b[0m \u001b[0madapter\u001b[0m\u001b[0;34m.\u001b[0m\u001b[0msend\u001b[0m\u001b[0;34m(\u001b[0m\u001b[0mrequest\u001b[0m\u001b[0;34m,\u001b[0m \u001b[0;34m**\u001b[0m\u001b[0mkwargs\u001b[0m\u001b[0;34m)\u001b[0m\u001b[0;34m\u001b[0m\u001b[0;34m\u001b[0m\u001b[0m\n\u001b[0m\u001b[1;32m    656\u001b[0m \u001b[0;34m\u001b[0m\u001b[0m\n\u001b[1;32m    657\u001b[0m         \u001b[0;31m# Total elapsed time of the request (approximately)\u001b[0m\u001b[0;34m\u001b[0m\u001b[0;34m\u001b[0m\u001b[0m\n",
      "\u001b[0;32m/usr/local/lib/python3.9/dist-packages/requests/adapters.py\u001b[0m in \u001b[0;36msend\u001b[0;34m(self, request, stream, timeout, verify, cert, proxies)\u001b[0m\n\u001b[1;32m    437\u001b[0m         \u001b[0;32mtry\u001b[0m\u001b[0;34m:\u001b[0m\u001b[0;34m\u001b[0m\u001b[0;34m\u001b[0m\u001b[0m\n\u001b[1;32m    438\u001b[0m             \u001b[0;32mif\u001b[0m \u001b[0;32mnot\u001b[0m \u001b[0mchunked\u001b[0m\u001b[0;34m:\u001b[0m\u001b[0;34m\u001b[0m\u001b[0;34m\u001b[0m\u001b[0m\n\u001b[0;32m--> 439\u001b[0;31m                 resp = conn.urlopen(\n\u001b[0m\u001b[1;32m    440\u001b[0m                     \u001b[0mmethod\u001b[0m\u001b[0;34m=\u001b[0m\u001b[0mrequest\u001b[0m\u001b[0;34m.\u001b[0m\u001b[0mmethod\u001b[0m\u001b[0;34m,\u001b[0m\u001b[0;34m\u001b[0m\u001b[0;34m\u001b[0m\u001b[0m\n\u001b[1;32m    441\u001b[0m                     \u001b[0murl\u001b[0m\u001b[0;34m=\u001b[0m\u001b[0murl\u001b[0m\u001b[0;34m,\u001b[0m\u001b[0;34m\u001b[0m\u001b[0;34m\u001b[0m\u001b[0m\n",
      "\u001b[0;32m/usr/local/lib/python3.9/dist-packages/urllib3/connectionpool.py\u001b[0m in \u001b[0;36murlopen\u001b[0;34m(self, method, url, body, headers, retries, redirect, assert_same_host, timeout, pool_timeout, release_conn, chunked, body_pos, **response_kw)\u001b[0m\n\u001b[1;32m    701\u001b[0m \u001b[0;34m\u001b[0m\u001b[0m\n\u001b[1;32m    702\u001b[0m             \u001b[0;31m# Make the request on the httplib connection object.\u001b[0m\u001b[0;34m\u001b[0m\u001b[0;34m\u001b[0m\u001b[0m\n\u001b[0;32m--> 703\u001b[0;31m             httplib_response = self._make_request(\n\u001b[0m\u001b[1;32m    704\u001b[0m                 \u001b[0mconn\u001b[0m\u001b[0;34m,\u001b[0m\u001b[0;34m\u001b[0m\u001b[0;34m\u001b[0m\u001b[0m\n\u001b[1;32m    705\u001b[0m                 \u001b[0mmethod\u001b[0m\u001b[0;34m,\u001b[0m\u001b[0;34m\u001b[0m\u001b[0;34m\u001b[0m\u001b[0m\n",
      "\u001b[0;32m/usr/local/lib/python3.9/dist-packages/urllib3/connectionpool.py\u001b[0m in \u001b[0;36m_make_request\u001b[0;34m(self, conn, method, url, timeout, chunked, **httplib_request_kw)\u001b[0m\n\u001b[1;32m    447\u001b[0m                     \u001b[0;31m# Python 3 (including for exceptions like SystemExit).\u001b[0m\u001b[0;34m\u001b[0m\u001b[0;34m\u001b[0m\u001b[0m\n\u001b[1;32m    448\u001b[0m                     \u001b[0;31m# Otherwise it looks like a bug in the code.\u001b[0m\u001b[0;34m\u001b[0m\u001b[0;34m\u001b[0m\u001b[0m\n\u001b[0;32m--> 449\u001b[0;31m                     \u001b[0msix\u001b[0m\u001b[0;34m.\u001b[0m\u001b[0mraise_from\u001b[0m\u001b[0;34m(\u001b[0m\u001b[0me\u001b[0m\u001b[0;34m,\u001b[0m \u001b[0;32mNone\u001b[0m\u001b[0;34m)\u001b[0m\u001b[0;34m\u001b[0m\u001b[0;34m\u001b[0m\u001b[0m\n\u001b[0m\u001b[1;32m    450\u001b[0m         \u001b[0;32mexcept\u001b[0m \u001b[0;34m(\u001b[0m\u001b[0mSocketTimeout\u001b[0m\u001b[0;34m,\u001b[0m \u001b[0mBaseSSLError\u001b[0m\u001b[0;34m,\u001b[0m \u001b[0mSocketError\u001b[0m\u001b[0;34m)\u001b[0m \u001b[0;32mas\u001b[0m \u001b[0me\u001b[0m\u001b[0;34m:\u001b[0m\u001b[0;34m\u001b[0m\u001b[0;34m\u001b[0m\u001b[0m\n\u001b[1;32m    451\u001b[0m             \u001b[0mself\u001b[0m\u001b[0;34m.\u001b[0m\u001b[0m_raise_timeout\u001b[0m\u001b[0;34m(\u001b[0m\u001b[0merr\u001b[0m\u001b[0;34m=\u001b[0m\u001b[0me\u001b[0m\u001b[0;34m,\u001b[0m \u001b[0murl\u001b[0m\u001b[0;34m=\u001b[0m\u001b[0murl\u001b[0m\u001b[0;34m,\u001b[0m \u001b[0mtimeout_value\u001b[0m\u001b[0;34m=\u001b[0m\u001b[0mread_timeout\u001b[0m\u001b[0;34m)\u001b[0m\u001b[0;34m\u001b[0m\u001b[0;34m\u001b[0m\u001b[0m\n",
      "\u001b[0;32m/usr/local/lib/python3.9/dist-packages/urllib3/packages/six.py\u001b[0m in \u001b[0;36mraise_from\u001b[0;34m(value, from_value)\u001b[0m\n",
      "\u001b[0;32m/usr/local/lib/python3.9/dist-packages/urllib3/connectionpool.py\u001b[0m in \u001b[0;36m_make_request\u001b[0;34m(self, conn, method, url, timeout, chunked, **httplib_request_kw)\u001b[0m\n\u001b[1;32m    442\u001b[0m                 \u001b[0;31m# Python 3\u001b[0m\u001b[0;34m\u001b[0m\u001b[0;34m\u001b[0m\u001b[0m\n\u001b[1;32m    443\u001b[0m                 \u001b[0;32mtry\u001b[0m\u001b[0;34m:\u001b[0m\u001b[0;34m\u001b[0m\u001b[0;34m\u001b[0m\u001b[0m\n\u001b[0;32m--> 444\u001b[0;31m                     \u001b[0mhttplib_response\u001b[0m \u001b[0;34m=\u001b[0m \u001b[0mconn\u001b[0m\u001b[0;34m.\u001b[0m\u001b[0mgetresponse\u001b[0m\u001b[0;34m(\u001b[0m\u001b[0;34m)\u001b[0m\u001b[0;34m\u001b[0m\u001b[0;34m\u001b[0m\u001b[0m\n\u001b[0m\u001b[1;32m    445\u001b[0m                 \u001b[0;32mexcept\u001b[0m \u001b[0mBaseException\u001b[0m \u001b[0;32mas\u001b[0m \u001b[0me\u001b[0m\u001b[0;34m:\u001b[0m\u001b[0;34m\u001b[0m\u001b[0;34m\u001b[0m\u001b[0m\n\u001b[1;32m    446\u001b[0m                     \u001b[0;31m# Remove the TypeError from the exception chain in\u001b[0m\u001b[0;34m\u001b[0m\u001b[0;34m\u001b[0m\u001b[0m\n",
      "\u001b[0;32m/usr/lib/python3.9/http/client.py\u001b[0m in \u001b[0;36mgetresponse\u001b[0;34m(self)\u001b[0m\n\u001b[1;32m   1375\u001b[0m         \u001b[0;32mtry\u001b[0m\u001b[0;34m:\u001b[0m\u001b[0;34m\u001b[0m\u001b[0;34m\u001b[0m\u001b[0m\n\u001b[1;32m   1376\u001b[0m             \u001b[0;32mtry\u001b[0m\u001b[0;34m:\u001b[0m\u001b[0;34m\u001b[0m\u001b[0;34m\u001b[0m\u001b[0m\n\u001b[0;32m-> 1377\u001b[0;31m                 \u001b[0mresponse\u001b[0m\u001b[0;34m.\u001b[0m\u001b[0mbegin\u001b[0m\u001b[0;34m(\u001b[0m\u001b[0;34m)\u001b[0m\u001b[0;34m\u001b[0m\u001b[0;34m\u001b[0m\u001b[0m\n\u001b[0m\u001b[1;32m   1378\u001b[0m             \u001b[0;32mexcept\u001b[0m \u001b[0mConnectionError\u001b[0m\u001b[0;34m:\u001b[0m\u001b[0;34m\u001b[0m\u001b[0;34m\u001b[0m\u001b[0m\n\u001b[1;32m   1379\u001b[0m                 \u001b[0mself\u001b[0m\u001b[0;34m.\u001b[0m\u001b[0mclose\u001b[0m\u001b[0;34m(\u001b[0m\u001b[0;34m)\u001b[0m\u001b[0;34m\u001b[0m\u001b[0;34m\u001b[0m\u001b[0m\n",
      "\u001b[0;32m/usr/lib/python3.9/http/client.py\u001b[0m in \u001b[0;36mbegin\u001b[0;34m(self)\u001b[0m\n\u001b[1;32m    318\u001b[0m         \u001b[0;31m# read until we get a non-100 response\u001b[0m\u001b[0;34m\u001b[0m\u001b[0;34m\u001b[0m\u001b[0m\n\u001b[1;32m    319\u001b[0m         \u001b[0;32mwhile\u001b[0m \u001b[0;32mTrue\u001b[0m\u001b[0;34m:\u001b[0m\u001b[0;34m\u001b[0m\u001b[0;34m\u001b[0m\u001b[0m\n\u001b[0;32m--> 320\u001b[0;31m             \u001b[0mversion\u001b[0m\u001b[0;34m,\u001b[0m \u001b[0mstatus\u001b[0m\u001b[0;34m,\u001b[0m \u001b[0mreason\u001b[0m \u001b[0;34m=\u001b[0m \u001b[0mself\u001b[0m\u001b[0;34m.\u001b[0m\u001b[0m_read_status\u001b[0m\u001b[0;34m(\u001b[0m\u001b[0;34m)\u001b[0m\u001b[0;34m\u001b[0m\u001b[0;34m\u001b[0m\u001b[0m\n\u001b[0m\u001b[1;32m    321\u001b[0m             \u001b[0;32mif\u001b[0m \u001b[0mstatus\u001b[0m \u001b[0;34m!=\u001b[0m \u001b[0mCONTINUE\u001b[0m\u001b[0;34m:\u001b[0m\u001b[0;34m\u001b[0m\u001b[0;34m\u001b[0m\u001b[0m\n\u001b[1;32m    322\u001b[0m                 \u001b[0;32mbreak\u001b[0m\u001b[0;34m\u001b[0m\u001b[0;34m\u001b[0m\u001b[0m\n",
      "\u001b[0;32m/usr/lib/python3.9/http/client.py\u001b[0m in \u001b[0;36m_read_status\u001b[0;34m(self)\u001b[0m\n\u001b[1;32m    279\u001b[0m \u001b[0;34m\u001b[0m\u001b[0m\n\u001b[1;32m    280\u001b[0m     \u001b[0;32mdef\u001b[0m \u001b[0m_read_status\u001b[0m\u001b[0;34m(\u001b[0m\u001b[0mself\u001b[0m\u001b[0;34m)\u001b[0m\u001b[0;34m:\u001b[0m\u001b[0;34m\u001b[0m\u001b[0;34m\u001b[0m\u001b[0m\n\u001b[0;32m--> 281\u001b[0;31m         \u001b[0mline\u001b[0m \u001b[0;34m=\u001b[0m \u001b[0mstr\u001b[0m\u001b[0;34m(\u001b[0m\u001b[0mself\u001b[0m\u001b[0;34m.\u001b[0m\u001b[0mfp\u001b[0m\u001b[0;34m.\u001b[0m\u001b[0mreadline\u001b[0m\u001b[0;34m(\u001b[0m\u001b[0m_MAXLINE\u001b[0m \u001b[0;34m+\u001b[0m \u001b[0;36m1\u001b[0m\u001b[0;34m)\u001b[0m\u001b[0;34m,\u001b[0m \u001b[0;34m\"iso-8859-1\"\u001b[0m\u001b[0;34m)\u001b[0m\u001b[0;34m\u001b[0m\u001b[0;34m\u001b[0m\u001b[0m\n\u001b[0m\u001b[1;32m    282\u001b[0m         \u001b[0;32mif\u001b[0m \u001b[0mlen\u001b[0m\u001b[0;34m(\u001b[0m\u001b[0mline\u001b[0m\u001b[0;34m)\u001b[0m \u001b[0;34m>\u001b[0m \u001b[0m_MAXLINE\u001b[0m\u001b[0;34m:\u001b[0m\u001b[0;34m\u001b[0m\u001b[0;34m\u001b[0m\u001b[0m\n\u001b[1;32m    283\u001b[0m             \u001b[0;32mraise\u001b[0m \u001b[0mLineTooLong\u001b[0m\u001b[0;34m(\u001b[0m\u001b[0;34m\"status line\"\u001b[0m\u001b[0;34m)\u001b[0m\u001b[0;34m\u001b[0m\u001b[0;34m\u001b[0m\u001b[0m\n",
      "\u001b[0;32m/usr/lib/python3.9/socket.py\u001b[0m in \u001b[0;36mreadinto\u001b[0;34m(self, b)\u001b[0m\n\u001b[1;32m    702\u001b[0m         \u001b[0;32mwhile\u001b[0m \u001b[0;32mTrue\u001b[0m\u001b[0;34m:\u001b[0m\u001b[0;34m\u001b[0m\u001b[0;34m\u001b[0m\u001b[0m\n\u001b[1;32m    703\u001b[0m             \u001b[0;32mtry\u001b[0m\u001b[0;34m:\u001b[0m\u001b[0;34m\u001b[0m\u001b[0;34m\u001b[0m\u001b[0m\n\u001b[0;32m--> 704\u001b[0;31m                 \u001b[0;32mreturn\u001b[0m \u001b[0mself\u001b[0m\u001b[0;34m.\u001b[0m\u001b[0m_sock\u001b[0m\u001b[0;34m.\u001b[0m\u001b[0mrecv_into\u001b[0m\u001b[0;34m(\u001b[0m\u001b[0mb\u001b[0m\u001b[0;34m)\u001b[0m\u001b[0;34m\u001b[0m\u001b[0;34m\u001b[0m\u001b[0m\n\u001b[0m\u001b[1;32m    705\u001b[0m             \u001b[0;32mexcept\u001b[0m \u001b[0mtimeout\u001b[0m\u001b[0;34m:\u001b[0m\u001b[0;34m\u001b[0m\u001b[0;34m\u001b[0m\u001b[0m\n\u001b[1;32m    706\u001b[0m                 \u001b[0mself\u001b[0m\u001b[0;34m.\u001b[0m\u001b[0m_timeout_occurred\u001b[0m \u001b[0;34m=\u001b[0m \u001b[0;32mTrue\u001b[0m\u001b[0;34m\u001b[0m\u001b[0;34m\u001b[0m\u001b[0m\n",
      "\u001b[0;32m/usr/lib/python3.9/ssl.py\u001b[0m in \u001b[0;36mrecv_into\u001b[0;34m(self, buffer, nbytes, flags)\u001b[0m\n\u001b[1;32m   1240\u001b[0m                   \u001b[0;34m\"non-zero flags not allowed in calls to recv_into() on %s\"\u001b[0m \u001b[0;34m%\u001b[0m\u001b[0;34m\u001b[0m\u001b[0;34m\u001b[0m\u001b[0m\n\u001b[1;32m   1241\u001b[0m                   self.__class__)\n\u001b[0;32m-> 1242\u001b[0;31m             \u001b[0;32mreturn\u001b[0m \u001b[0mself\u001b[0m\u001b[0;34m.\u001b[0m\u001b[0mread\u001b[0m\u001b[0;34m(\u001b[0m\u001b[0mnbytes\u001b[0m\u001b[0;34m,\u001b[0m \u001b[0mbuffer\u001b[0m\u001b[0;34m)\u001b[0m\u001b[0;34m\u001b[0m\u001b[0;34m\u001b[0m\u001b[0m\n\u001b[0m\u001b[1;32m   1243\u001b[0m         \u001b[0;32melse\u001b[0m\u001b[0;34m:\u001b[0m\u001b[0;34m\u001b[0m\u001b[0;34m\u001b[0m\u001b[0m\n\u001b[1;32m   1244\u001b[0m             \u001b[0;32mreturn\u001b[0m \u001b[0msuper\u001b[0m\u001b[0;34m(\u001b[0m\u001b[0;34m)\u001b[0m\u001b[0;34m.\u001b[0m\u001b[0mrecv_into\u001b[0m\u001b[0;34m(\u001b[0m\u001b[0mbuffer\u001b[0m\u001b[0;34m,\u001b[0m \u001b[0mnbytes\u001b[0m\u001b[0;34m,\u001b[0m \u001b[0mflags\u001b[0m\u001b[0;34m)\u001b[0m\u001b[0;34m\u001b[0m\u001b[0;34m\u001b[0m\u001b[0m\n",
      "\u001b[0;32m/usr/lib/python3.9/ssl.py\u001b[0m in \u001b[0;36mread\u001b[0;34m(self, len, buffer)\u001b[0m\n\u001b[1;32m   1098\u001b[0m         \u001b[0;32mtry\u001b[0m\u001b[0;34m:\u001b[0m\u001b[0;34m\u001b[0m\u001b[0;34m\u001b[0m\u001b[0m\n\u001b[1;32m   1099\u001b[0m             \u001b[0;32mif\u001b[0m \u001b[0mbuffer\u001b[0m \u001b[0;32mis\u001b[0m \u001b[0;32mnot\u001b[0m \u001b[0;32mNone\u001b[0m\u001b[0;34m:\u001b[0m\u001b[0;34m\u001b[0m\u001b[0;34m\u001b[0m\u001b[0m\n\u001b[0;32m-> 1100\u001b[0;31m                 \u001b[0;32mreturn\u001b[0m \u001b[0mself\u001b[0m\u001b[0;34m.\u001b[0m\u001b[0m_sslobj\u001b[0m\u001b[0;34m.\u001b[0m\u001b[0mread\u001b[0m\u001b[0;34m(\u001b[0m\u001b[0mlen\u001b[0m\u001b[0;34m,\u001b[0m \u001b[0mbuffer\u001b[0m\u001b[0;34m)\u001b[0m\u001b[0;34m\u001b[0m\u001b[0;34m\u001b[0m\u001b[0m\n\u001b[0m\u001b[1;32m   1101\u001b[0m             \u001b[0;32melse\u001b[0m\u001b[0;34m:\u001b[0m\u001b[0;34m\u001b[0m\u001b[0;34m\u001b[0m\u001b[0m\n\u001b[1;32m   1102\u001b[0m                 \u001b[0;32mreturn\u001b[0m \u001b[0mself\u001b[0m\u001b[0;34m.\u001b[0m\u001b[0m_sslobj\u001b[0m\u001b[0;34m.\u001b[0m\u001b[0mread\u001b[0m\u001b[0;34m(\u001b[0m\u001b[0mlen\u001b[0m\u001b[0;34m)\u001b[0m\u001b[0;34m\u001b[0m\u001b[0;34m\u001b[0m\u001b[0m\n",
      "\u001b[0;31mKeyboardInterrupt\u001b[0m: "
     ]
    }
   ],
   "source": [
    "from ..repo_graph_generation import decompose_repo\n",
    "\n",
    "\n",
    "decompose_repo()"
   ]
  },
  {
   "cell_type": "markdown",
   "metadata": {
    "id": "7WPnklCCNoGN"
   },
   "source": [
    "## Topic Modeling"
   ]
  },
  {
   "cell_type": "code",
   "execution_count": 15,
   "metadata": {
    "id": "XUvDlkrDN0mc"
   },
   "outputs": [],
   "source": [
    "from sentence_transformers import SentenceTransformer\n",
    "\n",
    "import math\n",
    "import pandas as pd\n",
    "import numpy as np\n",
    "import scipy.sparse as sp\n",
    "from scipy.sparse import csr_matrix\n",
    "from tqdm import tqdm\n",
    "import torch\n",
    "from torch import Tensor\n",
    "from collections import defaultdict\n",
    "from typing import List"
   ]
  },
  {
   "cell_type": "code",
   "execution_count": 67,
   "metadata": {
    "id": "-lUWw-GUQmX1"
   },
   "outputs": [],
   "source": [
    "def load_jsonl(filepaths):\n",
    "    data = []\n",
    "    for filepath in filepaths:\n",
    "        with open(filepath, \"r\") as f:\n",
    "            for line in f:\n",
    "                data.append(json.loads(line))\n",
    "    return data\n",
    "\n",
    "\n",
    "root_dir = \"/content/gitmodel_sum\"\n",
    "repo = \"gitmodel\"\n",
    "repo_files = [\n",
    "    f\"{root_dir}/{repo}_summary.jsonl\",\n",
    "    f\"{root_dir}/{repo}_question_asking.jsonl\",\n",
    "    f\"{root_dir}/{repo}_summary2.jsonl\",\n",
    "    f\"{root_dir}/{repo}_summary3.jsonl\",\n",
    "]  # , f\"{root_dir}/{repo}_complement_code.jsonl\", f\"{root_dir}/{repo}_code_suggestions.jsonl\"]#, f'{root_dir}/{repo}_todo_labeler.jsonl', f\"{root_dir}/{repo}_bug_finder.jsonl\"]\n",
    "\n",
    "res = load_jsonl(repo_files)\n",
    "sents = []\n",
    "for r in res:\n",
    "    messages = r[\"conversation_history\"]\n",
    "    reply = r[\"assistant_reply\"]\n",
    "    sents.append(reply)\n",
    "    sents.append(messages[-2][\"content\"])"
   ]
  },
  {
   "cell_type": "code",
   "execution_count": 68,
   "metadata": {
    "id": "0WDkBPQOcF48"
   },
   "outputs": [],
   "source": [
    "data = pd.DataFrame(sents, columns=[\"query\"])\n",
    "data[\"_id\"] = data.index"
   ]
  },
  {
   "cell_type": "code",
   "execution_count": 69,
   "metadata": {
    "colab": {
     "base_uri": "https://localhost:8080/",
     "height": 423
    },
    "id": "YijNKWTEtyTd",
    "outputId": "f12daa41-a435-4e96-a2ad-902378054309"
   },
   "outputs": [
    {
     "data": {
      "text/html": [
       "\n",
       "  <div id=\"df-758cf8a6-238b-4e34-83d9-2a026df2f772\">\n",
       "    <div class=\"colab-df-container\">\n",
       "      <div>\n",
       "<style scoped>\n",
       "    .dataframe tbody tr th:only-of-type {\n",
       "        vertical-align: middle;\n",
       "    }\n",
       "\n",
       "    .dataframe tbody tr th {\n",
       "        vertical-align: top;\n",
       "    }\n",
       "\n",
       "    .dataframe thead th {\n",
       "        text-align: right;\n",
       "    }\n",
       "</style>\n",
       "<table border=\"1\" class=\"dataframe\">\n",
       "  <thead>\n",
       "    <tr style=\"text-align: right;\">\n",
       "      <th></th>\n",
       "      <th>query</th>\n",
       "      <th>_id</th>\n",
       "    </tr>\n",
       "  </thead>\n",
       "  <tbody>\n",
       "    <tr>\n",
       "      <th>0</th>\n",
       "      <td>The `memory_tree_generation.py` file in the `G...</td>\n",
       "      <td>0</td>\n",
       "    </tr>\n",
       "    <tr>\n",
       "      <th>1</th>\n",
       "      <td>```def load_topic_model(diversity=0.1, min_top...</td>\n",
       "      <td>1</td>\n",
       "    </tr>\n",
       "    <tr>\n",
       "      <th>2</th>\n",
       "      <td>The `fit_topic_model` function takes in a BERT...</td>\n",
       "      <td>2</td>\n",
       "    </tr>\n",
       "    <tr>\n",
       "      <th>3</th>\n",
       "      <td>```def fit_topic_model(topic_model, data, embe...</td>\n",
       "      <td>3</td>\n",
       "    </tr>\n",
       "    <tr>\n",
       "      <th>4</th>\n",
       "      <td>The `get_topic_info` function takes in a BERTo...</td>\n",
       "      <td>4</td>\n",
       "    </tr>\n",
       "    <tr>\n",
       "      <th>...</th>\n",
       "      <td>...</td>\n",
       "      <td>...</td>\n",
       "    </tr>\n",
       "    <tr>\n",
       "      <th>351</th>\n",
       "      <td>```def process_transcript(segments, file_name,...</td>\n",
       "      <td>351</td>\n",
       "    </tr>\n",
       "    <tr>\n",
       "      <th>352</th>\n",
       "      <td>The `get_repo_contents` function takes in a `g...</td>\n",
       "      <td>352</td>\n",
       "    </tr>\n",
       "    <tr>\n",
       "      <th>353</th>\n",
       "      <td>```def get_repo_contents(git_repo_path):\\n    ...</td>\n",
       "      <td>353</td>\n",
       "    </tr>\n",
       "    <tr>\n",
       "      <th>354</th>\n",
       "      <td>The `decompose_repo` function takes in a list ...</td>\n",
       "      <td>354</td>\n",
       "    </tr>\n",
       "    <tr>\n",
       "      <th>355</th>\n",
       "      <td>```def decompose_repo(contents, git_repo_path,...</td>\n",
       "      <td>355</td>\n",
       "    </tr>\n",
       "  </tbody>\n",
       "</table>\n",
       "<p>356 rows × 2 columns</p>\n",
       "</div>\n",
       "      <button class=\"colab-df-convert\" onclick=\"convertToInteractive('df-758cf8a6-238b-4e34-83d9-2a026df2f772')\"\n",
       "              title=\"Convert this dataframe to an interactive table.\"\n",
       "              style=\"display:none;\">\n",
       "        \n",
       "  <svg xmlns=\"http://www.w3.org/2000/svg\" height=\"24px\"viewBox=\"0 0 24 24\"\n",
       "       width=\"24px\">\n",
       "    <path d=\"M0 0h24v24H0V0z\" fill=\"none\"/>\n",
       "    <path d=\"M18.56 5.44l.94 2.06.94-2.06 2.06-.94-2.06-.94-.94-2.06-.94 2.06-2.06.94zm-11 1L8.5 8.5l.94-2.06 2.06-.94-2.06-.94L8.5 2.5l-.94 2.06-2.06.94zm10 10l.94 2.06.94-2.06 2.06-.94-2.06-.94-.94-2.06-.94 2.06-2.06.94z\"/><path d=\"M17.41 7.96l-1.37-1.37c-.4-.4-.92-.59-1.43-.59-.52 0-1.04.2-1.43.59L10.3 9.45l-7.72 7.72c-.78.78-.78 2.05 0 2.83L4 21.41c.39.39.9.59 1.41.59.51 0 1.02-.2 1.41-.59l7.78-7.78 2.81-2.81c.8-.78.8-2.07 0-2.86zM5.41 20L4 18.59l7.72-7.72 1.47 1.35L5.41 20z\"/>\n",
       "  </svg>\n",
       "      </button>\n",
       "      \n",
       "  <style>\n",
       "    .colab-df-container {\n",
       "      display:flex;\n",
       "      flex-wrap:wrap;\n",
       "      gap: 12px;\n",
       "    }\n",
       "\n",
       "    .colab-df-convert {\n",
       "      background-color: #E8F0FE;\n",
       "      border: none;\n",
       "      border-radius: 50%;\n",
       "      cursor: pointer;\n",
       "      display: none;\n",
       "      fill: #1967D2;\n",
       "      height: 32px;\n",
       "      padding: 0 0 0 0;\n",
       "      width: 32px;\n",
       "    }\n",
       "\n",
       "    .colab-df-convert:hover {\n",
       "      background-color: #E2EBFA;\n",
       "      box-shadow: 0px 1px 2px rgba(60, 64, 67, 0.3), 0px 1px 3px 1px rgba(60, 64, 67, 0.15);\n",
       "      fill: #174EA6;\n",
       "    }\n",
       "\n",
       "    [theme=dark] .colab-df-convert {\n",
       "      background-color: #3B4455;\n",
       "      fill: #D2E3FC;\n",
       "    }\n",
       "\n",
       "    [theme=dark] .colab-df-convert:hover {\n",
       "      background-color: #434B5C;\n",
       "      box-shadow: 0px 1px 3px 1px rgba(0, 0, 0, 0.15);\n",
       "      filter: drop-shadow(0px 1px 2px rgba(0, 0, 0, 0.3));\n",
       "      fill: #FFFFFF;\n",
       "    }\n",
       "  </style>\n",
       "\n",
       "      <script>\n",
       "        const buttonEl =\n",
       "          document.querySelector('#df-758cf8a6-238b-4e34-83d9-2a026df2f772 button.colab-df-convert');\n",
       "        buttonEl.style.display =\n",
       "          google.colab.kernel.accessAllowed ? 'block' : 'none';\n",
       "\n",
       "        async function convertToInteractive(key) {\n",
       "          const element = document.querySelector('#df-758cf8a6-238b-4e34-83d9-2a026df2f772');\n",
       "          const dataTable =\n",
       "            await google.colab.kernel.invokeFunction('convertToInteractive',\n",
       "                                                     [key], {});\n",
       "          if (!dataTable) return;\n",
       "\n",
       "          const docLinkHtml = 'Like what you see? Visit the ' +\n",
       "            '<a target=\"_blank\" href=https://colab.research.google.com/notebooks/data_table.ipynb>data table notebook</a>'\n",
       "            + ' to learn more about interactive tables.';\n",
       "          element.innerHTML = '';\n",
       "          dataTable['output_type'] = 'display_data';\n",
       "          await google.colab.output.renderOutput(dataTable, element);\n",
       "          const docLink = document.createElement('div');\n",
       "          docLink.innerHTML = docLinkHtml;\n",
       "          element.appendChild(docLink);\n",
       "        }\n",
       "      </script>\n",
       "    </div>\n",
       "  </div>\n",
       "  "
      ],
      "text/plain": [
       "                                                 query  _id\n",
       "0    The `memory_tree_generation.py` file in the `G...    0\n",
       "1    ```def load_topic_model(diversity=0.1, min_top...    1\n",
       "2    The `fit_topic_model` function takes in a BERT...    2\n",
       "3    ```def fit_topic_model(topic_model, data, embe...    3\n",
       "4    The `get_topic_info` function takes in a BERTo...    4\n",
       "..                                                 ...  ...\n",
       "351  ```def process_transcript(segments, file_name,...  351\n",
       "352  The `get_repo_contents` function takes in a `g...  352\n",
       "353  ```def get_repo_contents(git_repo_path):\\n    ...  353\n",
       "354  The `decompose_repo` function takes in a list ...  354\n",
       "355  ```def decompose_repo(contents, git_repo_path,...  355\n",
       "\n",
       "[356 rows x 2 columns]"
      ]
     },
     "execution_count": 69,
     "metadata": {},
     "output_type": "execute_result"
    }
   ],
   "source": [
    "data"
   ]
  },
  {
   "cell_type": "code",
   "execution_count": 70,
   "metadata": {
    "id": "ubbE53YoN2iy"
   },
   "outputs": [],
   "source": [
    "from ..models.graph_networks.kernels import compute_cos_sim_kernel, graph_laplacian, compute_kernel\n",
    "from ..models.graph_networks.message_passing import k_hop_message_passing_sparse\n",
    "from ..models.transformers.sentence_embeddings import embed_data\n",
    "from ..models.topic_modeling.umap_hdbscan_pipeline import (\n",
    "    load_topic_model,\n",
    "    get_topic_model,\n",
    "    get_representative_docs,\n",
    "    reduce_outliers,\n",
    "    fit_topic_model,\n",
    "    compute_hierarchical_topic_tree,\n",
    "    get_topic_info,\n",
    ")\n",
    "\n",
    "\n",
    "import matplotlib.pyplot as plt"
   ]
  },
  {
   "cell_type": "markdown",
   "metadata": {
    "id": "9ILCao7H8A3z"
   },
   "source": [
    "use svd to tune threshold"
   ]
  },
  {
   "cell_type": "code",
   "execution_count": 71,
   "metadata": {
    "colab": {
     "base_uri": "https://localhost:8080/",
     "height": 136,
     "referenced_widgets": [
      "d09f47c01b6c419db9f440c9cc688b22",
      "9281e0611a9b4bbd928d2f52e5dd8baf",
      "bd904532880647a6bac9a30228705e5c",
      "6ac13eb4d328477a9683cf4535f668b8",
      "615036e7ae0143ba88a8d67252580cc8",
      "0393827cd9d549569c9b99f88550a5cd",
      "f66e952cb32844e39ee6303dccccc7a5",
      "d1d1949dcd314d3b882919f15807934c",
      "bc749f5834604d498de8f30368aaf08a",
      "de28c2ef420f4faba0f2e84af0de9ab4",
      "6bdc2f63e8874b2ca1e0be76bcb02450"
     ]
    },
    "id": "DpA6KzNzkbVJ",
    "outputId": "ebbd9114-8d93-4474-eae3-3a911f45a1f5"
   },
   "outputs": [
    {
     "name": "stdout",
     "output_type": "stream",
     "text": [
      "Embedding data\n",
      "Model loaded\n",
      "Unique sentences 205\n"
     ]
    },
    {
     "data": {
      "application/vnd.jupyter.widget-view+json": {
       "model_id": "d09f47c01b6c419db9f440c9cc688b22",
       "version_major": 2,
       "version_minor": 0
      },
      "text/plain": [
       "Batches:   0%|          | 0/2 [00:00<?, ?it/s]"
      ]
     },
     "metadata": {},
     "output_type": "display_data"
    },
    {
     "name": "stdout",
     "output_type": "stream",
     "text": [
      "Embeddings computed\n"
     ]
    },
    {
     "name": "stderr",
     "output_type": "stream",
     "text": [
      "100%|██████████| 2/2 [00:00<00:00, 36.63it/s]\n"
     ]
    }
   ],
   "source": [
    "MODEL_NAME = \"all-MiniLM-L6-v2\"  # \"allenai-specter\"#\n",
    "embs = embed_data(data, model_name=MODEL_NAME)\n",
    "A = compute_cos_sim_kernel(embs, threshold=0.6)\n",
    "A_k, agg_features = k_hop_message_passing_sparse(A, embs, 2)"
   ]
  },
  {
   "cell_type": "code",
   "execution_count": 22,
   "metadata": {
    "colab": {
     "base_uri": "https://localhost:8080/",
     "height": 399
    },
    "id": "N5yHJu7Qm348",
    "outputId": "406b0121-28f9-4d5b-a1d7-ec7f318edbca"
   },
   "outputs": [
    {
     "name": "stdout",
     "output_type": "stream",
     "text": [
      "U: (132, 132)\n",
      "\n",
      "S: (132,)\n",
      "\n",
      "VT: (132, 132)\n",
      "\n"
     ]
    },
    {
     "data": {
      "image/png": "[encoded data removed]",
      "text/plain": [
       "<Figure size 432x288 with 1 Axes>"
      ]
     },
     "metadata": {
      "needs_background": "light"
     },
     "output_type": "display_data"
    }
   ],
   "source": [
    "U, S, VT = np.linalg.svd(compute_kernel(embs))\n",
    "print(f\"U: {U.shape}\\n\")\n",
    "print(f\"S: {S.shape}\\n\")\n",
    "print(f\"VT: {VT.shape}\\n\")\n",
    "plt.plot(np.diag(S))\n",
    "plt.xlabel(\"Singular value index\")\n",
    "plt.ylabel(\"Singular value\")\n",
    "plt.title(\"Singular values of A\")\n",
    "plt.show()"
   ]
  },
  {
   "cell_type": "code",
   "execution_count": 52,
   "metadata": {
    "colab": {
     "base_uri": "https://localhost:8080/",
     "height": 295
    },
    "id": "wBeNQbahn1CG",
    "outputId": "2aa1fc72-0b47-4053-c75c-bb7efccf3170"
   },
   "outputs": [
    {
     "data": {
      "image/png": "[encoded data removed]",
      "text/plain": [
       "<Figure size 432x288 with 1 Axes>"
      ]
     },
     "metadata": {
      "needs_background": "light"
     },
     "output_type": "display_data"
    }
   ],
   "source": [
    "# Sort the singular values in descending order\n",
    "s = S\n",
    "\n",
    "# Plot the scree plot\n",
    "plt.plot(S, \"o-\")\n",
    "plt.xlabel(\"Singular value rank\")\n",
    "plt.ylabel(\"Singular value\")\n",
    "plt.title(\"Scree plot of A\")\n",
    "plt.show()"
   ]
  },
  {
   "cell_type": "code",
   "execution_count": 56,
   "metadata": {
    "colab": {
     "base_uri": "https://localhost:8080/",
     "height": 399
    },
    "id": "Uq4wCYsdoHw_",
    "outputId": "e420e2a0-c982-45ca-fde1-cb0ff2b13956"
   },
   "outputs": [
    {
     "name": "stdout",
     "output_type": "stream",
     "text": [
      "U: (264, 264)\n",
      "\n",
      "S: (264,)\n",
      "\n",
      "VT: (264, 264)\n",
      "\n"
     ]
    },
    {
     "data": {
      "image/png": "[encoded data removed]",
      "text/plain": [
       "<Figure size 432x288 with 1 Axes>"
      ]
     },
     "metadata": {
      "needs_background": "light"
     },
     "output_type": "display_data"
    }
   ],
   "source": [
    "U, S, VT = np.linalg.svd(A)\n",
    "print(f\"U: {U.shape}\\n\")\n",
    "print(f\"S: {S.shape}\\n\")\n",
    "print(f\"VT: {VT.shape}\\n\")\n",
    "plt.plot(np.diag(S))\n",
    "plt.xlabel(\"Singular value index\")\n",
    "plt.ylabel(\"Singular value\")\n",
    "plt.title(\"Singular values of A\")\n",
    "plt.show()"
   ]
  },
  {
   "cell_type": "code",
   "execution_count": 72,
   "metadata": {
    "colab": {
     "base_uri": "https://localhost:8080/",
     "height": 399
    },
    "id": "Hw24e70nocZn",
    "outputId": "a5c38312-8fd2-459b-d222-235cd83b237d"
   },
   "outputs": [
    {
     "name": "stdout",
     "output_type": "stream",
     "text": [
      "U: (356, 356)\n",
      "\n",
      "S: (356,)\n",
      "\n",
      "VT: (356, 356)\n",
      "\n"
     ]
    },
    {
     "data": {
      "image/png": "[encoded data removed]",
      "text/plain": [
       "<Figure size 432x288 with 1 Axes>"
      ]
     },
     "metadata": {
      "needs_background": "light"
     },
     "output_type": "display_data"
    }
   ],
   "source": [
    "U, S, VT = np.linalg.svd(A_k)\n",
    "print(f\"U: {U.shape}\\n\")\n",
    "print(f\"S: {S.shape}\\n\")\n",
    "print(f\"VT: {VT.shape}\\n\")\n",
    "plt.plot(np.diag(S))\n",
    "plt.xlabel(\"Singular value index\")\n",
    "plt.ylabel(\"Singular value\")\n",
    "plt.title(\"Singular values of A_k\")\n",
    "plt.show()"
   ]
  },
  {
   "cell_type": "code",
   "execution_count": 58,
   "metadata": {
    "id": "ecFe1x_-lQHJ"
   },
   "outputs": [],
   "source": [
    "L, D = graph_laplacian(A)\n",
    "L_k, D_k = graph_laplacian(A_k)"
   ]
  },
  {
   "cell_type": "code",
   "execution_count": 27,
   "metadata": {
    "colab": {
     "base_uri": "https://localhost:8080/",
     "height": 399
    },
    "id": "faw638XQoSDo",
    "outputId": "6660ca59-9b5b-4a63-adf1-227322c4184a"
   },
   "outputs": [
    {
     "name": "stdout",
     "output_type": "stream",
     "text": [
      "U: (132, 132)\n",
      "\n",
      "S: (132,)\n",
      "\n",
      "VT: (132, 132)\n",
      "\n"
     ]
    },
    {
     "data": {
      "image/png": "[encoded data removed]",
      "text/plain": [
       "<Figure size 432x288 with 1 Axes>"
      ]
     },
     "metadata": {
      "needs_background": "light"
     },
     "output_type": "display_data"
    }
   ],
   "source": [
    "U, S, VT = np.linalg.svd(L)\n",
    "print(f\"U: {U.shape}\\n\")\n",
    "print(f\"S: {S.shape}\\n\")\n",
    "print(f\"VT: {VT.shape}\\n\")\n",
    "plt.plot(np.diag(S))\n",
    "plt.xlabel(\"Singular value index\")\n",
    "plt.ylabel(\"Singular value\")\n",
    "plt.title(\"Singular values of L\")\n",
    "plt.show()"
   ]
  },
  {
   "cell_type": "code",
   "execution_count": 28,
   "metadata": {
    "colab": {
     "base_uri": "https://localhost:8080/",
     "height": 295
    },
    "id": "p7fwZv7ko7rP",
    "outputId": "6f87bf38-3f15-44f9-daca-d37eaecc2267"
   },
   "outputs": [
    {
     "data": {
      "image/png": "[encoded data removed]",
      "text/plain": [
       "<Figure size 432x288 with 1 Axes>"
      ]
     },
     "metadata": {
      "needs_background": "light"
     },
     "output_type": "display_data"
    }
   ],
   "source": [
    "# Plot the scree plot\n",
    "plt.plot(S, \"o-\")\n",
    "plt.xlabel(\"Singular value rank\")\n",
    "plt.ylabel(\"Singular value\")\n",
    "plt.title(\"Scree plot of L\")\n",
    "plt.show()"
   ]
  },
  {
   "cell_type": "markdown",
   "metadata": {
    "id": "wVHqeyQuo95D"
   },
   "source": [
    "Singular values of graph laplacian "
   ]
  },
  {
   "cell_type": "code",
   "execution_count": 29,
   "metadata": {
    "colab": {
     "base_uri": "https://localhost:8080/",
     "height": 399
    },
    "id": "vyuFvY59omyQ",
    "outputId": "94130186-4708-49ef-ff5b-e3e1176c3d26"
   },
   "outputs": [
    {
     "name": "stdout",
     "output_type": "stream",
     "text": [
      "U: (132, 132)\n",
      "\n",
      "S: (132,)\n",
      "\n",
      "VT: (132, 132)\n",
      "\n"
     ]
    },
    {
     "data": {
      "image/png": "[encoded data removed]",
      "text/plain": [
       "<Figure size 432x288 with 1 Axes>"
      ]
     },
     "metadata": {
      "needs_background": "light"
     },
     "output_type": "display_data"
    }
   ],
   "source": [
    "U, S, VT = np.linalg.svd(L_k)\n",
    "print(f\"U: {U.shape}\\n\")\n",
    "print(f\"S: {S.shape}\\n\")\n",
    "print(f\"VT: {VT.shape}\\n\")\n",
    "plt.plot(np.diag(S))\n",
    "plt.xlabel(\"Singular value index\")\n",
    "plt.ylabel(\"Singular value\")\n",
    "plt.title(\"Singular values of L_k\")\n",
    "plt.show()"
   ]
  },
  {
   "cell_type": "code",
   "execution_count": null,
   "metadata": {
    "colab": {
     "base_uri": "https://localhost:8080/",
     "height": 472
    },
    "id": "RaKTVcswo3sf",
    "outputId": "393ef848-331c-4047-b03c-1142734c6eca"
   },
   "outputs": [
    {
     "data": {
      "image/png": "[encoded data removed]",
      "text/plain": [
       "<Figure size 640x480 with 1 Axes>"
      ]
     },
     "metadata": {},
     "output_type": "display_data"
    }
   ],
   "source": [
    "# Plot the scree plot\n",
    "plt.plot(S, \"o-\")\n",
    "plt.xlabel(\"Singular value rank\")\n",
    "plt.ylabel(\"Singular value\")\n",
    "plt.title(\"Scree plot of L_k\")\n",
    "plt.show()"
   ]
  },
  {
   "cell_type": "code",
   "execution_count": null,
   "metadata": {
    "colab": {
     "base_uri": "https://localhost:8080/"
    },
    "id": "IZF1wyXBlZAL",
    "outputId": "2e63fe3e-26aa-46ad-ed1a-0720037010ee"
   },
   "outputs": [
    {
     "data": {
      "text/plain": [
       "array([[ 5.,  0.,  0., ...,  0.,  0.,  0.],\n",
       "       [ 0., 11.,  0., ...,  0.,  0.,  0.],\n",
       "       [ 0.,  0., 17., ...,  0.,  0.,  0.],\n",
       "       ...,\n",
       "       [ 0.,  0.,  0., ..., 10.,  0.,  0.],\n",
       "       [ 0.,  0.,  0., ...,  0.,  6.,  0.],\n",
       "       [ 0.,  0.,  0., ...,  0.,  0., 13.]])"
      ]
     },
     "execution_count": 32,
     "metadata": {},
     "output_type": "execute_result"
    }
   ],
   "source": [
    "D"
   ]
  },
  {
   "cell_type": "code",
   "execution_count": null,
   "metadata": {
    "colab": {
     "base_uri": "https://localhost:8080/"
    },
    "id": "e356EvodloVz",
    "outputId": "4973fac0-94af-41f9-dd94-b5d85cd5995b"
   },
   "outputs": [
    {
     "data": {
      "text/plain": [
       "89346.0"
      ]
     },
     "execution_count": 33,
     "metadata": {},
     "output_type": "execute_result"
    }
   ],
   "source": [
    "diagonal_sum = np.trace(D)\n",
    "diagonal_sum"
   ]
  },
  {
   "cell_type": "code",
   "execution_count": null,
   "metadata": {
    "colab": {
     "base_uri": "https://localhost:8080/"
    },
    "id": "jv7_-3lnla07",
    "outputId": "bb724c06-1876-4576-b298-497db5db48d1"
   },
   "outputs": [
    {
     "data": {
      "text/plain": [
       "array([[ 393.,    0.,    0., ...,    0.,    0.,    0.],\n",
       "       [   0., 1707.,    0., ...,    0.,    0.,    0.],\n",
       "       [   0.,    0., 4097., ...,    0.,    0.,    0.],\n",
       "       ...,\n",
       "       [   0.,    0.,    0., ..., 4895.,    0.,    0.],\n",
       "       [   0.,    0.,    0., ...,    0., 1203.,    0.],\n",
       "       [   0.,    0.,    0., ...,    0.,    0., 2779.]])"
      ]
     },
     "execution_count": 34,
     "metadata": {},
     "output_type": "execute_result"
    }
   ],
   "source": [
    "D_k"
   ]
  },
  {
   "cell_type": "code",
   "execution_count": null,
   "metadata": {
    "colab": {
     "base_uri": "https://localhost:8080/"
    },
    "id": "mMa5VhSSlsJb",
    "outputId": "3dfa19fd-9351-4330-e33a-6262abb13ed1"
   },
   "outputs": [
    {
     "data": {
      "text/plain": [
       "787227280.0"
      ]
     },
     "execution_count": 35,
     "metadata": {},
     "output_type": "execute_result"
    }
   ],
   "source": [
    "diagonal_sum_k = np.trace(D_k)\n",
    "diagonal_sum_k"
   ]
  },
  {
   "cell_type": "code",
   "execution_count": 30,
   "metadata": {
    "colab": {
     "base_uri": "https://localhost:8080/",
     "height": 417
    },
    "id": "KKkADAZPlx9b",
    "outputId": "5952aa8f-5948-4a9b-8af8-182bd3ec5af5"
   },
   "outputs": [
    {
     "name": "stderr",
     "output_type": "stream",
     "text": [
      "100%|██████████| 2/2 [00:00<00:00, 326.58it/s]\n"
     ]
    },
    {
     "name": "stdout",
     "output_type": "stream",
     "text": [
      "U: (132, 132)\n",
      "\n",
      "S: (132,)\n",
      "\n",
      "VT: (132, 132)\n",
      "\n"
     ]
    },
    {
     "data": {
      "image/png": "[encoded data removed]",
      "text/plain": [
       "<Figure size 432x288 with 1 Axes>"
      ]
     },
     "metadata": {
      "needs_background": "light"
     },
     "output_type": "display_data"
    }
   ],
   "source": [
    "LA, agg_features = k_hop_message_passing_sparse(L, embs, 2)\n",
    "U, S, VT = np.linalg.svd(LA)\n",
    "print(f\"U: {U.shape}\\n\")\n",
    "print(f\"S: {S.shape}\\n\")\n",
    "print(f\"VT: {VT.shape}\\n\")\n",
    "plt.plot(np.diag(S))\n",
    "plt.xlabel(\"Singular value index\")\n",
    "plt.ylabel(\"Singular value\")\n",
    "plt.title(\"Singular values of LA_k\")\n",
    "plt.show()"
   ]
  },
  {
   "cell_type": "code",
   "execution_count": 31,
   "metadata": {
    "colab": {
     "base_uri": "https://localhost:8080/",
     "height": 417
    },
    "id": "XWFP2Rn-ua7W",
    "outputId": "f089c6fa-e500-4f75-9be1-41cec6270c13"
   },
   "outputs": [
    {
     "name": "stderr",
     "output_type": "stream",
     "text": [
      "100%|██████████| 2/2 [00:00<00:00, 126.31it/s]\n"
     ]
    },
    {
     "name": "stdout",
     "output_type": "stream",
     "text": [
      "U: (132, 132)\n",
      "\n",
      "S: (132,)\n",
      "\n",
      "VT: (132, 132)\n",
      "\n"
     ]
    },
    {
     "data": {
      "image/png": "[encoded data removed]",
      "text/plain": [
       "<Figure size 432x288 with 1 Axes>"
      ]
     },
     "metadata": {
      "needs_background": "light"
     },
     "output_type": "display_data"
    }
   ],
   "source": [
    "LA_k, agg_features = k_hop_message_passing_sparse(L_k, agg_features, 2)\n",
    "U, S, VT = np.linalg.svd(LA_k)\n",
    "print(f\"U: {U.shape}\\n\")\n",
    "print(f\"S: {S.shape}\\n\")\n",
    "print(f\"VT: {VT.shape}\\n\")\n",
    "plt.plot(np.diag(S))\n",
    "plt.xlabel(\"Singular value index\")\n",
    "plt.ylabel(\"Singular value\")\n",
    "plt.title(\"Singular values of LA_k\")\n",
    "plt.show()"
   ]
  },
  {
   "cell_type": "code",
   "execution_count": null,
   "metadata": {
    "colab": {
     "base_uri": "https://localhost:8080/",
     "height": 472
    },
    "id": "Fpd1MlrkzBbD",
    "outputId": "941f16dd-e9bf-441f-c17a-54ea70180e9b"
   },
   "outputs": [
    {
     "data": {
      "image/png": "[encoded data removed]",
      "text/plain": [
       "<Figure size 640x480 with 1 Axes>"
      ]
     },
     "metadata": {},
     "output_type": "display_data"
    }
   ],
   "source": [
    "# Plot the scree plot\n",
    "plt.plot(S, \"o-\")\n",
    "plt.xlabel(\"Singular value rank\")\n",
    "plt.ylabel(\"Singular value\")\n",
    "plt.title(\"Scree plot of LA_k\")\n",
    "plt.show()"
   ]
  },
  {
   "cell_type": "code",
   "execution_count": null,
   "metadata": {
    "colab": {
     "base_uri": "https://localhost:8080/"
    },
    "id": "t37s48R5yahD",
    "outputId": "cc46f2e2-cdcc-48ce-f481-8200219808fe"
   },
   "outputs": [
    {
     "data": {
      "text/plain": [
       "1.4274055072769385e+22"
      ]
     },
     "execution_count": 39,
     "metadata": {},
     "output_type": "execute_result"
    }
   ],
   "source": [
    "diagonal_sum_k = np.trace(LA_k)\n",
    "diagonal_sum_k"
   ]
  },
  {
   "cell_type": "code",
   "execution_count": 32,
   "metadata": {
    "id": "IhGeZjyCemeD"
   },
   "outputs": [],
   "source": []
  },
  {
   "cell_type": "code",
   "execution_count": 76,
   "metadata": {
    "colab": {
     "base_uri": "https://localhost:8080/",
     "height": 331
    },
    "id": "ZkHM1vkgdvtI",
    "outputId": "4ec05ee8-73e0-4cb5-f61b-5850721519fa"
   },
   "outputs": [
    {
     "data": {
      "text/html": [
       "\n",
       "  <div id=\"df-9f58ff84-0db7-46bb-a078-d52cf7036dd0\">\n",
       "    <div class=\"colab-df-container\">\n",
       "      <div>\n",
       "<style scoped>\n",
       "    .dataframe tbody tr th:only-of-type {\n",
       "        vertical-align: middle;\n",
       "    }\n",
       "\n",
       "    .dataframe tbody tr th {\n",
       "        vertical-align: top;\n",
       "    }\n",
       "\n",
       "    .dataframe thead th {\n",
       "        text-align: right;\n",
       "    }\n",
       "</style>\n",
       "<table border=\"1\" class=\"dataframe\">\n",
       "  <thead>\n",
       "    <tr style=\"text-align: right;\">\n",
       "      <th></th>\n",
       "      <th>Topic</th>\n",
       "      <th>Count</th>\n",
       "      <th>Name</th>\n",
       "    </tr>\n",
       "  </thead>\n",
       "  <tbody>\n",
       "    <tr>\n",
       "      <th>0</th>\n",
       "      <td>-1</td>\n",
       "      <td>44</td>\n",
       "      <td>-1_k-hop message passing with sparse matrices ...</td>\n",
       "    </tr>\n",
       "    <tr>\n",
       "      <th>1</th>\n",
       "      <td>0</td>\n",
       "      <td>155</td>\n",
       "      <td>0_Document pruning and adjacency matrix comput...</td>\n",
       "    </tr>\n",
       "    <tr>\n",
       "      <th>2</th>\n",
       "      <td>1</td>\n",
       "      <td>54</td>\n",
       "      <td>1_Issues with formatting system prompts in a f...</td>\n",
       "    </tr>\n",
       "    <tr>\n",
       "      <th>3</th>\n",
       "      <td>2</td>\n",
       "      <td>27</td>\n",
       "      <td>2_Data summarization using ChatGPT on code rep...</td>\n",
       "    </tr>\n",
       "    <tr>\n",
       "      <th>4</th>\n",
       "      <td>3</td>\n",
       "      <td>23</td>\n",
       "      <td>3_Graph Laplacian with Pairwise Distances___</td>\n",
       "    </tr>\n",
       "    <tr>\n",
       "      <th>5</th>\n",
       "      <td>4</td>\n",
       "      <td>16</td>\n",
       "      <td>4_Database Migrations with SQLAlchemy and Alem...</td>\n",
       "    </tr>\n",
       "    <tr>\n",
       "      <th>6</th>\n",
       "      <td>5</td>\n",
       "      <td>14</td>\n",
       "      <td>5_parsing Python files with AST and extracting...</td>\n",
       "    </tr>\n",
       "    <tr>\n",
       "      <th>7</th>\n",
       "      <td>6</td>\n",
       "      <td>12</td>\n",
       "      <td>6_Using the OpenAI GPT-3.5-Turbo model to gene...</td>\n",
       "    </tr>\n",
       "    <tr>\n",
       "      <th>8</th>\n",
       "      <td>7</td>\n",
       "      <td>11</td>\n",
       "      <td>7_Probability Density Estimation using Gaussia...</td>\n",
       "    </tr>\n",
       "  </tbody>\n",
       "</table>\n",
       "</div>\n",
       "      <button class=\"colab-df-convert\" onclick=\"convertToInteractive('df-9f58ff84-0db7-46bb-a078-d52cf7036dd0')\"\n",
       "              title=\"Convert this dataframe to an interactive table.\"\n",
       "              style=\"display:none;\">\n",
       "        \n",
       "  <svg xmlns=\"http://www.w3.org/2000/svg\" height=\"24px\"viewBox=\"0 0 24 24\"\n",
       "       width=\"24px\">\n",
       "    <path d=\"M0 0h24v24H0V0z\" fill=\"none\"/>\n",
       "    <path d=\"M18.56 5.44l.94 2.06.94-2.06 2.06-.94-2.06-.94-.94-2.06-.94 2.06-2.06.94zm-11 1L8.5 8.5l.94-2.06 2.06-.94-2.06-.94L8.5 2.5l-.94 2.06-2.06.94zm10 10l.94 2.06.94-2.06 2.06-.94-2.06-.94-.94-2.06-.94 2.06-2.06.94z\"/><path d=\"M17.41 7.96l-1.37-1.37c-.4-.4-.92-.59-1.43-.59-.52 0-1.04.2-1.43.59L10.3 9.45l-7.72 7.72c-.78.78-.78 2.05 0 2.83L4 21.41c.39.39.9.59 1.41.59.51 0 1.02-.2 1.41-.59l7.78-7.78 2.81-2.81c.8-.78.8-2.07 0-2.86zM5.41 20L4 18.59l7.72-7.72 1.47 1.35L5.41 20z\"/>\n",
       "  </svg>\n",
       "      </button>\n",
       "      \n",
       "  <style>\n",
       "    .colab-df-container {\n",
       "      display:flex;\n",
       "      flex-wrap:wrap;\n",
       "      gap: 12px;\n",
       "    }\n",
       "\n",
       "    .colab-df-convert {\n",
       "      background-color: #E8F0FE;\n",
       "      border: none;\n",
       "      border-radius: 50%;\n",
       "      cursor: pointer;\n",
       "      display: none;\n",
       "      fill: #1967D2;\n",
       "      height: 32px;\n",
       "      padding: 0 0 0 0;\n",
       "      width: 32px;\n",
       "    }\n",
       "\n",
       "    .colab-df-convert:hover {\n",
       "      background-color: #E2EBFA;\n",
       "      box-shadow: 0px 1px 2px rgba(60, 64, 67, 0.3), 0px 1px 3px 1px rgba(60, 64, 67, 0.15);\n",
       "      fill: #174EA6;\n",
       "    }\n",
       "\n",
       "    [theme=dark] .colab-df-convert {\n",
       "      background-color: #3B4455;\n",
       "      fill: #D2E3FC;\n",
       "    }\n",
       "\n",
       "    [theme=dark] .colab-df-convert:hover {\n",
       "      background-color: #434B5C;\n",
       "      box-shadow: 0px 1px 3px 1px rgba(0, 0, 0, 0.15);\n",
       "      filter: drop-shadow(0px 1px 2px rgba(0, 0, 0, 0.3));\n",
       "      fill: #FFFFFF;\n",
       "    }\n",
       "  </style>\n",
       "\n",
       "      <script>\n",
       "        const buttonEl =\n",
       "          document.querySelector('#df-9f58ff84-0db7-46bb-a078-d52cf7036dd0 button.colab-df-convert');\n",
       "        buttonEl.style.display =\n",
       "          google.colab.kernel.accessAllowed ? 'block' : 'none';\n",
       "\n",
       "        async function convertToInteractive(key) {\n",
       "          const element = document.querySelector('#df-9f58ff84-0db7-46bb-a078-d52cf7036dd0');\n",
       "          const dataTable =\n",
       "            await google.colab.kernel.invokeFunction('convertToInteractive',\n",
       "                                                     [key], {});\n",
       "          if (!dataTable) return;\n",
       "\n",
       "          const docLinkHtml = 'Like what you see? Visit the ' +\n",
       "            '<a target=\"_blank\" href=https://colab.research.google.com/notebooks/data_table.ipynb>data table notebook</a>'\n",
       "            + ' to learn more about interactive tables.';\n",
       "          element.innerHTML = '';\n",
       "          dataTable['output_type'] = 'display_data';\n",
       "          await google.colab.output.renderOutput(dataTable, element);\n",
       "          const docLink = document.createElement('div');\n",
       "          docLink.innerHTML = docLinkHtml;\n",
       "          element.appendChild(docLink);\n",
       "        }\n",
       "      </script>\n",
       "    </div>\n",
       "  </div>\n",
       "  "
      ],
      "text/plain": [
       "   Topic  Count                                               Name\n",
       "0     -1     44  -1_k-hop message passing with sparse matrices ...\n",
       "1      0    155  0_Document pruning and adjacency matrix comput...\n",
       "2      1     54  1_Issues with formatting system prompts in a f...\n",
       "3      2     27  2_Data summarization using ChatGPT on code rep...\n",
       "4      3     23       3_Graph Laplacian with Pairwise Distances___\n",
       "5      4     16  4_Database Migrations with SQLAlchemy and Alem...\n",
       "6      5     14  5_parsing Python files with AST and extracting...\n",
       "7      6     12  6_Using the OpenAI GPT-3.5-Turbo model to gene...\n",
       "8      7     11  7_Probability Density Estimation using Gaussia..."
      ]
     },
     "execution_count": 76,
     "metadata": {},
     "output_type": "execute_result"
    }
   ],
   "source": [
    "topic_model = load_topic_model(nr_topics=\"auto\")\n",
    "topics, probs = fit_topic_model(topic_model, data, agg_features)\n",
    "freq = get_topic_info(topic_model)\n",
    "rep_docs = topic_model\n",
    "freq"
   ]
  },
  {
   "cell_type": "code",
   "execution_count": 78,
   "metadata": {
    "id": "vAgiaiMGHQjd"
   },
   "outputs": [],
   "source": [
    "topic_model, new_topics = reduce_outliers(topic_model, data, topics, probs)"
   ]
  },
  {
   "cell_type": "code",
   "execution_count": 79,
   "metadata": {
    "colab": {
     "base_uri": "https://localhost:8080/",
     "height": 331
    },
    "id": "rit6BxgTHc25",
    "outputId": "fede0791-5725-433c-87f8-e2d01ba04604"
   },
   "outputs": [
    {
     "data": {
      "text/html": [
       "\n",
       "  <div id=\"df-5547a6e5-c8a1-44a9-933b-a141d95190dc\">\n",
       "    <div class=\"colab-df-container\">\n",
       "      <div>\n",
       "<style scoped>\n",
       "    .dataframe tbody tr th:only-of-type {\n",
       "        vertical-align: middle;\n",
       "    }\n",
       "\n",
       "    .dataframe tbody tr th {\n",
       "        vertical-align: top;\n",
       "    }\n",
       "\n",
       "    .dataframe thead th {\n",
       "        text-align: right;\n",
       "    }\n",
       "</style>\n",
       "<table border=\"1\" class=\"dataframe\">\n",
       "  <thead>\n",
       "    <tr style=\"text-align: right;\">\n",
       "      <th></th>\n",
       "      <th>Topic</th>\n",
       "      <th>Count</th>\n",
       "      <th>Name</th>\n",
       "    </tr>\n",
       "  </thead>\n",
       "  <tbody>\n",
       "    <tr>\n",
       "      <th>0</th>\n",
       "      <td>-1</td>\n",
       "      <td>4</td>\n",
       "      <td>-1_Creating a Settings class using BaseSetting...</td>\n",
       "    </tr>\n",
       "    <tr>\n",
       "      <th>1</th>\n",
       "      <td>0</td>\n",
       "      <td>155</td>\n",
       "      <td>0_Document pruning and Gaussian kernel computa...</td>\n",
       "    </tr>\n",
       "    <tr>\n",
       "      <th>2</th>\n",
       "      <td>1</td>\n",
       "      <td>65</td>\n",
       "      <td>1_Parsing and Decomposing Contents of a Git Re...</td>\n",
       "    </tr>\n",
       "    <tr>\n",
       "      <th>3</th>\n",
       "      <td>2</td>\n",
       "      <td>42</td>\n",
       "      <td>2_Codebase Summary and Conversation Template G...</td>\n",
       "    </tr>\n",
       "    <tr>\n",
       "      <th>4</th>\n",
       "      <td>3</td>\n",
       "      <td>33</td>\n",
       "      <td>3_Computing k-hop adjacency matrix and aggrega...</td>\n",
       "    </tr>\n",
       "    <tr>\n",
       "      <th>5</th>\n",
       "      <td>4</td>\n",
       "      <td>16</td>\n",
       "      <td>4_Understanding database migrations in offline...</td>\n",
       "    </tr>\n",
       "    <tr>\n",
       "      <th>6</th>\n",
       "      <td>5</td>\n",
       "      <td>18</td>\n",
       "      <td>5_Parsing Python code using abstract syntax tr...</td>\n",
       "    </tr>\n",
       "    <tr>\n",
       "      <th>7</th>\n",
       "      <td>6</td>\n",
       "      <td>12</td>\n",
       "      <td>6_Using OpenAI GPT-3.5-Turbo model for chat re...</td>\n",
       "    </tr>\n",
       "    <tr>\n",
       "      <th>8</th>\n",
       "      <td>7</td>\n",
       "      <td>11</td>\n",
       "      <td>7_Probability density estimation of distance s...</td>\n",
       "    </tr>\n",
       "  </tbody>\n",
       "</table>\n",
       "</div>\n",
       "      <button class=\"colab-df-convert\" onclick=\"convertToInteractive('df-5547a6e5-c8a1-44a9-933b-a141d95190dc')\"\n",
       "              title=\"Convert this dataframe to an interactive table.\"\n",
       "              style=\"display:none;\">\n",
       "        \n",
       "  <svg xmlns=\"http://www.w3.org/2000/svg\" height=\"24px\"viewBox=\"0 0 24 24\"\n",
       "       width=\"24px\">\n",
       "    <path d=\"M0 0h24v24H0V0z\" fill=\"none\"/>\n",
       "    <path d=\"M18.56 5.44l.94 2.06.94-2.06 2.06-.94-2.06-.94-.94-2.06-.94 2.06-2.06.94zm-11 1L8.5 8.5l.94-2.06 2.06-.94-2.06-.94L8.5 2.5l-.94 2.06-2.06.94zm10 10l.94 2.06.94-2.06 2.06-.94-2.06-.94-.94-2.06-.94 2.06-2.06.94z\"/><path d=\"M17.41 7.96l-1.37-1.37c-.4-.4-.92-.59-1.43-.59-.52 0-1.04.2-1.43.59L10.3 9.45l-7.72 7.72c-.78.78-.78 2.05 0 2.83L4 21.41c.39.39.9.59 1.41.59.51 0 1.02-.2 1.41-.59l7.78-7.78 2.81-2.81c.8-.78.8-2.07 0-2.86zM5.41 20L4 18.59l7.72-7.72 1.47 1.35L5.41 20z\"/>\n",
       "  </svg>\n",
       "      </button>\n",
       "      \n",
       "  <style>\n",
       "    .colab-df-container {\n",
       "      display:flex;\n",
       "      flex-wrap:wrap;\n",
       "      gap: 12px;\n",
       "    }\n",
       "\n",
       "    .colab-df-convert {\n",
       "      background-color: #E8F0FE;\n",
       "      border: none;\n",
       "      border-radius: 50%;\n",
       "      cursor: pointer;\n",
       "      display: none;\n",
       "      fill: #1967D2;\n",
       "      height: 32px;\n",
       "      padding: 0 0 0 0;\n",
       "      width: 32px;\n",
       "    }\n",
       "\n",
       "    .colab-df-convert:hover {\n",
       "      background-color: #E2EBFA;\n",
       "      box-shadow: 0px 1px 2px rgba(60, 64, 67, 0.3), 0px 1px 3px 1px rgba(60, 64, 67, 0.15);\n",
       "      fill: #174EA6;\n",
       "    }\n",
       "\n",
       "    [theme=dark] .colab-df-convert {\n",
       "      background-color: #3B4455;\n",
       "      fill: #D2E3FC;\n",
       "    }\n",
       "\n",
       "    [theme=dark] .colab-df-convert:hover {\n",
       "      background-color: #434B5C;\n",
       "      box-shadow: 0px 1px 3px 1px rgba(0, 0, 0, 0.15);\n",
       "      filter: drop-shadow(0px 1px 2px rgba(0, 0, 0, 0.3));\n",
       "      fill: #FFFFFF;\n",
       "    }\n",
       "  </style>\n",
       "\n",
       "      <script>\n",
       "        const buttonEl =\n",
       "          document.querySelector('#df-5547a6e5-c8a1-44a9-933b-a141d95190dc button.colab-df-convert');\n",
       "        buttonEl.style.display =\n",
       "          google.colab.kernel.accessAllowed ? 'block' : 'none';\n",
       "\n",
       "        async function convertToInteractive(key) {\n",
       "          const element = document.querySelector('#df-5547a6e5-c8a1-44a9-933b-a141d95190dc');\n",
       "          const dataTable =\n",
       "            await google.colab.kernel.invokeFunction('convertToInteractive',\n",
       "                                                     [key], {});\n",
       "          if (!dataTable) return;\n",
       "\n",
       "          const docLinkHtml = 'Like what you see? Visit the ' +\n",
       "            '<a target=\"_blank\" href=https://colab.research.google.com/notebooks/data_table.ipynb>data table notebook</a>'\n",
       "            + ' to learn more about interactive tables.';\n",
       "          element.innerHTML = '';\n",
       "          dataTable['output_type'] = 'display_data';\n",
       "          await google.colab.output.renderOutput(dataTable, element);\n",
       "          const docLink = document.createElement('div');\n",
       "          docLink.innerHTML = docLinkHtml;\n",
       "          element.appendChild(docLink);\n",
       "        }\n",
       "      </script>\n",
       "    </div>\n",
       "  </div>\n",
       "  "
      ],
      "text/plain": [
       "   Topic  Count                                               Name\n",
       "0     -1      4  -1_Creating a Settings class using BaseSetting...\n",
       "1      0    155  0_Document pruning and Gaussian kernel computa...\n",
       "2      1     65  1_Parsing and Decomposing Contents of a Git Re...\n",
       "3      2     42  2_Codebase Summary and Conversation Template G...\n",
       "4      3     33  3_Computing k-hop adjacency matrix and aggrega...\n",
       "5      4     16  4_Understanding database migrations in offline...\n",
       "6      5     18  5_Parsing Python code using abstract syntax tr...\n",
       "7      6     12  6_Using OpenAI GPT-3.5-Turbo model for chat re...\n",
       "8      7     11  7_Probability density estimation of distance s..."
      ]
     },
     "execution_count": 79,
     "metadata": {},
     "output_type": "execute_result"
    }
   ],
   "source": [
    "freq = get_topic_info(topic_model)\n",
    "freq"
   ]
  },
  {
   "cell_type": "code",
   "execution_count": 80,
   "metadata": {
    "colab": {
     "base_uri": "https://localhost:8080/"
    },
    "id": "PpwXk8cwfKAX",
    "outputId": "78342f90-48d8-46d7-fc42-6e078c8fba5f"
   },
   "outputs": [
    {
     "name": "stderr",
     "output_type": "stream",
     "text": [
      "100%|██████████| 7/7 [00:15<00:00,  2.27s/it]\n"
     ]
    }
   ],
   "source": [
    "hr, tree = compute_hierarchical_topic_tree(topic_model=topic_model, data=data)"
   ]
  },
  {
   "cell_type": "code",
   "execution_count": null,
   "metadata": {
    "id": "7TK2K3HigdTy"
   },
   "outputs": [],
   "source": [
    "topic_model.visualize_hierarchical_documents(\n",
    "    data[\"query\"].to_list(), hr, embeddings=agg_features, hide_document_hover=True\n",
    ")"
   ]
  },
  {
   "cell_type": "code",
   "execution_count": null,
   "metadata": {
    "id": "NP0EIyVPuHs5"
   },
   "outputs": [],
   "source": [
    "rep_docs[19]"
   ]
  },
  {
   "cell_type": "markdown",
   "metadata": {
    "id": "RkAwWJ_B-Lwa"
   },
   "source": [
    "A"
   ]
  },
  {
   "cell_type": "code",
   "execution_count": 81,
   "metadata": {
    "colab": {
     "base_uri": "https://localhost:8080/"
    },
    "id": "ooOn5NMysq1S",
    "outputId": "7a8c451e-0051-4184-84a2-a5c79966cc53"
   },
   "outputs": [
    {
     "name": "stdout",
     "output_type": "stream",
     "text": [
      ".\n",
      "├─■──Parsing Python code using abstract syntax trees (AST) and extracting methods____ ── Topic: 5\n",
      "└─Repository graph generation and topic modeling using embeddings, adjacency lists, and hierarchical t\n",
      "     ├─Functions for formatting system prompts and decomposing repositories in ChatGPT-based conversational\n",
      "     │    ├─■──Understanding database migrations in offline and online mode using SQLAlchemy and Alembic____ ── Topic: 4\n",
      "     │    └─Functions and System Prompts for Code Repositories and ChatGPT____\n",
      "     │         ├─Documenting GitHub Repositories with ChatGPT____\n",
      "     │         │    ├─■──Parsing and Decomposing Contents of a Git Repository in Python____ ── Topic: 1\n",
      "     │         │    └─■──Codebase Summary and Conversation Template Generation with System Prompts for ChatGPT____ ── Topic: 2\n",
      "     │         └─■──Using OpenAI GPT-3.5-Turbo model for chat response generation in Python____ ── Topic: 6\n",
      "     └─Document pruning and Gaussian kernel computation using PyTorch in a topic model.____\n",
      "          ├─Document pruning and adjacency matrix computation in GitModel____\n",
      "          │    ├─■──Document pruning and Gaussian kernel computation for topic modeling using PyTorch embeddings____ ── Topic: 0\n",
      "          │    └─■──Computing k-hop adjacency matrix and aggregated features using message passing for a graph____ ── Topic: 3\n",
      "          └─■──Probability density estimation of distance scores using Gaussian kernel density estimation____ ── Topic: 7\n",
      "\n"
     ]
    }
   ],
   "source": [
    "print(tree)"
   ]
  },
  {
   "cell_type": "code",
   "execution_count": null,
   "metadata": {
    "colab": {
     "base_uri": "https://localhost:8080/"
    },
    "id": "0TD4GNbQXPtO",
    "outputId": "9d953766-57a8-4894-830b-25d3f9900af6"
   },
   "outputs": [
    {
     "name": "stdout",
     "output_type": "stream",
     "text": [
      ".\n",
      "├─Enum-like classes to define problem classes and data types in a neural network____\n",
      "│    ├─■──Understanding `Stage` and `OutputClass` classes in Python for problem stages and output class differ ── Topic: 13\n",
      "│    └─■──Enum-like classes in Python: Location and Type.____ ── Topic: 12\n",
      "└─NetChunked message passing for time-chunked data____\n",
      "     ├─Documented code for a model with selectable message passing algorithm using time-chunked data____\n",
      "     │    ├─Understanding the CLRSDataset in TensorFlow Datasets (TFDS)____\n",
      "     │    │    ├─■──CLRS dataset downloading and GCP URL retrieval____ ── Topic: 21\n",
      "     │    │    └─\"TFDS CLRSDataset with chunked data and preprocessing\"____\n",
      "     │    │         ├─■──TensorFlow Datasets (TFDS) CLRS30_v Dataset and Chunking____ ── Topic: 4\n",
      "     │    │         └─■──Understanding _build_default_builder_configs function for building default configurations for the CL ── Topic: 10\n",
      "     │    └─Python functions and classes for machine learning models and data processing.____\n",
      "     │         ├─Message Passing Algorithm for Time-Chunked Sequential Data Training.____\n",
      "     │         │    ├─Python coding for neural networks and message passing graph algorithms____\n",
      "     │         │    │    ├─Function to evaluate hint predictions using input data and output scores____\n",
      "     │         │    │    │    ├─■──Mask evaluation with F1 score and class imbalance protection.____ ── Topic: 16\n",
      "     │         │    │    │    └─■──Python function for evaluating hint predictions using input data and returning dictionary of evaluat ── Topic: 8\n",
      "     │         │    │    └─Postprocessing, Model Implementation, and Hint Loss Calculation for Machine Learning Models____\n",
      "     │         │    │         ├─Machine learning models and loss functions____\n",
      "     │         │    │         │    ├─■──Hint Trajectory Batching____ ── Topic: 15\n",
      "     │         │    │         │    └─Graph-based model implementation with time-chunked data processing____\n",
      "     │         │    │         │         ├─Neural networks for time-chunked data with hint loss computation.____\n",
      "     │         │    │         │         │    ├─■──Understanding the _copy_hint function and assertions in a data preprocessing algorithm.____ ── Topic: 11\n",
      "     │         │    │         │         │    └─Neural net models with message passing algorithm and chunked data processing____\n",
      "     │         │    │         │         │         ├─■──Sinkhorn operator in log space for permutation pointer postprocessing.____ ── Topic: 1\n",
      "     │         │    │         │         │         └─■──Neural network models for graph-based data processing.____ ── Topic: 0\n",
      "     │         │    │         │         └─■──Understanding and Implementing Hash Table Probing with Strings Pair, Strings Pi, and Strings Positio ── Topic: 3\n",
      "     │         │    │         └─Postprocessing with Sinkhorn Operator____\n",
      "     │         │    │              ├─Postprocessing with Sinkhorn Operator____\n",
      "     │         │    │              │    ├─■──Understanding the _is_not_done_broadcast function for tensor manipulation in JAX.____ ── Topic: 5\n",
      "     │         │    │              │    └─■──Postprocessing with Sinkhorn operator____ ── Topic: 6\n",
      "     │         │    │              └─■──Encoders initialization and construction with XAVIER_ON_SCALARS method.____ ── Topic: 18\n",
      "     │         │    └─Gradient filtering in JAX with pmap and optimizer updates____\n",
      "     │         │         ├─■──JAX pmap computation and reshaping of Pytrees for multiple devices.____ ── Topic: 2\n",
      "     │         │         └─■──Gradient Filtering and Optimization Updates in Neural Networks____ ── Topic: 14\n",
      "     │         └─Processor Factory Implementation____\n",
      "     │              ├─Function for creating a processor factory with various options (e.g. attention, GAT, embeddings) inc\n",
      "     │              │    ├─■──Functions for creating processing factories with various configurations for machine learning models. ── Topic: 7\n",
      "     │              │    └─■──Graph Sampling and Shortest Paths for DAGs____ ── Topic: 17\n",
      "     │              └─■──Strongly Connected Components using Kosaraju's Algorithm in Python____ ── Topic: 20\n",
      "     └─Parsing DataPoint objects from ProbesDict by stage____\n",
      "          ├─■──Document analysis of a Python function for splitting contents of a dictionary into lists of DataPoin ── Topic: 9\n",
      "          └─■──Understanding the push and finalize functions in probing.py for managing ProbesDict.____ ── Topic: 19\n",
      "\n"
     ]
    }
   ],
   "source": [
    "print(tree)"
   ]
  },
  {
   "cell_type": "code",
   "execution_count": null,
   "metadata": {
    "colab": {
     "base_uri": "https://localhost:8080/"
    },
    "id": "uetZcAC5-Ivr",
    "outputId": "ded74c8b-577c-435d-ec73-176ba167a641"
   },
   "outputs": [
    {
     "name": "stdout",
     "output_type": "stream",
     "text": [
      ".\n",
      "├─Purpose and Attributes of the `Net` Class in Graph Neural Networks____\n",
      "│    ├─Graph Attention Networks and DAG Shortest Paths in JAX.____\n",
      "│    │    ├─Graph Attention Networks (GAT and GATv2) code implementation____\n",
      "│    │    │    ├─Code for DAG shortest path and depth-first search algorithms____\n",
      "│    │    │    │    ├─■──String Matching and Maximum Subarray____ ── Topic: 10\n",
      "│    │    │    │    └─Depth-First Search and DAG Shortest Path Algorithms implemented in Python____\n",
      "│    │    │    │         ├─■──Description of string probe functions in probing.py file for Hash Table probing.____ ── Topic: 1\n",
      "│    │    │    │         └─Graph Algorithms - DFS and DAG Shortest Paths____\n",
      "│    │    │    │              ├─■──Graph algorithms (DFS and DAG shortest path) in Python____ ── Topic: 0\n",
      "│    │    │    │              └─■──Functions for decoding diff and graph features in PyTorch graph neural networks.____ ── Topic: 6\n",
      "│    │    │    └─■──Graph Attention Networks (GAT and GATv2)____ ── Topic: 20\n",
      "│    │    └─■──Message Passing with _MessagePassingScanState, _MessagePassingOutputChunked and MessagePassingStateC ── Topic: 17\n",
      "│    └─Implementing a Baseline Model with Selectable Message Passing Algorithm and its Dataset Sampler.____\n",
      "│         ├─Handling of untrained parameters in optimization updates____\n",
      "│         │    ├─■──Updating parameters with filtered gradients from multiple algorithms.____ ── Topic: 8\n",
      "│         │    └─■──Processing trajectory hints with variable-length time dimension using batching.____ ── Topic: 9\n",
      "│         └─Processing time-chunked data with batched samplers and message passing nets.____\n",
      "│              ├─Model processing of time-chunked data with dataset sampling and batch processing____\n",
      "│              │    ├─■──CLRS dataset download and URL retrieval on Google Cloud Platform____ ── Topic: 13\n",
      "│              │    └─Chunked data and dataset sampling with JAX.____\n",
      "│              │         ├─■──JAX functions for reshaping and restacking data for pmap computation____ ── Topic: 4\n",
      "│              │         └─Data chunking with batched sampling and message passing in neural networks.____\n",
      "│              │              ├─Processing time-chunked data with batch samplers and a NetChunked class____\n",
      "│              │              │    ├─■──Time-chunked data processing using BaselineModelChunked and NetChunked in TensorFlow.____ ── Topic: 2\n",
      "│              │              │    └─■──Creating samplers for training data.____ ── Topic: 11\n",
      "│              │              └─■──Documented code for sampling algorithms using randomized position generation.____ ── Topic: 3\n",
      "│              └─■──Point Sampling and Convex Hull Computation____ ── Topic: 18\n",
      "└─Loss functions for training with time-chunked data____\n",
      "     ├─Loss calculation for time-chunked and full-sample training.____\n",
      "     │    ├─Code functions for evaluating predictions using permutations and masking____\n",
      "     │    │    ├─■──Functions for Evaluating Predictions in Probing Tasks.____ ── Topic: 7\n",
      "     │    │    └─■──permutation pointer manipulation and reduction in predictions____ ── Topic: 16\n",
      "     │    └─Loss calculation and decoder output postprocessing in neural networks.____\n",
      "     │         ├─■──Postprocessing with Sinkhorn operator in log space____ ── Topic: 15\n",
      "     │         └─■──Loss calculation methods for training with time and full samples____ ── Topic: 19\n",
      "     └─Functions for expanding and broadcasting JAX arrays____\n",
      "          ├─Description and input/output parameters of _expand_to and _is_not_done_broadcast functions____\n",
      "          │    ├─■──Array expansion and broadcasting techniques____ ── Topic: 21\n",
      "          │    └─■──Purpose and Functionality of _is_not_done_broadcast Function____ ── Topic: 14\n",
      "          └─Sampler classes and associated data generation types____\n",
      "               ├─■──Understanding Parameters and Expected Input/Output of Various Functions (including mst_prim, floyd_w ── Topic: 5\n",
      "               └─■──Sampling classes and their data generation purpose____ ── Topic: 12\n",
      "\n"
     ]
    }
   ],
   "source": [
    "print(tree)"
   ]
  },
  {
   "cell_type": "code",
   "execution_count": null,
   "metadata": {
    "colab": {
     "base_uri": "https://localhost:8080/"
    },
    "id": "Q3ZgjzrGvEXK",
    "outputId": "2849b710-fdaf-4c60-ffac-778280d4eeca"
   },
   "outputs": [
    {
     "data": {
      "text/plain": [
       "0"
      ]
     },
     "execution_count": 259,
     "metadata": {},
     "output_type": "execute_result"
    }
   ],
   "source": [
    "False + False"
   ]
  },
  {
   "cell_type": "code",
   "execution_count": null,
   "metadata": {
    "colab": {
     "base_uri": "https://localhost:8080/"
    },
    "id": "Laq_oDUIy_3H",
    "outputId": "793dbb8c-62a0-4327-cb79-801400f705b9"
   },
   "outputs": [
    {
     "data": {
      "text/plain": [
       "2"
      ]
     },
     "execution_count": 260,
     "metadata": {},
     "output_type": "execute_result"
    }
   ],
   "source": [
    "True + True"
   ]
  },
  {
   "cell_type": "code",
   "execution_count": null,
   "metadata": {
    "id": "kzMwILhGzECX"
   },
   "outputs": [],
   "source": [
    "print(tree)"
   ]
  },
  {
   "cell_type": "markdown",
   "metadata": {
    "id": "bc3oIrto9zmD"
   },
   "source": [
    "A_k"
   ]
  },
  {
   "cell_type": "code",
   "execution_count": null,
   "metadata": {
    "colab": {
     "base_uri": "https://localhost:8080/",
     "height": 166
    },
    "id": "PtUZYLdbWa_t",
    "outputId": "e449bf73-0a84-4d65-9a12-c34d638ca1f3"
   },
   "outputs": [
    {
     "ename": "TypeError",
     "evalue": "ignored",
     "output_type": "error",
     "traceback": [
      "\u001b[0;31m---------------------------------------------------------------------------\u001b[0m",
      "\u001b[0;31mTypeError\u001b[0m                                 Traceback (most recent call last)",
      "Cell \u001b[0;32mIn[278], line 1\u001b[0m\n\u001b[0;32m----> 1\u001b[0m \u001b[38;5;28;43msum\u001b[39;49m\u001b[43m(\u001b[49m\u001b[38;5;28;43;01mTrue\u001b[39;49;00m\u001b[43m,\u001b[49m\u001b[43m \u001b[49m\u001b[38;5;28;43;01mTrue\u001b[39;49;00m\u001b[43m)\u001b[49m\n",
      "\u001b[0;31mTypeError\u001b[0m: 'bool' object is not iterable"
     ]
    }
   ],
   "source": [
    "sum(True, True)"
   ]
  },
  {
   "cell_type": "code",
   "execution_count": null,
   "metadata": {
    "colab": {
     "base_uri": "https://localhost:8080/"
    },
    "id": "P11pV2jE9ufS",
    "outputId": "50722500-0fd0-4165-9e41-2563b029a278"
   },
   "outputs": [
    {
     "name": "stdout",
     "output_type": "stream",
     "text": [
      ".\n",
      "├─JAX Pytree Reshaping and Loss Calculation for Time-Chunked Training____\n",
      "│    ├─JAX pmap functions and reshaping pytrees for parallel computation____\n",
      "│    │    ├─JAX pmap functions for reshaping and restacking arrays and pytrees____\n",
      "│    │    │    ├─■──JAX pmap computation functions (_maybe_pmap_data, _restack_from_pmap, _maybe_restack_from_pmap, and  ── Topic: 5\n",
      "│    │    │    └─■──Functions and algorithms for text matching and reshaping pytrees for parallel processing.____ ── Topic: 6\n",
      "│    │    └─■──Broadcasting boolean tensor to match shape of input tensor____ ── Topic: 11\n",
      "│    └─Functions for Output Loss Calculation in Neural Networks____\n",
      "│         ├─■──Loss calculation functions with scalar and time-chunked training data.____ ── Topic: 9\n",
      "│         └─■──Evaluation of output predictions using `evaluate` function in a codebase____ ── Topic: 7\n",
      "└─Understanding the Net class and its attributes for message passing in graph neural networks____\n",
      "     ├─Graph Neural Network Architecture and Model Implementation____\n",
      "     │    ├─■──Downloading CLRS dataset from GCP using Python____ ── Topic: 10\n",
      "     │    └─Graph Attention Networks and Message Passing Models for Graph-based Data Processing____\n",
      "     │         ├─Graph Attention Networks and Model Implementation____\n",
      "     │         │    ├─■──Sampler class for generating random inputs with a specified length and feedback mechanism.____ ── Topic: 3\n",
      "     │         │    └─Neural network models for graph processing____\n",
      "     │         │         ├─Graph Neural Networks and Baseline Models with Linear Decoders and DP Preds____\n",
      "     │         │         │    ├─■──Postprocessing decoder output and implementing a model with selectable message passing algorithm____ ── Topic: 0\n",
      "     │         │         │    └─■──Graph Attention Networks with Multiple Heads and Residual Connections____ ── Topic: 1\n",
      "     │         │         └─■──Purpose and differences between `_MessagePassingScanState` and `NetChunked` classes in data processi ── Topic: 8\n",
      "     │         └─■──Understanding the split_stages and finalize functions in probing.py for data point collection and di ── Topic: 12\n",
      "     └─Array Manipulation and Graph Algorithms____\n",
      "          ├─■──DAG shortest path and depth-first search functions____ ── Topic: 2\n",
      "          └─■──Algorithms - Graham scan and activity selection____ ── Topic: 4\n",
      "\n"
     ]
    }
   ],
   "source": [
    "print(tree)"
   ]
  },
  {
   "cell_type": "code",
   "execution_count": null,
   "metadata": {
    "colab": {
     "base_uri": "https://localhost:8080/"
    },
    "id": "vOgkW4NM2eLw",
    "outputId": "9ce12a4e-3310-4dd8-c5e7-b6e60cf7a6b0"
   },
   "outputs": [
    {
     "name": "stdout",
     "output_type": "stream",
     "text": [
      ".\n",
      "├─DFS and DAG Shortest Paths Algorithm Implementation with Probing____\n",
      "│    ├─■──Bipartite matching-based flow networks____ ── Topic: 34\n",
      "│    └─Search and Shortest Path Algorithms____\n",
      "│         ├─DAG shortest path algorithm with probing and initialization____\n",
      "│         │    ├─■──Strongly Connected Components Algorithm with Kosaraju's Implementation____ ── Topic: 37\n",
      "│         │    └─Graph Sampling and DAG Shortest Path Algorithm____\n",
      "│         │         ├─■──Bipartite matching using Edmonds-Karp algorithm____ ── Topic: 18\n",
      "│         │         └─■──Random graph generation using Bellman-Ford algorithm in Python____ ── Topic: 0\n",
      "│         └─Graham scan convex hull algorithm implementation in Python____\n",
      "│              ├─■──Maximum subarray algorithm implementation____ ── Topic: 6\n",
      "│              └─■──Graham scan convex hull algorithm implementation____ ── Topic: 12\n",
      "└─Postprocessing Decoder Output for Chunked Data Processing Net____\n",
      "     ├─Postprocessing Decoder Output with Chunked Data in JAX____\n",
      "     │    ├─Functions and Files in Probing.py Explained____\n",
      "     │    │    ├─Functions and techniques for data splitting and replication in probing and pmap computation.____\n",
      "     │    │    │    ├─Understanding the strings_pair_cat function and split_stages function in probing.py file____\n",
      "     │    │    │    │    ├─TFDS CLRSDataset Command-Line Tool for Sampling Datasets____\n",
      "     │    │    │    │    │    ├─■──CLRS30 dataset and related functions explanation____ ── Topic: 5\n",
      "     │    │    │    │    │    └─■──TFDS CLRSDataset Builder Implementation____ ── Topic: 16\n",
      "     │    │    │    │    └─Functions and Probing in Python Code____\n",
      "     │    │    │    │         ├─Purpose of the `split_stages` function in `probing.py` and related functions for evaluating `ProbesD\n",
      "     │    │    │    │         │    ├─Functions for evaluating hint and output predictions using permutation objects and dictionaries.____\n",
      "     │    │    │    │         │    │    ├─Processing randomized `pos` input in a sampler with pointers and permutations.____\n",
      "     │    │    │    │         │    │    │    ├─■──Process randomization of `pos` input in algorithms including string algorithms____ ── Topic: 29\n",
      "     │    │    │    │         │    │    │    └─■──A function to replace should-be permutations with proper permutation pointers using a sample iterato ── Topic: 19\n",
      "     │    │    │    │         │    │    └─Function for Evaluating Permutation Predictions using Hint Data____\n",
      "     │    │    │    │         │    │         ├─■──Function to Reduce Permutations in a Dictionary of Result Objects____ ── Topic: 11\n",
      "     │    │    │    │         │    │         └─■──Function to evaluate hint predictions with tuple and list inputs____ ── Topic: 17\n",
      "     │    │    │    │         │    └─Understanding probing functions in Hash Table implementation____\n",
      "     │    │    │    │         │         ├─Hash Table Probing Functions in probing.py File____\n",
      "     │    │    │    │         │         │    ├─■──Splitting ProbesDict into DataPoints by stage in Python____ ── Topic: 14\n",
      "     │    │    │    │         │         │    └─■──Understanding Hash Table Probing Functions (strings_pi, strings_pos, strings_pair_cat) in Python's ` ── Topic: 1\n",
      "     │    │    │    │         │         └─■──Functions for Checking Input Dimensions in Machine Learning Models____ ── Topic: 15\n",
      "     │    │    │    │         └─JAX pmap reshaping and computation functions (_pmap_reshape, _maybe_pmap_reshape, _maybe_pmap_data)_\n",
      "     │    │    │    │              ├─JAX pmap computation and pytree reshaping____\n",
      "     │    │    │    │              │    ├─■──Purpose and attributes of the Stage and OutputClass classes____ ── Topic: 22\n",
      "     │    │    │    │              │    └─■──JAX tree reshaping for pmap computation with _pmap_reshape and _maybe_pmap_reshape functions____ ── Topic: 3\n",
      "     │    │    │    │              └─Numpy array copying functions with assertions____\n",
      "     │    │    │    │                   ├─■──Functions for copying data between numpy arrays in Python____ ── Topic: 21\n",
      "     │    │    │    │                   └─■──Function Purpose and Parameters Analysis in Codebase____ ── Topic: 9\n",
      "     │    │    │    └─Trajectory Batching with Variable-Length Time Dimension____\n",
      "     │    │    │         ├─■──Trajectory Batching and Concatenation____ ── Topic: 35\n",
      "     │    │    │         └─■──Batch processing of variable-length hint trajectories.____ ── Topic: 31\n",
      "     │    │    └─Understanding the `_is_not_done_broadcast` function and its input/output parameters.____\n",
      "     │    │         ├─■──Understanding the _is_not_done_broadcast function in JAX array for sequence completion.____ ── Topic: 8\n",
      "     │    │         └─■──Array broadcasting and expansion with _expand_and_broadcast_to and _expand_to functions____ ── Topic: 27\n",
      "     │    └─Postprocessing Decoder Output with Sinkhorn Algorithm and Hard Categorization____\n",
      "     │         ├─Node Feature Decoding with Encoders and Decoders____\n",
      "     │         │    ├─■──Position Encoding Function for Natural Language Processing____ ── Topic: 23\n",
      "     │         │    └─Node feature decoding using decoders and edge features____\n",
      "     │         │         ├─■──Creating Encoders with Xavier Initialization and Truncated Normal Distribution for Encoding Categori ── Topic: 33\n",
      "     │         │         └─Node feature decoding with decoders and edge features____\n",
      "     │         │              ├─■──Node feature decoding and encoding with decoders and edge features____ ── Topic: 2\n",
      "     │         │              └─■──Graph diff decoders____ ── Topic: 32\n",
      "     │         └─Postprocessing of decoder output in graph neural networks.____\n",
      "     │              ├─Decoder Output Postprocessing with Sinkhorn Algorithm and Cross-Entropy Loss____\n",
      "     │              │    ├─Message Passing Net with Time-Chunked Data Processing____\n",
      "     │              │    │    ├─■──Python Class for Message Passing Model with Selectable Algorithm____ ── Topic: 26\n",
      "     │              │    │    └─■──NetChunked message passing operation with LSTM states for time-chunked data____ ── Topic: 7\n",
      "     │              │    └─Loss calculation for time-chunked training with scalar truth data.____\n",
      "     │              │         ├─Loss calculation function for time-chunked training with scalar truth data.____\n",
      "     │              │         │    ├─■──Loss calculation for time-chunked training data____ ── Topic: 4\n",
      "     │              │         │    └─■──Logarithmic Sinkhorn Operator for Permutation Pointer Logits____ ── Topic: 10\n",
      "     │              │         └─■──Decoder postprocessing with Sinkhorn operator____ ── Topic: 28\n",
      "     │              └─Gradient Filtering for Optimizer Updates____\n",
      "     │                   ├─■──Filtering processor parameters in Haiku models____ ── Topic: 30\n",
      "     │                   └─■──Filtering null gradients for untrained parameters during optimization.____ ── Topic: 24\n",
      "     └─PGN with Jax implementation and NeurIPS 2020 paper____\n",
      "          ├─Message-Passing Neural Network (MPNN) for Graph Convolutional Networks (GCNs)____\n",
      "          │    ├─■──\"Applying Triplet Message Passing with HK Transforms in MPNN for Graph Neural Networks\"____ ── Topic: 20\n",
      "          │    └─■──Implementation of Deep Sets (Zaheer et al., NeurIPS 2017) using adjacency matrices and memory networ ── Topic: 13\n",
      "          └─GATv2 Graph Attention Network with adjustable sizes of multi-head attention and residual connections\n",
      "               ├─■──Graph Attention Network v2 architecture with adjustable head number and output size.____ ── Topic: 36\n",
      "               └─■──Processor factory with various models and configurations____ ── Topic: 25\n",
      "\n"
     ]
    }
   ],
   "source": [
    "print(tree)"
   ]
  },
  {
   "cell_type": "code",
   "execution_count": null,
   "metadata": {
    "id": "eyKdQbVknrC_"
   },
   "outputs": [],
   "source": [
    "with open(f\"/content/tree_clrs.txt\", \"w\", encoding=\"utf-8\") as f:\n",
    "    f.write(tree)"
   ]
  },
  {
   "cell_type": "markdown",
   "metadata": {
    "id": "Et1ePMto91SH"
   },
   "source": [
    "**LA** message passing"
   ]
  },
  {
   "cell_type": "code",
   "execution_count": null,
   "metadata": {
    "colab": {
     "base_uri": "https://localhost:8080/"
    },
    "id": "EKTfoy9W8xYo",
    "outputId": "6e72e942-35a3-485a-9a70-5ef894b469ae"
   },
   "outputs": [
    {
     "name": "stdout",
     "output_type": "stream",
     "text": [
      ".\n",
      "├─Code Snippet with No TODO Tasks and Plotting Libraries____\n",
      "│    ├─code snippet analysis for TODO tasks____\n",
      "│    │    ├─■──No TODO tasks in provided code snippet____ ── Topic: 12\n",
      "│    │    └─■──Analysis of Runtime and Data Representations Using Axis and Seaborn Plots in Python Code____ ── Topic: 4\n",
      "│    └─■──Python script for generating a line plot of program runtime vs. number of nodes using Seaborn and Ma ── Topic: 9\n",
      "└─Python function for updating nodes and edges in a graph.____\n",
      "     ├─Python implementation of rule inference algorithm with Numba and fact propagation.____\n",
      "     │    ├─Updating Nodes in a Graph with Rule Traces and Atom Traces.____\n",
      "     │    │    ├─■──Function for Updating Node State in a Rule Trace Graph.____ ── Topic: 8\n",
      "     │    │    └─■──Numba-based interpretation of labeled graphs with empty lists and inconsistent labels____ ── Topic: 6\n",
      "     │    └─Python API and Fact Value Types Implementation____\n",
      "     │         ├─Python API usage for boxing and unboxing values in different types and creating objects from structs\n",
      "     │         │    ├─■──Python function for creating objects with type and dictionary implementation____ ── Topic: 14\n",
      "     │         │    └─Numba code for boxing and unboxing of Rule and World objects____\n",
      "     │         │         ├─PyAPI usage for type conversion and object attribute access____\n",
      "     │         │         │    ├─■──Implementing Edge and Node Addition in a Closed-World Graph Structure____ ── Topic: 7\n",
      "     │         │         │    └─Python API for extracting and handling objects in a rule-based system.____\n",
      "     │         │         │         ├─■──Implementation of unboxing function using object_getattr_string in Python with pyapi and context obj ── Topic: 0\n",
      "     │         │         │         └─■──Parsing YAML files for graph rules and setting rule targets in typed lists.____ ── Topic: 3\n",
      "     │         │         └─■──Memory profiling with CSV output using argparse and pandas____ ── Topic: 1\n",
      "     │         └─Object-oriented programming with Python - Working with Classes and Class Methods.____\n",
      "     │              ├─■──Code for Checking Consistency of Interpretations with Respect to Intervals____ ── Topic: 11\n",
      "     │              └─Python class for handling time-labeled logical facts.____\n",
      "     │                   ├─■──Nested functions for accessing attributes of an input object____ ── Topic: 2\n",
      "     │                   └─■──Fact Class and Methods for Time Interval and Component-based Confidence in a World with Static and D ── Topic: 5\n",
      "     └─Weighted Average with Bounds____\n",
      "          ├─■──Calculation of weighted average and maximum values for upper and lower bound annotations____ ── Topic: 13\n",
      "          └─■──Weighted Sum Function Implementation____ ── Topic: 10\n",
      "\n"
     ]
    }
   ],
   "source": [
    "print(tree)"
   ]
  },
  {
   "cell_type": "markdown",
   "metadata": {
    "id": "QmTNQVqg92vF"
   },
   "source": [
    "LA_k message passing"
   ]
  },
  {
   "cell_type": "code",
   "execution_count": null,
   "metadata": {
    "colab": {
     "base_uri": "https://localhost:8080/"
    },
    "id": "st-zad5bfLkC",
    "outputId": "90c19c90-867d-483b-b56e-79e928ff780e"
   },
   "outputs": [
    {
     "name": "stdout",
     "output_type": "stream",
     "text": [
      ".\n",
      "├─Updating Interpretations Graph with Nodes and Edges____\n",
      "│    ├─Analysis of Python code implementing a graph data structure and functions to add nodes and edges, us\n",
      "│    │    ├─■──Code Refactoring and Commenting, Handling None Values in Python Code____ ── Topic: 10\n",
      "│    │    └─Code analysis and review of a function for adding edges and nodes to a graph, including checking for\n",
      "│    │         ├─■──Positive aspects of a codebase with clear and descriptive function names and variable names.____ ── Topic: 4\n",
      "│    │         └─■──Methods for adding edges to a graph with considerations for existing nodes and labels.____ ── Topic: 11\n",
      "│    └─Updating nodes and edges in a graph with rule trace and atom trace, using Numba for optimization____\n",
      "│         ├─Python functions for updating rule traces with graph attributes____\n",
      "│         │    ├─■──Updating nodes with rules and traces in a converging system.____ ── Topic: 15\n",
      "│         │    └─■──Interpretation of Graph Labels Using Numba in Python____ ── Topic: 5\n",
      "│         └─analysis of profiling data for program optimization____\n",
      "│              ├─■──Parsing YAML to create a list of rules____ ── Topic: 9\n",
      "│              └─■──Parsing and Profiling Data from CSV files in Python____ ── Topic: 1\n",
      "└─Python Object Getter Implementation for Fact Objects____\n",
      "     ├─Python code structure and implementation in pyreason's numba_wrapper lib____\n",
      "     │    ├─Functions and objects in pyreason's numba_wrapper module that return nested functions and implement \n",
      "     │    │    ├─■──Function for getting time lower and upper bounds from a fact object____ ── Topic: 14\n",
      "     │    │    └─Higher-order functions in rule_type.py for accessing fields of a rule object in pyreason/pyreason/sc\n",
      "     │    │         ├─Python classes and object-oriented programming concepts with \"Fact\" class examples.____\n",
      "     │    │         │    ├─■──Nested function type checking with isinstance in Python____ ── Topic: 8\n",
      "     │    │         │    └─■──Class Fact and its attributes and methods.____ ── Topic: 7\n",
      "     │    │         └─Numba implementation functions for label and world types in PyReason____\n",
      "     │    │              ├─Higher-order functions for getting attributes of rules in PyReason's numba_types module____\n",
      "     │    │              │    ├─■──Code structure and naming conventions in pyreason's numba_wrapper/numpy_types directory____ ── Topic: 6\n",
      "     │    │              │    └─■──Implementation details of the `get_target_criteria` function and `unbox_rule` in rule_type.py____ ── Topic: 0\n",
      "     │    │              └─■──Implementation of interval methods in pyreason using numba_wrapper____ ── Topic: 2\n",
      "     │    └─Compliments on codebase functions for calculating minimum, maximum, average, and average lower using\n",
      "     │         ├─■──Implementing a reset function to update the bounds of an interval object in Python____ ── Topic: 18\n",
      "     │         └─■──Compliments on Function Names and Docstrings for Array Calculation Functions____ ── Topic: 13\n",
      "     └─Working with pyapi and objects in Python code____\n",
      "          ├─Understanding a Python code snippet for unboxing facts with structmodels____\n",
      "          │    ├─■──Object Unboxing and Attribute Retrieval in Python with PyAPI____ ── Topic: 17\n",
      "          │    └─Numba code for creating and boxing a struct model instance____\n",
      "          │         ├─■──Code snippet for creating a struct proxy and boxing its components in Numba.____ ── Topic: 3\n",
      "          │         └─■──Python class RuleModel with labeled attributes and types____ ── Topic: 12\n",
      "          └─■──Functions for creating and boxing objects in a Python-C++ interface____ ── Topic: 16\n",
      "\n"
     ]
    }
   ],
   "source": [
    "print(tree)"
   ]
  },
  {
   "cell_type": "code",
   "execution_count": null,
   "metadata": {
    "id": "qVNKygAGguKM"
   },
   "outputs": [],
   "source": []
  }
 ],
 "metadata": {
  "accelerator": "GPU",
  "colab": {
   "machine_shape": "hm",
   "provenance": []
  },
  "gpuClass": "standard",
  "kernelspec": {
   "display_name": "Python 3",
   "name": "python3"
  },
  "language_info": {
   "codemirror_mode": {
    "name": "ipython",
    "version": 3
   },
   "file_extension": ".py",
   "mimetype": "text/x-python",
   "name": "python",
   "nbconvert_exporter": "python",
   "pygments_lexer": "ipython3",
   "version": "3.10.0"
  },
  "widgets": {
   "application/vnd.jupyter.widget-state+json": {
    "0393827cd9d549569c9b99f88550a5cd": {
     "model_module": "@jupyter-widgets/base",
     "model_module_version": "1.2.0",
     "model_name": "LayoutModel",
     "state": {
      "_model_module": "@jupyter-widgets/base",
      "_model_module_version": "1.2.0",
      "_model_name": "LayoutModel",
      "_view_count": null,
      "_view_module": "@jupyter-widgets/base",
      "_view_module_version": "1.2.0",
      "_view_name": "LayoutView",
      "align_content": null,
      "align_items": null,
      "align_self": null,
      "border": null,
      "bottom": null,
      "display": null,
      "flex": null,
      "flex_flow": null,
      "grid_area": null,
      "grid_auto_columns": null,
      "grid_auto_flow": null,
      "grid_auto_rows": null,
      "grid_column": null,
      "grid_gap": null,
      "grid_row": null,
      "grid_template_areas": null,
      "grid_template_columns": null,
      "grid_template_rows": null,
      "height": null,
      "justify_content": null,
      "justify_items": null,
      "left": null,
      "margin": null,
      "max_height": null,
      "max_width": null,
      "min_height": null,
      "min_width": null,
      "object_fit": null,
      "object_position": null,
      "order": null,
      "overflow": null,
      "overflow_x": null,
      "overflow_y": null,
      "padding": null,
      "right": null,
      "top": null,
      "visibility": null,
      "width": null
     }
    },
    "615036e7ae0143ba88a8d67252580cc8": {
     "model_module": "@jupyter-widgets/base",
     "model_module_version": "1.2.0",
     "model_name": "LayoutModel",
     "state": {
      "_model_module": "@jupyter-widgets/base",
      "_model_module_version": "1.2.0",
      "_model_name": "LayoutModel",
      "_view_count": null,
      "_view_module": "@jupyter-widgets/base",
      "_view_module_version": "1.2.0",
      "_view_name": "LayoutView",
      "align_content": null,
      "align_items": null,
      "align_self": null,
      "border": null,
      "bottom": null,
      "display": null,
      "flex": null,
      "flex_flow": null,
      "grid_area": null,
      "grid_auto_columns": null,
      "grid_auto_flow": null,
      "grid_auto_rows": null,
      "grid_column": null,
      "grid_gap": null,
      "grid_row": null,
      "grid_template_areas": null,
      "grid_template_columns": null,
      "grid_template_rows": null,
      "height": null,
      "justify_content": null,
      "justify_items": null,
      "left": null,
      "margin": null,
      "max_height": null,
      "max_width": null,
      "min_height": null,
      "min_width": null,
      "object_fit": null,
      "object_position": null,
      "order": null,
      "overflow": null,
      "overflow_x": null,
      "overflow_y": null,
      "padding": null,
      "right": null,
      "top": null,
      "visibility": null,
      "width": null
     }
    },
    "6ac13eb4d328477a9683cf4535f668b8": {
     "model_module": "@jupyter-widgets/controls",
     "model_module_version": "1.5.0",
     "model_name": "HTMLModel",
     "state": {
      "_dom_classes": [],
      "_model_module": "@jupyter-widgets/controls",
      "_model_module_version": "1.5.0",
      "_model_name": "HTMLModel",
      "_view_count": null,
      "_view_module": "@jupyter-widgets/controls",
      "_view_module_version": "1.5.0",
      "_view_name": "HTMLView",
      "description": "",
      "description_tooltip": null,
      "layout": "IPY_MODEL_de28c2ef420f4faba0f2e84af0de9ab4",
      "placeholder": "​",
      "style": "IPY_MODEL_6bdc2f63e8874b2ca1e0be76bcb02450",
      "value": " 2/2 [00:00&lt;00:00,  4.44it/s]"
     }
    },
    "6bdc2f63e8874b2ca1e0be76bcb02450": {
     "model_module": "@jupyter-widgets/controls",
     "model_module_version": "1.5.0",
     "model_name": "DescriptionStyleModel",
     "state": {
      "_model_module": "@jupyter-widgets/controls",
      "_model_module_version": "1.5.0",
      "_model_name": "DescriptionStyleModel",
      "_view_count": null,
      "_view_module": "@jupyter-widgets/base",
      "_view_module_version": "1.2.0",
      "_view_name": "StyleView",
      "description_width": ""
     }
    },
    "9281e0611a9b4bbd928d2f52e5dd8baf": {
     "model_module": "@jupyter-widgets/controls",
     "model_module_version": "1.5.0",
     "model_name": "HTMLModel",
     "state": {
      "_dom_classes": [],
      "_model_module": "@jupyter-widgets/controls",
      "_model_module_version": "1.5.0",
      "_model_name": "HTMLModel",
      "_view_count": null,
      "_view_module": "@jupyter-widgets/controls",
      "_view_module_version": "1.5.0",
      "_view_name": "HTMLView",
      "description": "",
      "description_tooltip": null,
      "layout": "IPY_MODEL_0393827cd9d549569c9b99f88550a5cd",
      "placeholder": "​",
      "style": "IPY_MODEL_f66e952cb32844e39ee6303dccccc7a5",
      "value": "Batches: 100%"
     }
    },
    "bc749f5834604d498de8f30368aaf08a": {
     "model_module": "@jupyter-widgets/controls",
     "model_module_version": "1.5.0",
     "model_name": "ProgressStyleModel",
     "state": {
      "_model_module": "@jupyter-widgets/controls",
      "_model_module_version": "1.5.0",
      "_model_name": "ProgressStyleModel",
      "_view_count": null,
      "_view_module": "@jupyter-widgets/base",
      "_view_module_version": "1.2.0",
      "_view_name": "StyleView",
      "bar_color": null,
      "description_width": ""
     }
    },
    "bd904532880647a6bac9a30228705e5c": {
     "model_module": "@jupyter-widgets/controls",
     "model_module_version": "1.5.0",
     "model_name": "FloatProgressModel",
     "state": {
      "_dom_classes": [],
      "_model_module": "@jupyter-widgets/controls",
      "_model_module_version": "1.5.0",
      "_model_name": "FloatProgressModel",
      "_view_count": null,
      "_view_module": "@jupyter-widgets/controls",
      "_view_module_version": "1.5.0",
      "_view_name": "ProgressView",
      "bar_style": "success",
      "description": "",
      "description_tooltip": null,
      "layout": "IPY_MODEL_d1d1949dcd314d3b882919f15807934c",
      "max": 2,
      "min": 0,
      "orientation": "horizontal",
      "style": "IPY_MODEL_bc749f5834604d498de8f30368aaf08a",
      "value": 2
     }
    },
    "d09f47c01b6c419db9f440c9cc688b22": {
     "model_module": "@jupyter-widgets/controls",
     "model_module_version": "1.5.0",
     "model_name": "HBoxModel",
     "state": {
      "_dom_classes": [],
      "_model_module": "@jupyter-widgets/controls",
      "_model_module_version": "1.5.0",
      "_model_name": "HBoxModel",
      "_view_count": null,
      "_view_module": "@jupyter-widgets/controls",
      "_view_module_version": "1.5.0",
      "_view_name": "HBoxView",
      "box_style": "",
      "children": [
       "IPY_MODEL_9281e0611a9b4bbd928d2f52e5dd8baf",
       "IPY_MODEL_bd904532880647a6bac9a30228705e5c",
       "IPY_MODEL_6ac13eb4d328477a9683cf4535f668b8"
      ],
      "layout": "IPY_MODEL_615036e7ae0143ba88a8d67252580cc8"
     }
    },
    "d1d1949dcd314d3b882919f15807934c": {
     "model_module": "@jupyter-widgets/base",
     "model_module_version": "1.2.0",
     "model_name": "LayoutModel",
     "state": {
      "_model_module": "@jupyter-widgets/base",
      "_model_module_version": "1.2.0",
      "_model_name": "LayoutModel",
      "_view_count": null,
      "_view_module": "@jupyter-widgets/base",
      "_view_module_version": "1.2.0",
      "_view_name": "LayoutView",
      "align_content": null,
      "align_items": null,
      "align_self": null,
      "border": null,
      "bottom": null,
      "display": null,
      "flex": null,
      "flex_flow": null,
      "grid_area": null,
      "grid_auto_columns": null,
      "grid_auto_flow": null,
      "grid_auto_rows": null,
      "grid_column": null,
      "grid_gap": null,
      "grid_row": null,
      "grid_template_areas": null,
      "grid_template_columns": null,
      "grid_template_rows": null,
      "height": null,
      "justify_content": null,
      "justify_items": null,
      "left": null,
      "margin": null,
      "max_height": null,
      "max_width": null,
      "min_height": null,
      "min_width": null,
      "object_fit": null,
      "object_position": null,
      "order": null,
      "overflow": null,
      "overflow_x": null,
      "overflow_y": null,
      "padding": null,
      "right": null,
      "top": null,
      "visibility": null,
      "width": null
     }
    },
    "de28c2ef420f4faba0f2e84af0de9ab4": {
     "model_module": "@jupyter-widgets/base",
     "model_module_version": "1.2.0",
     "model_name": "LayoutModel",
     "state": {
      "_model_module": "@jupyter-widgets/base",
      "_model_module_version": "1.2.0",
      "_model_name": "LayoutModel",
      "_view_count": null,
      "_view_module": "@jupyter-widgets/base",
      "_view_module_version": "1.2.0",
      "_view_name": "LayoutView",
      "align_content": null,
      "align_items": null,
      "align_self": null,
      "border": null,
      "bottom": null,
      "display": null,
      "flex": null,
      "flex_flow": null,
      "grid_area": null,
      "grid_auto_columns": null,
      "grid_auto_flow": null,
      "grid_auto_rows": null,
      "grid_column": null,
      "grid_gap": null,
      "grid_row": null,
      "grid_template_areas": null,
      "grid_template_columns": null,
      "grid_template_rows": null,
      "height": null,
      "justify_content": null,
      "justify_items": null,
      "left": null,
      "margin": null,
      "max_height": null,
      "max_width": null,
      "min_height": null,
      "min_width": null,
      "object_fit": null,
      "object_position": null,
      "order": null,
      "overflow": null,
      "overflow_x": null,
      "overflow_y": null,
      "padding": null,
      "right": null,
      "top": null,
      "visibility": null,
      "width": null
     }
    },
    "f66e952cb32844e39ee6303dccccc7a5": {
     "model_module": "@jupyter-widgets/controls",
     "model_module_version": "1.5.0",
     "model_name": "DescriptionStyleModel",
     "state": {
      "_model_module": "@jupyter-widgets/controls",
      "_model_module_version": "1.5.0",
      "_model_name": "DescriptionStyleModel",
      "_view_count": null,
      "_view_module": "@jupyter-widgets/base",
      "_view_module_version": "1.2.0",
      "_view_name": "StyleView",
      "description_width": ""
     }
    }
   }
  }
 },
 "nbformat": 4,
 "nbformat_minor": 0
}
